{
  "cells": [
    {
      "cell_type": "markdown",
      "metadata": {
        "id": "168QPRizVFFg"
      },
      "source": [
        "**Feature Engineering on Facebook Dataset** "
      ]
    },
    {
      "cell_type": "code",
      "execution_count": 1,
      "metadata": {
        "id": "Q8lS7fVyVFFl"
      },
      "outputs": [],
      "source": [
        "#Importing Libraries\n",
        "# please do go through this python notebook: \n",
        "import warnings\n",
        "warnings.filterwarnings(\"ignore\")\n",
        "\n",
        "import csv\n",
        "import pandas as pd#pandas to create small dataframes \n",
        "import datetime #Convert to unix time\n",
        "import time #Convert to unix time\n",
        "\n",
        "# if numpy is not installed already : pip3 install numpy\n",
        "import numpy as np#Do aritmetic operations on arrays\n",
        "\n",
        "# matplotlib: used to plot graphs\n",
        "import matplotlib\n",
        "import matplotlib.pylab as plt\n",
        "import seaborn as sns#Plots\n",
        "from matplotlib import rcParams#Size of plots  \n",
        "from sklearn.cluster import MiniBatchKMeans, KMeans#Clustering\n",
        "import math\n",
        "import pickle\n",
        "import os\n",
        "\n",
        "# to install xgboost: pip3 install xgboost\n",
        "import xgboost as xgb\n",
        "\n",
        "import warnings\n",
        "import networkx as nx\n",
        "import pdb\n",
        "import pickle\n",
        "from pandas import HDFStore,DataFrame\n",
        "from pandas import read_hdf\n",
        "from scipy.sparse.linalg import svds, eigs\n",
        "import gc\n",
        "from tqdm import tqdm"
      ]
    },
    {
      "cell_type": "markdown",
      "metadata": {
        "id": "1znHayNeVFFt"
      },
      "source": [
        "# 1. Reading Data"
      ]
    },
    {
      "cell_type": "code",
      "execution_count": 2,
      "metadata": {
        "colab": {
          "base_uri": "https://localhost:8080/",
          "height": 0
        },
        "id": "esWW-swWxuj8",
        "outputId": "3ada2a64-56cf-40aa-d41e-7dd21d9b81b3"
      },
      "outputs": [
        {
          "output_type": "execute_result",
          "data": {
            "text/plain": [
              "(9437519, 2)"
            ]
          },
          "metadata": {},
          "execution_count": 2
        }
      ],
      "source": [
        "#Reading data from CSV file\n",
        "original_dataset = pd.read_csv('train.csv')\n",
        "original_dataset.shape"
      ]
    },
    {
      "cell_type": "code",
      "execution_count": 3,
      "metadata": {
        "colab": {
          "base_uri": "https://localhost:8080/",
          "height": 206
        },
        "id": "DFCMRTzQxuj9",
        "outputId": "4e10214e-10bf-45df-9c29-200dfc86a381"
      },
      "outputs": [
        {
          "output_type": "execute_result",
          "data": {
            "text/plain": [
              "   source_node  destination_node\n",
              "0            1            690569\n",
              "1            1            315892\n",
              "2            1            189226\n",
              "3            2            834328\n",
              "4            2           1615927"
            ],
            "text/html": [
              "\n",
              "  <div id=\"df-a4564c47-3e36-47a8-867f-4b449383bff9\">\n",
              "    <div class=\"colab-df-container\">\n",
              "      <div>\n",
              "<style scoped>\n",
              "    .dataframe tbody tr th:only-of-type {\n",
              "        vertical-align: middle;\n",
              "    }\n",
              "\n",
              "    .dataframe tbody tr th {\n",
              "        vertical-align: top;\n",
              "    }\n",
              "\n",
              "    .dataframe thead th {\n",
              "        text-align: right;\n",
              "    }\n",
              "</style>\n",
              "<table border=\"1\" class=\"dataframe\">\n",
              "  <thead>\n",
              "    <tr style=\"text-align: right;\">\n",
              "      <th></th>\n",
              "      <th>source_node</th>\n",
              "      <th>destination_node</th>\n",
              "    </tr>\n",
              "  </thead>\n",
              "  <tbody>\n",
              "    <tr>\n",
              "      <th>0</th>\n",
              "      <td>1</td>\n",
              "      <td>690569</td>\n",
              "    </tr>\n",
              "    <tr>\n",
              "      <th>1</th>\n",
              "      <td>1</td>\n",
              "      <td>315892</td>\n",
              "    </tr>\n",
              "    <tr>\n",
              "      <th>2</th>\n",
              "      <td>1</td>\n",
              "      <td>189226</td>\n",
              "    </tr>\n",
              "    <tr>\n",
              "      <th>3</th>\n",
              "      <td>2</td>\n",
              "      <td>834328</td>\n",
              "    </tr>\n",
              "    <tr>\n",
              "      <th>4</th>\n",
              "      <td>2</td>\n",
              "      <td>1615927</td>\n",
              "    </tr>\n",
              "  </tbody>\n",
              "</table>\n",
              "</div>\n",
              "      <button class=\"colab-df-convert\" onclick=\"convertToInteractive('df-a4564c47-3e36-47a8-867f-4b449383bff9')\"\n",
              "              title=\"Convert this dataframe to an interactive table.\"\n",
              "              style=\"display:none;\">\n",
              "        \n",
              "  <svg xmlns=\"http://www.w3.org/2000/svg\" height=\"24px\"viewBox=\"0 0 24 24\"\n",
              "       width=\"24px\">\n",
              "    <path d=\"M0 0h24v24H0V0z\" fill=\"none\"/>\n",
              "    <path d=\"M18.56 5.44l.94 2.06.94-2.06 2.06-.94-2.06-.94-.94-2.06-.94 2.06-2.06.94zm-11 1L8.5 8.5l.94-2.06 2.06-.94-2.06-.94L8.5 2.5l-.94 2.06-2.06.94zm10 10l.94 2.06.94-2.06 2.06-.94-2.06-.94-.94-2.06-.94 2.06-2.06.94z\"/><path d=\"M17.41 7.96l-1.37-1.37c-.4-.4-.92-.59-1.43-.59-.52 0-1.04.2-1.43.59L10.3 9.45l-7.72 7.72c-.78.78-.78 2.05 0 2.83L4 21.41c.39.39.9.59 1.41.59.51 0 1.02-.2 1.41-.59l7.78-7.78 2.81-2.81c.8-.78.8-2.07 0-2.86zM5.41 20L4 18.59l7.72-7.72 1.47 1.35L5.41 20z\"/>\n",
              "  </svg>\n",
              "      </button>\n",
              "      \n",
              "  <style>\n",
              "    .colab-df-container {\n",
              "      display:flex;\n",
              "      flex-wrap:wrap;\n",
              "      gap: 12px;\n",
              "    }\n",
              "\n",
              "    .colab-df-convert {\n",
              "      background-color: #E8F0FE;\n",
              "      border: none;\n",
              "      border-radius: 50%;\n",
              "      cursor: pointer;\n",
              "      display: none;\n",
              "      fill: #1967D2;\n",
              "      height: 32px;\n",
              "      padding: 0 0 0 0;\n",
              "      width: 32px;\n",
              "    }\n",
              "\n",
              "    .colab-df-convert:hover {\n",
              "      background-color: #E2EBFA;\n",
              "      box-shadow: 0px 1px 2px rgba(60, 64, 67, 0.3), 0px 1px 3px 1px rgba(60, 64, 67, 0.15);\n",
              "      fill: #174EA6;\n",
              "    }\n",
              "\n",
              "    [theme=dark] .colab-df-convert {\n",
              "      background-color: #3B4455;\n",
              "      fill: #D2E3FC;\n",
              "    }\n",
              "\n",
              "    [theme=dark] .colab-df-convert:hover {\n",
              "      background-color: #434B5C;\n",
              "      box-shadow: 0px 1px 3px 1px rgba(0, 0, 0, 0.15);\n",
              "      filter: drop-shadow(0px 1px 2px rgba(0, 0, 0, 0.3));\n",
              "      fill: #FFFFFF;\n",
              "    }\n",
              "  </style>\n",
              "\n",
              "      <script>\n",
              "        const buttonEl =\n",
              "          document.querySelector('#df-a4564c47-3e36-47a8-867f-4b449383bff9 button.colab-df-convert');\n",
              "        buttonEl.style.display =\n",
              "          google.colab.kernel.accessAllowed ? 'block' : 'none';\n",
              "\n",
              "        async function convertToInteractive(key) {\n",
              "          const element = document.querySelector('#df-a4564c47-3e36-47a8-867f-4b449383bff9');\n",
              "          const dataTable =\n",
              "            await google.colab.kernel.invokeFunction('convertToInteractive',\n",
              "                                                     [key], {});\n",
              "          if (!dataTable) return;\n",
              "\n",
              "          const docLinkHtml = 'Like what you see? Visit the ' +\n",
              "            '<a target=\"_blank\" href=https://colab.research.google.com/notebooks/data_table.ipynb>data table notebook</a>'\n",
              "            + ' to learn more about interactive tables.';\n",
              "          element.innerHTML = '';\n",
              "          dataTable['output_type'] = 'display_data';\n",
              "          await google.colab.output.renderOutput(dataTable, element);\n",
              "          const docLink = document.createElement('div');\n",
              "          docLink.innerHTML = docLinkHtml;\n",
              "          element.appendChild(docLink);\n",
              "        }\n",
              "      </script>\n",
              "    </div>\n",
              "  </div>\n",
              "  "
            ]
          },
          "metadata": {},
          "execution_count": 3
        }
      ],
      "source": [
        "original_dataset.head()#Displaying first 5 values"
      ]
    },
    {
      "cell_type": "code",
      "execution_count": 4,
      "metadata": {
        "colab": {
          "base_uri": "https://localhost:8080/",
          "height": 0
        },
        "id": "08gcnv00xuj-",
        "outputId": "3437fa61-ea49-4acd-c7fc-f7e03b4543bc"
      },
      "outputs": [
        {
          "output_type": "stream",
          "name": "stdout",
          "text": [
            "<class 'pandas.core.frame.DataFrame'>\n",
            "RangeIndex: 9437519 entries, 0 to 9437518\n",
            "Data columns (total 2 columns):\n",
            " #   Column            Dtype\n",
            "---  ------            -----\n",
            " 0   source_node       int64\n",
            " 1   destination_node  int64\n",
            "dtypes: int64(2)\n",
            "memory usage: 144.0 MB\n"
          ]
        }
      ],
      "source": [
        "original_dataset.info()#Displaying dataset info"
      ]
    },
    {
      "cell_type": "code",
      "execution_count": 5,
      "metadata": {
        "colab": {
          "base_uri": "https://localhost:8080/",
          "height": 0
        },
        "id": "oRP3MyDpxuj-",
        "outputId": "314d37b1-5469-4ec6-d348-ebed0c8e5943"
      },
      "outputs": [
        {
          "output_type": "execute_result",
          "data": {
            "text/plain": [
              "source_node         0\n",
              "destination_node    0\n",
              "dtype: int64"
            ]
          },
          "metadata": {},
          "execution_count": 5
        }
      ],
      "source": [
        "original_dataset.isnull().sum()#Checking for null values in dataset"
      ]
    },
    {
      "cell_type": "code",
      "execution_count": 6,
      "metadata": {
        "colab": {
          "base_uri": "https://localhost:8080/",
          "height": 0
        },
        "id": "rELBeVYKxuj_",
        "outputId": "9b52d36a-71bc-4b30-a719-92a7127008db"
      },
      "outputs": [
        {
          "output_type": "execute_result",
          "data": {
            "text/plain": [
              "0"
            ]
          },
          "metadata": {},
          "execution_count": 6
        }
      ],
      "source": [
        "original_dataset.duplicated().sum()#Checking duplicated values"
      ]
    },
    {
      "cell_type": "markdown",
      "metadata": {
        "id": "JOqMNP5axukA"
      },
      "source": [
        "## Sampling the 1 Million records"
      ]
    },
    {
      "cell_type": "code",
      "execution_count": 7,
      "metadata": {
        "id": "qak9sOIuxukA"
      },
      "outputs": [],
      "source": [
        "#training dataset\n",
        "train_subset = pd.read_csv('train.csv', nrows=1000000)\n",
        "train_subset.to_csv('train_subset.csv',header=False,index=False)"
      ]
    },
    {
      "cell_type": "code",
      "execution_count": 8,
      "metadata": {
        "colab": {
          "base_uri": "https://localhost:8080/",
          "height": 0
        },
        "id": "w3clZzVxxukA",
        "outputId": "009e8af4-97bf-44d3-cd90-57967a6e22c4"
      },
      "outputs": [
        {
          "output_type": "execute_result",
          "data": {
            "text/plain": [
              "(1000000, 2)"
            ]
          },
          "metadata": {},
          "execution_count": 8
        }
      ],
      "source": [
        "#Shape of the training dataset\n",
        "train_subset.shape"
      ]
    },
    {
      "cell_type": "code",
      "execution_count": 9,
      "metadata": {
        "colab": {
          "base_uri": "https://localhost:8080/",
          "height": 206
        },
        "id": "OJ9ix1LjxukB",
        "outputId": "0cf638a0-815c-4273-8354-65558ff14f1a"
      },
      "outputs": [
        {
          "output_type": "execute_result",
          "data": {
            "text/plain": [
              "   source_node  destination_node\n",
              "0            1            690569\n",
              "1            1            315892\n",
              "2            1            189226\n",
              "3            2            834328\n",
              "4            2           1615927"
            ],
            "text/html": [
              "\n",
              "  <div id=\"df-390852c4-f586-46ed-a420-89d552c54e70\">\n",
              "    <div class=\"colab-df-container\">\n",
              "      <div>\n",
              "<style scoped>\n",
              "    .dataframe tbody tr th:only-of-type {\n",
              "        vertical-align: middle;\n",
              "    }\n",
              "\n",
              "    .dataframe tbody tr th {\n",
              "        vertical-align: top;\n",
              "    }\n",
              "\n",
              "    .dataframe thead th {\n",
              "        text-align: right;\n",
              "    }\n",
              "</style>\n",
              "<table border=\"1\" class=\"dataframe\">\n",
              "  <thead>\n",
              "    <tr style=\"text-align: right;\">\n",
              "      <th></th>\n",
              "      <th>source_node</th>\n",
              "      <th>destination_node</th>\n",
              "    </tr>\n",
              "  </thead>\n",
              "  <tbody>\n",
              "    <tr>\n",
              "      <th>0</th>\n",
              "      <td>1</td>\n",
              "      <td>690569</td>\n",
              "    </tr>\n",
              "    <tr>\n",
              "      <th>1</th>\n",
              "      <td>1</td>\n",
              "      <td>315892</td>\n",
              "    </tr>\n",
              "    <tr>\n",
              "      <th>2</th>\n",
              "      <td>1</td>\n",
              "      <td>189226</td>\n",
              "    </tr>\n",
              "    <tr>\n",
              "      <th>3</th>\n",
              "      <td>2</td>\n",
              "      <td>834328</td>\n",
              "    </tr>\n",
              "    <tr>\n",
              "      <th>4</th>\n",
              "      <td>2</td>\n",
              "      <td>1615927</td>\n",
              "    </tr>\n",
              "  </tbody>\n",
              "</table>\n",
              "</div>\n",
              "      <button class=\"colab-df-convert\" onclick=\"convertToInteractive('df-390852c4-f586-46ed-a420-89d552c54e70')\"\n",
              "              title=\"Convert this dataframe to an interactive table.\"\n",
              "              style=\"display:none;\">\n",
              "        \n",
              "  <svg xmlns=\"http://www.w3.org/2000/svg\" height=\"24px\"viewBox=\"0 0 24 24\"\n",
              "       width=\"24px\">\n",
              "    <path d=\"M0 0h24v24H0V0z\" fill=\"none\"/>\n",
              "    <path d=\"M18.56 5.44l.94 2.06.94-2.06 2.06-.94-2.06-.94-.94-2.06-.94 2.06-2.06.94zm-11 1L8.5 8.5l.94-2.06 2.06-.94-2.06-.94L8.5 2.5l-.94 2.06-2.06.94zm10 10l.94 2.06.94-2.06 2.06-.94-2.06-.94-.94-2.06-.94 2.06-2.06.94z\"/><path d=\"M17.41 7.96l-1.37-1.37c-.4-.4-.92-.59-1.43-.59-.52 0-1.04.2-1.43.59L10.3 9.45l-7.72 7.72c-.78.78-.78 2.05 0 2.83L4 21.41c.39.39.9.59 1.41.59.51 0 1.02-.2 1.41-.59l7.78-7.78 2.81-2.81c.8-.78.8-2.07 0-2.86zM5.41 20L4 18.59l7.72-7.72 1.47 1.35L5.41 20z\"/>\n",
              "  </svg>\n",
              "      </button>\n",
              "      \n",
              "  <style>\n",
              "    .colab-df-container {\n",
              "      display:flex;\n",
              "      flex-wrap:wrap;\n",
              "      gap: 12px;\n",
              "    }\n",
              "\n",
              "    .colab-df-convert {\n",
              "      background-color: #E8F0FE;\n",
              "      border: none;\n",
              "      border-radius: 50%;\n",
              "      cursor: pointer;\n",
              "      display: none;\n",
              "      fill: #1967D2;\n",
              "      height: 32px;\n",
              "      padding: 0 0 0 0;\n",
              "      width: 32px;\n",
              "    }\n",
              "\n",
              "    .colab-df-convert:hover {\n",
              "      background-color: #E2EBFA;\n",
              "      box-shadow: 0px 1px 2px rgba(60, 64, 67, 0.3), 0px 1px 3px 1px rgba(60, 64, 67, 0.15);\n",
              "      fill: #174EA6;\n",
              "    }\n",
              "\n",
              "    [theme=dark] .colab-df-convert {\n",
              "      background-color: #3B4455;\n",
              "      fill: #D2E3FC;\n",
              "    }\n",
              "\n",
              "    [theme=dark] .colab-df-convert:hover {\n",
              "      background-color: #434B5C;\n",
              "      box-shadow: 0px 1px 3px 1px rgba(0, 0, 0, 0.15);\n",
              "      filter: drop-shadow(0px 1px 2px rgba(0, 0, 0, 0.3));\n",
              "      fill: #FFFFFF;\n",
              "    }\n",
              "  </style>\n",
              "\n",
              "      <script>\n",
              "        const buttonEl =\n",
              "          document.querySelector('#df-390852c4-f586-46ed-a420-89d552c54e70 button.colab-df-convert');\n",
              "        buttonEl.style.display =\n",
              "          google.colab.kernel.accessAllowed ? 'block' : 'none';\n",
              "\n",
              "        async function convertToInteractive(key) {\n",
              "          const element = document.querySelector('#df-390852c4-f586-46ed-a420-89d552c54e70');\n",
              "          const dataTable =\n",
              "            await google.colab.kernel.invokeFunction('convertToInteractive',\n",
              "                                                     [key], {});\n",
              "          if (!dataTable) return;\n",
              "\n",
              "          const docLinkHtml = 'Like what you see? Visit the ' +\n",
              "            '<a target=\"_blank\" href=https://colab.research.google.com/notebooks/data_table.ipynb>data table notebook</a>'\n",
              "            + ' to learn more about interactive tables.';\n",
              "          element.innerHTML = '';\n",
              "          dataTable['output_type'] = 'display_data';\n",
              "          await google.colab.output.renderOutput(dataTable, element);\n",
              "          const docLink = document.createElement('div');\n",
              "          docLink.innerHTML = docLinkHtml;\n",
              "          element.appendChild(docLink);\n",
              "        }\n",
              "      </script>\n",
              "    </div>\n",
              "  </div>\n",
              "  "
            ]
          },
          "metadata": {},
          "execution_count": 9
        }
      ],
      "source": [
        "train_subset.head()"
      ]
    },
    {
      "cell_type": "code",
      "execution_count": 10,
      "metadata": {
        "colab": {
          "base_uri": "https://localhost:8080/",
          "height": 0
        },
        "id": "f7vYpqNxxukB",
        "outputId": "4bce4ec1-0fd4-471f-ef8f-3e0fc81db70f"
      },
      "outputs": [
        {
          "output_type": "stream",
          "name": "stdout",
          "text": [
            "<class 'pandas.core.frame.DataFrame'>\n",
            "RangeIndex: 1000000 entries, 0 to 999999\n",
            "Data columns (total 2 columns):\n",
            " #   Column            Non-Null Count    Dtype\n",
            "---  ------            --------------    -----\n",
            " 0   source_node       1000000 non-null  int64\n",
            " 1   destination_node  1000000 non-null  int64\n",
            "dtypes: int64(2)\n",
            "memory usage: 15.3 MB\n"
          ]
        }
      ],
      "source": [
        "train_subset.info()"
      ]
    },
    {
      "cell_type": "code",
      "execution_count": 11,
      "metadata": {
        "colab": {
          "base_uri": "https://localhost:8080/",
          "height": 0
        },
        "id": "sRo0p3lTxukB",
        "outputId": "30c6acfd-aed7-49bd-98d2-055f80e5b110"
      },
      "outputs": [
        {
          "output_type": "execute_result",
          "data": {
            "text/plain": [
              "source_node         0\n",
              "destination_node    0\n",
              "dtype: int64"
            ]
          },
          "metadata": {},
          "execution_count": 11
        }
      ],
      "source": [
        "train_subset.isnull().sum()"
      ]
    },
    {
      "cell_type": "code",
      "execution_count": 12,
      "metadata": {
        "colab": {
          "base_uri": "https://localhost:8080/",
          "height": 0
        },
        "id": "y1zVc4z4xukC",
        "outputId": "92fbf898-435a-4a8d-a8fa-7a7709fcc74f"
      },
      "outputs": [
        {
          "output_type": "execute_result",
          "data": {
            "text/plain": [
              "0"
            ]
          },
          "metadata": {},
          "execution_count": 12
        }
      ],
      "source": [
        "train_subset.duplicated().sum()"
      ]
    },
    {
      "cell_type": "code",
      "execution_count": 13,
      "metadata": {
        "colab": {
          "base_uri": "https://localhost:8080/",
          "height": 0
        },
        "id": "TkYGTDzvxukC",
        "outputId": "a2fb5d86-7dc2-4e90-faf3-bbf54550e92f"
      },
      "outputs": [
        {
          "output_type": "stream",
          "name": "stdout",
          "text": [
            "DiGraph with 685775 nodes and 1000000 edges\n"
          ]
        }
      ],
      "source": [
        "#To find number of edges and nodes \n",
        "graph = nx.read_edgelist('train_subset.csv',delimiter=',',create_using=nx.DiGraph(),nodetype=int)\n",
        "print(nx.info(graph))"
      ]
    },
    {
      "cell_type": "markdown",
      "metadata": {
        "id": "rwuar7SExukD"
      },
      "source": [
        "## Number of Followers and Followees"
      ]
    },
    {
      "cell_type": "code",
      "execution_count": 14,
      "metadata": {
        "id": "uEKshMZMxukD"
      },
      "outputs": [],
      "source": [
        "#Defining number of followers function\n",
        "def num_followers(a):\n",
        "    return len(list(set(graph.predecessors(a))))"
      ]
    },
    {
      "cell_type": "code",
      "execution_count": 15,
      "metadata": {
        "id": "uyAtAE3gxukD"
      },
      "outputs": [],
      "source": [
        "##Defining number of followees function\n",
        "def num_followees(a):\n",
        "    return len(list(set(graph.successors(a))))"
      ]
    },
    {
      "cell_type": "code",
      "execution_count": 16,
      "metadata": {
        "id": "1tlcaOSGxukE"
      },
      "outputs": [],
      "source": [
        "train_subset['num_of_source_followers'] = train_subset.source_node.apply(num_followers)"
      ]
    },
    {
      "cell_type": "code",
      "execution_count": 17,
      "metadata": {
        "colab": {
          "base_uri": "https://localhost:8080/",
          "height": 0
        },
        "id": "xh7lJQdhxukE",
        "outputId": "f9797cd4-e87f-4f88-e713-75df215b3fc8"
      },
      "outputs": [
        {
          "output_type": "execute_result",
          "data": {
            "text/plain": [
              "array([ 1,  0,  2,  3,  4,  5,  6, 10,  9, 44,  8,  7, 17, 39, 18, 23, 28,\n",
              "       11, 12, 32, 34, 14, 21, 13, 16, 19, 40, 15, 35, 22, 36, 29, 25, 20,\n",
              "       45, 26, 50, 24, 30, 51, 31, 41])"
            ]
          },
          "metadata": {},
          "execution_count": 17
        }
      ],
      "source": [
        "train_subset.num_of_source_followers.unique()"
      ]
    },
    {
      "cell_type": "code",
      "execution_count": 18,
      "metadata": {
        "id": "P9jrGluAxukF"
      },
      "outputs": [],
      "source": [
        "#Counting values from list\n",
        "value_counts = train_subset.num_of_source_followers.value_counts()\n",
        "values = list(value_counts.index)[1:]\n",
        "counts = list(value_counts)[1:]"
      ]
    },
    {
      "cell_type": "code",
      "execution_count": 19,
      "metadata": {
        "colab": {
          "base_uri": "https://localhost:8080/",
          "height": 295
        },
        "id": "cxi2YUTcxukG",
        "outputId": "f8849ed8-0cfb-46b3-da33-c9e0026b3666"
      },
      "outputs": [
        {
          "output_type": "display_data",
          "data": {
            "text/plain": [
              "<Figure size 432x288 with 1 Axes>"
            ],
            "image/png": "[encoded data removed]"
          },
          "metadata": {
            "needs_background": "light"
          }
        }
      ],
      "source": [
        "#Plotting scatter plot\n",
        "plt.plot(values, counts)\n",
        "plt.scatter(values, counts)\n",
        "\n",
        "plt.xlabel(\"Number of Source followers\")\n",
        "plt.ylabel(\"Count\")\n",
        "plt.title(\"Number of Source followers and its count\")\n",
        "plt.grid()\n",
        "plt.show()"
      ]
    },
    {
      "cell_type": "code",
      "execution_count": 20,
      "metadata": {
        "id": "0GDYrtR3xukH"
      },
      "outputs": [],
      "source": [
        "train_subset['num_of_source_followees'] = train_subset.source_node.apply(num_followees)"
      ]
    },
    {
      "cell_type": "code",
      "execution_count": 21,
      "metadata": {
        "colab": {
          "base_uri": "https://localhost:8080/",
          "height": 0
        },
        "id": "P56yhSlQxukH",
        "outputId": "be3a2843-6af1-49a1-b6f5-3aa01864fe23"
      },
      "outputs": [
        {
          "output_type": "execute_result",
          "data": {
            "text/plain": [
              "array([  3,   6,   2,   1,  12,  15,   5,   4,  30,   8,   9,  16,  21,\n",
              "        17,   7,  11,  27,  13,  23,  47,  10,  37,  38,  20,  19,  18,\n",
              "        14,  24,  29,  36,  32,  54,  50,  31,  35,  53,  34,  55,  57,\n",
              "        22, 216,  26,  78,  25,  43,  52,  81,  41,  83, 134,  59, 110,\n",
              "        33,  48,  40,  39,  42,  60,  73, 270,  70,  28,  58,  80,  44,\n",
              "        66,  45, 194,  63,  97,  67,  92, 242,  51, 895,  71, 219, 101,\n",
              "       107,  74, 112, 115,  64,  72,  91,  86, 126,  49,  46,  75,  65,\n",
              "       118, 140,  69, 138, 123, 137,  56, 160,  82, 143, 164, 113,  79,\n",
              "        68,  61,  85, 103, 106, 108, 100, 184,  93, 130,  62, 144,  87,\n",
              "        98, 149, 239, 104, 120,  90, 249, 135,  77,  89,  94, 132, 155,\n",
              "       148,  95,  99, 150, 125, 181, 142, 102, 280, 121, 217, 105, 205,\n",
              "       116, 152, 109, 293,  88, 119, 165, 174, 275,  84, 156, 133, 131,\n",
              "       327, 124, 117, 212, 252, 111, 154, 169, 183, 211, 129,  96, 228,\n",
              "        76, 128, 175, 122, 210, 226, 208, 223, 200, 236, 176, 146, 229,\n",
              "       264, 196, 173, 276, 221, 185, 245, 218, 166, 145, 231, 227, 147,\n",
              "       159, 215, 235, 153, 158, 274, 171, 213, 759, 187, 136, 190, 241,\n",
              "       258, 151, 251, 141, 178, 301, 139, 291, 214, 203, 161, 204, 198,\n",
              "       307, 253, 300, 168, 333, 202, 167, 240])"
            ]
          },
          "metadata": {},
          "execution_count": 21
        }
      ],
      "source": [
        "#Displaying Unique Values\n",
        "train_subset.num_of_source_followees.unique()"
      ]
    },
    {
      "cell_type": "code",
      "execution_count": 22,
      "metadata": {
        "id": "F1U714RqxukH"
      },
      "outputs": [],
      "source": [
        "#Counting values from list\n",
        "value_counts = train_subset.num_of_source_followees.value_counts()\n",
        "values = list(value_counts.index)[1:]\n",
        "counts = list(value_counts)[1:]"
      ]
    },
    {
      "cell_type": "code",
      "execution_count": 23,
      "metadata": {
        "colab": {
          "base_uri": "https://localhost:8080/",
          "height": 295
        },
        "id": "Yv1-gR10xukI",
        "outputId": "fcde1cee-a6d8-457b-fd2e-5dd3b61683ea"
      },
      "outputs": [
        {
          "output_type": "display_data",
          "data": {
            "text/plain": [
              "<Figure size 432x288 with 1 Axes>"
            ],
            "image/png": "[encoded data removed]"
          },
          "metadata": {
            "needs_background": "light"
          }
        }
      ],
      "source": [
        "plt.plot(values, counts)\n",
        "plt.scatter(values, counts)#Scatter Plot\n",
        "\n",
        "plt.xlabel(\"Number of Source followees\")\n",
        "plt.ylabel(\"Count\")\n",
        "plt.title(\"Number of Source followees and its count\")\n",
        "plt.grid()\n",
        "plt.show()"
      ]
    },
    {
      "cell_type": "code",
      "execution_count": 24,
      "metadata": {
        "id": "mbW_SxIaxukI"
      },
      "outputs": [],
      "source": [
        "train_subset['num_of_destination_followers'] = train_subset.destination_node.apply(num_followers)"
      ]
    },
    {
      "cell_type": "code",
      "execution_count": 25,
      "metadata": {
        "colab": {
          "base_uri": "https://localhost:8080/",
          "height": 0
        },
        "id": "SLdVTvdWxukI",
        "outputId": "7939dfde-462f-42ed-e05a-8fd416bc3c9e"
      },
      "outputs": [
        {
          "output_type": "execute_result",
          "data": {
            "text/plain": [
              "array([ 3,  2,  5,  4,  1,  8, 11,  9,  6,  7, 10, 12, 18, 17, 13, 14, 28,\n",
              "       15, 16, 20, 27, 24, 25, 41, 51, 48, 54, 49, 37, 39, 45, 44, 40, 42,\n",
              "       43, 38, 34, 36, 33, 32, 23, 29, 30, 35, 31, 26, 22, 19, 21, 50, 46,\n",
              "       47, 52])"
            ]
          },
          "metadata": {},
          "execution_count": 25
        }
      ],
      "source": [
        "train_subset.num_of_destination_followers.unique()"
      ]
    },
    {
      "cell_type": "code",
      "execution_count": 26,
      "metadata": {
        "id": "TlWB_wQuxukI"
      },
      "outputs": [],
      "source": [
        "value_counts = train_subset.num_of_destination_followers.value_counts()\n",
        "values = list(value_counts.index)[1:]\n",
        "counts = list(value_counts)[1:]"
      ]
    },
    {
      "cell_type": "code",
      "execution_count": 27,
      "metadata": {
        "colab": {
          "base_uri": "https://localhost:8080/",
          "height": 295
        },
        "id": "7SD0dTS-xukJ",
        "outputId": "c63b8ad7-251c-4e93-858c-18d96db257c5"
      },
      "outputs": [
        {
          "output_type": "display_data",
          "data": {
            "text/plain": [
              "<Figure size 432x288 with 1 Axes>"
            ],
            "image/png": "[encoded data removed]"
          },
          "metadata": {
            "needs_background": "light"
          }
        }
      ],
      "source": [
        "plt.plot(values, counts)\n",
        "plt.scatter(values, counts)#Scatter Plot\n",
        "\n",
        "plt.xlabel(\"Number of Destination followers\")\n",
        "plt.ylabel(\"Count\")\n",
        "plt.title(\"Number of Destination followers and its count\")\n",
        "plt.grid()\n",
        "plt.show()"
      ]
    },
    {
      "cell_type": "code",
      "execution_count": 28,
      "metadata": {
        "id": "TgP3Wmb7xukJ"
      },
      "outputs": [],
      "source": [
        "train_subset['num_of_destination_followees'] = train_subset.destination_node.apply(num_followees)"
      ]
    },
    {
      "cell_type": "code",
      "execution_count": 29,
      "metadata": {
        "colab": {
          "base_uri": "https://localhost:8080/",
          "height": 0
        },
        "id": "mT742I2lxukJ",
        "outputId": "c323600a-ee4c-4007-af67-6b1081f4192c"
      },
      "outputs": [
        {
          "output_type": "execute_result",
          "data": {
            "text/plain": [
              "array([  0,   4,  14,  31,   3,  19,  63,  18,   1,   2,  10,  13,  15,\n",
              "        20,  17,  29,  11,  22,  32,  12,  24,   7,   6,  16,  26,   8,\n",
              "        38,  27,   5,  44,  23,  36,   9,  40,  89,  51,  34,  28,  80,\n",
              "        37,  33,  39,  25,  48,  21,  42,  61,  30,  35,  66,  56, 107,\n",
              "       181,  65,  64,  84,  60,  72,  81,  41,  93, 200, 223, 212, 138,\n",
              "       164, 235, 154, 160, 258, 128, 185, 122, 125, 158, 264, 121, 152,\n",
              "        73,  97, 174,  99,  91, 130,  85, 169,  47, 196,  68,  53,  92,\n",
              "       105,  52, 156,  98, 104, 147,  45,  49,  59,  69,  58,  71,  46,\n",
              "       118, 123, 120, 100,  77,  94, 155,  57,  43, 106,  78, 187, 110,\n",
              "       205, 245, 231, 139, 211, 153, 213, 135, 132,  62,  50,  74,  55,\n",
              "       133,  83,  79,  76,  67, 216, 227, 165, 202, 198, 219, 166, 203,\n",
              "       167,  87, 113, 109, 116, 144, 291,  54, 176,  75, 124, 136,  82,\n",
              "        86,  95,  88, 140,  96, 141, 115, 148, 142, 103, 270, 173,  90,\n",
              "       137,  70, 239, 129, 210, 117, 143, 252, 194, 184, 111, 274, 293,\n",
              "       307, 161, 102, 150, 171, 217, 112, 126, 168, 134, 249, 119, 236,\n",
              "       242, 228, 131, 145, 149, 178, 215, 229, 226, 276, 208, 190, 108,\n",
              "       204, 333, 301, 183, 280, 159, 101, 275, 240, 253, 151, 241, 251,\n",
              "       146, 895, 221, 214, 300, 175, 327, 218])"
            ]
          },
          "metadata": {},
          "execution_count": 29
        }
      ],
      "source": [
        "\n",
        "train_subset.num_of_destination_followees.unique()"
      ]
    },
    {
      "cell_type": "code",
      "execution_count": 30,
      "metadata": {
        "id": "Xz_WC7RLxukJ"
      },
      "outputs": [],
      "source": [
        "value_counts = train_subset.num_of_destination_followees.value_counts()\n",
        "values = list(value_counts.index)[1:]\n",
        "counts = list(value_counts)[1:]"
      ]
    },
    {
      "cell_type": "code",
      "execution_count": 31,
      "metadata": {
        "colab": {
          "base_uri": "https://localhost:8080/",
          "height": 295
        },
        "id": "fE5DjqbRxukJ",
        "outputId": "b48ec8d4-ed39-46f5-f170-212f40db8114"
      },
      "outputs": [
        {
          "output_type": "display_data",
          "data": {
            "text/plain": [
              "<Figure size 432x288 with 1 Axes>"
            ],
            "image/png": "[encoded data removed]"
          },
          "metadata": {
            "needs_background": "light"
          }
        }
      ],
      "source": [
        "plt.plot(values, counts)\n",
        "plt.scatter(values, counts)#Scatter Plot\n",
        "\n",
        "plt.xlabel(\"Number of Destination followees\")\n",
        "plt.ylabel(\"Count\")\n",
        "plt.title(\"Number of Destination followees and its count\")\n",
        "plt.grid()\n",
        "plt.show()"
      ]
    },
    {
      "cell_type": "markdown",
      "metadata": {
        "id": "yIuVEWEmxukK"
      },
      "source": [
        "## Number of common followers and common followees"
      ]
    },
    {
      "cell_type": "code",
      "execution_count": 32,
      "metadata": {
        "id": "VzA3hEm0xukK"
      },
      "outputs": [],
      "source": [
        "#Defining Number of common followers function\n",
        "def num_of_common_followers(a,b):\n",
        "    a_followers = list(set(graph.predecessors(a)))\n",
        "    if b in a_followers:\n",
        "        a_followers.remove(b)\n",
        "    b_followers = list(set(graph.predecessors(b)))\n",
        "    if a in b_followers:\n",
        "        b_followers.remove(a)\n",
        "    return len(set(a_followers).intersection(set(b_followers)))"
      ]
    },
    {
      "cell_type": "code",
      "execution_count": 33,
      "metadata": {
        "id": "YRYc_8JKxukK"
      },
      "outputs": [],
      "source": [
        "#Defining Number of common followees function\n",
        "def num_of_common_followees(a,b):\n",
        "    a_followees = list(set(graph.successors(a)))\n",
        "    if b in a_followees:\n",
        "        a_followees.remove(b)\n",
        "    b_followees = list(set(graph.successors(b)))\n",
        "    if a in b_followees:\n",
        "        b_followees.remove(a)\n",
        "    return len(set(a_followees).intersection(set(b_followees)))"
      ]
    },
    {
      "cell_type": "code",
      "execution_count": 34,
      "metadata": {
        "id": "f0XPxI0txukK"
      },
      "outputs": [],
      "source": [
        "train_subset['num_of_common_followers'] = train_subset.apply(lambda row: num_of_common_followers(row['source_node'],row['destination_node']),axis=1)"
      ]
    },
    {
      "cell_type": "code",
      "execution_count": 35,
      "metadata": {
        "colab": {
          "base_uri": "https://localhost:8080/",
          "height": 0
        },
        "id": "ifSoJ7Y4xukK",
        "outputId": "187d27a7-1a22-40c3-a5da-ba1b57439eb3"
      },
      "outputs": [
        {
          "output_type": "execute_result",
          "data": {
            "text/plain": [
              "array([ 1,  0,  2,  3,  4, 22, 12, 24, 39, 43, 42, 32, 33, 41, 38, 35, 37,\n",
              "       36, 31, 30, 34, 27, 29, 25, 18, 28, 26, 23, 21, 16, 11, 20, 17, 14,\n",
              "       15, 13, 10,  9,  7,  6, 19,  5,  8, 44, 40, 45])"
            ]
          },
          "metadata": {},
          "execution_count": 35
        }
      ],
      "source": [
        "train_subset.num_of_common_followers.unique()"
      ]
    },
    {
      "cell_type": "code",
      "execution_count": 36,
      "metadata": {
        "id": "bFxZJt3sxukL"
      },
      "outputs": [],
      "source": [
        "value_counts = train_subset.num_of_common_followers.value_counts()\n",
        "values = list(value_counts.index)[1:]\n",
        "counts = list(value_counts)[1:]"
      ]
    },
    {
      "cell_type": "code",
      "execution_count": 37,
      "metadata": {
        "colab": {
          "base_uri": "https://localhost:8080/",
          "height": 295
        },
        "id": "QUX4OT02xukL",
        "outputId": "3a30cea1-6c07-407e-b92c-1d87a4833be6"
      },
      "outputs": [
        {
          "output_type": "display_data",
          "data": {
            "text/plain": [
              "<Figure size 432x288 with 1 Axes>"
            ],
            "image/png": "[encoded data removed]"
          },
          "metadata": {
            "needs_background": "light"
          }
        }
      ],
      "source": [
        "plt.plot(values, counts)\n",
        "plt.scatter(values, counts)#Scatter Plot\n",
        "\n",
        "plt.xlabel(\"Number of Common followers\")\n",
        "plt.ylabel(\"Count\")\n",
        "plt.title(\"Number of Common followers and its count\")\n",
        "plt.grid()\n",
        "plt.show()"
      ]
    },
    {
      "cell_type": "code",
      "execution_count": 38,
      "metadata": {
        "id": "zkmRAihhxukL"
      },
      "outputs": [],
      "source": [
        "train_subset['num_of_common_followees'] = train_subset.apply(lambda row: num_of_common_followees(row['source_node'],row['destination_node']),axis=1)"
      ]
    },
    {
      "cell_type": "code",
      "execution_count": 39,
      "metadata": {
        "colab": {
          "base_uri": "https://localhost:8080/",
          "height": 0
        },
        "id": "9uKGiOQjxukL",
        "outputId": "6ffa41f2-7d81-4589-a715-9cbb80794282"
      },
      "outputs": [
        {
          "output_type": "execute_result",
          "data": {
            "text/plain": [
              "array([  0,   1,   3,   2,   9,   4,  10,   8,   5,   7,   6,  11,  13,\n",
              "        15,  25,  12,  49,  51,  31,  17,  20,  48, 134, 113, 121, 155,\n",
              "       209, 129, 152, 149, 111, 170,  88, 109, 143,  24,  21,  37,  19,\n",
              "        75,  60,  36,  58,  76,  14,  16,  61,  65,  70,  66,  27,  18,\n",
              "       103, 107, 105,  69,  92,  81,  93,  39,  33,  32,  56,  47,  43,\n",
              "        45,  34,  22, 131, 106, 203, 241, 162, 104,  77,  28, 226, 102,\n",
              "       138, 151, 136,  72,  38,  63,  35,  59,  57, 178, 112, 173, 126,\n",
              "       175, 154, 145, 128, 148, 174,  30,  46,  23,  86,  91,  82,  29,\n",
              "        40,  41,  50,  53,  44,  90,  71,  68,  74,  52,  67,  78,  95,\n",
              "        79,  94, 114,  96,  62,  55,  84,  42,  26,  89, 123, 122, 118,\n",
              "       110, 101,  64, 120, 135, 116, 108,  83, 115,  80,  87, 159, 158,\n",
              "       133, 150, 117, 119, 141, 161,  73, 125,  54,  98, 100,  85,  97,\n",
              "       144, 124,  99, 130, 139, 140, 167, 157, 214, 198, 196, 187, 211,\n",
              "       210, 219, 229, 202, 248, 171, 164, 160, 132, 137, 220, 217, 255,\n",
              "       201, 224, 320, 232, 242, 246, 190, 181, 163, 199, 165, 180, 172,\n",
              "       147, 127, 169, 206, 212, 184, 197, 166, 193, 204, 191, 223, 192,\n",
              "       208, 221, 231, 207, 183, 185, 188, 176, 168, 153, 189, 213, 186,\n",
              "       230, 156, 292, 252, 263, 238, 215])"
            ]
          },
          "metadata": {},
          "execution_count": 39
        }
      ],
      "source": [
        "train_subset.num_of_common_followees.unique()"
      ]
    },
    {
      "cell_type": "code",
      "execution_count": 40,
      "metadata": {
        "id": "jqKKHAQwxukL"
      },
      "outputs": [],
      "source": [
        "value_counts = train_subset.num_of_common_followees.value_counts()\n",
        "values = list(value_counts.index)[1:]\n",
        "counts = list(value_counts)[1:]"
      ]
    },
    {
      "cell_type": "code",
      "execution_count": 41,
      "metadata": {
        "colab": {
          "base_uri": "https://localhost:8080/",
          "height": 295
        },
        "id": "inXzs6VUxukM",
        "outputId": "4e8c80dd-53c8-4f7e-b244-995841c85fe6"
      },
      "outputs": [
        {
          "output_type": "display_data",
          "data": {
            "text/plain": [
              "<Figure size 432x288 with 1 Axes>"
            ],
            "image/png": "[encoded data removed]"
          },
          "metadata": {
            "needs_background": "light"
          }
        }
      ],
      "source": [
        "plt.plot(values, counts)\n",
        "plt.scatter(values, counts)#Scatter plot\n",
        "\n",
        "plt.xlabel(\"Number of Common followers\")\n",
        "plt.ylabel(\"Count\")\n",
        "plt.title(\"Number of Common followers and its count\")\n",
        "plt.grid()\n",
        "plt.show()"
      ]
    },
    {
      "cell_type": "markdown",
      "metadata": {
        "id": "EDoDAKZwxukM"
      },
      "source": [
        "## Jaccard Similarity for Followers and Followees"
      ]
    },
    {
      "cell_type": "code",
      "execution_count": 42,
      "metadata": {
        "id": "ncOpT3yQxukM"
      },
      "outputs": [],
      "source": [
        "#Defining Jaccard Similarity for Followers function\n",
        "def jaccard_followers(a,b):\n",
        "    try:\n",
        "        X = set(graph.predecessors(a))\n",
        "        Y = set(graph.predecessors(b))\n",
        "        if len(X) == 0  | len(Y) == 0:\n",
        "            return 0\n",
        "        similarity = len(X.intersection(Y))/len(X.union(Y))\n",
        "        return similarity\n",
        "    except:\n",
        "        return 0"
      ]
    },
    {
      "cell_type": "code",
      "execution_count": 43,
      "metadata": {
        "id": "x5FOJ9bAxukM"
      },
      "outputs": [],
      "source": [
        "#Defining Jaccard Similarity for Followees function\n",
        "def jaccard_followees(a,b):\n",
        "    try:\n",
        "        X = set(graph.successors(a))\n",
        "        Y = set(graph.successors(b))\n",
        "        if len(X) == 0  | len(Y) == 0:\n",
        "            return 0\n",
        "        similarity = len(X.intersection(Y))/len(X.union(Y))\n",
        "    except:\n",
        "        return 0\n",
        "    return similarity"
      ]
    },
    {
      "cell_type": "code",
      "execution_count": 44,
      "metadata": {
        "id": "Hi6kbLNdxukM"
      },
      "outputs": [],
      "source": [
        "train_subset['jaccard_similarity_followers'] = train_subset.apply(lambda row: jaccard_followers(row['source_node'],row['destination_node']),axis=1)"
      ]
    },
    {
      "cell_type": "code",
      "execution_count": 45,
      "metadata": {
        "colab": {
          "base_uri": "https://localhost:8080/",
          "height": 0
        },
        "id": "N9lyc8YZxukN",
        "outputId": "a654aeda-5df0-4883-e77c-4d4db97c0f14"
      },
      "outputs": [
        {
          "output_type": "execute_result",
          "data": {
            "text/plain": [
              "0    0.333333\n",
              "1    0.000000\n",
              "2    0.000000\n",
              "3    0.000000\n",
              "4    0.000000\n",
              "Name: jaccard_similarity_followers, dtype: float64"
            ]
          },
          "metadata": {},
          "execution_count": 45
        }
      ],
      "source": [
        "train_subset['jaccard_similarity_followers'].head()"
      ]
    },
    {
      "cell_type": "code",
      "execution_count": 46,
      "metadata": {
        "colab": {
          "base_uri": "https://localhost:8080/",
          "height": 282
        },
        "id": "hznbI49YxukN",
        "outputId": "019dab25-602f-4d0e-83f7-6e5603fd93e1"
      },
      "outputs": [
        {
          "output_type": "display_data",
          "data": {
            "text/plain": [
              "<Figure size 432x288 with 1 Axes>"
            ],
            "image/png": "[encoded data removed]"
          },
          "metadata": {
            "needs_background": "light"
          }
        }
      ],
      "source": [
        "train_subset['jaccard_similarity_followers'].plot.box()\n",
        "plt.title(\"Box Plot for jaccard_similarity_followers\")#Box Plot\n",
        "plt.show()"
      ]
    },
    {
      "cell_type": "code",
      "execution_count": 47,
      "metadata": {
        "colab": {
          "base_uri": "https://localhost:8080/",
          "height": 0
        },
        "id": "1e4MhoTuxukN",
        "outputId": "bbfc3735-fe49-46d4-d577-fadee1c99588"
      },
      "outputs": [
        {
          "output_type": "execute_result",
          "data": {
            "text/plain": [
              "count    1000000.000000\n",
              "mean           0.075920\n",
              "std            0.174328\n",
              "min            0.000000\n",
              "25%            0.000000\n",
              "50%            0.000000\n",
              "75%            0.000000\n",
              "max            0.954545\n",
              "Name: jaccard_similarity_followers, dtype: float64"
            ]
          },
          "metadata": {},
          "execution_count": 47
        }
      ],
      "source": [
        "train_subset['jaccard_similarity_followers'].describe()"
      ]
    },
    {
      "cell_type": "code",
      "execution_count": 48,
      "metadata": {
        "colab": {
          "base_uri": "https://localhost:8080/",
          "height": 0
        },
        "id": "yvIK4qwNxukN",
        "outputId": "a80722d8-fe53-4f82-fdc4-a504c70116b1"
      },
      "outputs": [
        {
          "output_type": "stream",
          "name": "stdout",
          "text": [
            "Following are the Percentiles of jaccard_similarity_followers\n",
            "--------------------------------------------------\n",
            "The 80 percentile values is :  0.09090909090909091\n",
            "The 90 percentile values is :  0.3333333333333333\n",
            "The 95 percentile values is :  0.5\n",
            "The 99 percentile values is :  0.75\n",
            "The 100 percentile values is :  0.9545454545454546\n"
          ]
        }
      ],
      "source": [
        "#Percentiles of jaccard_similarity_followers\n",
        "print(\"Following are the Percentiles of jaccard_similarity_followers\")\n",
        "print(\"-\"*50)\n",
        "print(\"The 80 percentile values is : \",train_subset['jaccard_similarity_followers'].quantile(0.8))\n",
        "print(\"The 90 percentile values is : \",train_subset['jaccard_similarity_followers'].quantile(0.9))\n",
        "print(\"The 95 percentile values is : \",train_subset['jaccard_similarity_followers'].quantile(0.95))\n",
        "print(\"The 99 percentile values is : \",train_subset['jaccard_similarity_followers'].quantile(0.99))\n",
        "print(\"The 100 percentile values is : \",train_subset['jaccard_similarity_followers'].quantile(1))"
      ]
    },
    {
      "cell_type": "code",
      "execution_count": 49,
      "metadata": {
        "id": "KUtFfQAYxukO"
      },
      "outputs": [],
      "source": [
        "train_subset['jaccard_similarity_followees'] = train_subset.apply(lambda row: jaccard_followees(row['source_node'],row['destination_node']),axis=1)"
      ]
    },
    {
      "cell_type": "code",
      "execution_count": 50,
      "metadata": {
        "colab": {
          "base_uri": "https://localhost:8080/",
          "height": 0
        },
        "id": "rdU4-jwkxukO",
        "outputId": "1c504c84-372b-4c2a-c6c9-f11ec0265955"
      },
      "outputs": [
        {
          "output_type": "execute_result",
          "data": {
            "text/plain": [
              "0    0.000000\n",
              "1    0.000000\n",
              "2    0.166667\n",
              "3    0.000000\n",
              "4    0.000000\n",
              "Name: jaccard_similarity_followees, dtype: float64"
            ]
          },
          "metadata": {},
          "execution_count": 50
        }
      ],
      "source": [
        "train_subset['jaccard_similarity_followees'].head()"
      ]
    },
    {
      "cell_type": "code",
      "execution_count": 51,
      "metadata": {
        "colab": {
          "base_uri": "https://localhost:8080/",
          "height": 282
        },
        "id": "jK_WzGC-xukO",
        "outputId": "0338a654-5d10-4776-d57c-d1224e18ad6d"
      },
      "outputs": [
        {
          "output_type": "display_data",
          "data": {
            "text/plain": [
              "<Figure size 432x288 with 1 Axes>"
            ],
            "image/png": "[encoded data removed]"
          },
          "metadata": {
            "needs_background": "light"
          }
        }
      ],
      "source": [
        "train_subset['jaccard_similarity_followees'].plot.box()\n",
        "plt.title(\"Box Plot for jaccard_similarity_followees\")#Box Plot\n",
        "plt.show()"
      ]
    },
    {
      "cell_type": "code",
      "execution_count": 52,
      "metadata": {
        "colab": {
          "base_uri": "https://localhost:8080/",
          "height": 0
        },
        "id": "f55CuqD3xukO",
        "outputId": "cb5202b3-03e7-4b0d-b934-3cd81fbda878"
      },
      "outputs": [
        {
          "output_type": "execute_result",
          "data": {
            "text/plain": [
              "count    1000000.000000\n",
              "mean           0.011588\n",
              "std            0.068378\n",
              "min            0.000000\n",
              "25%            0.000000\n",
              "50%            0.000000\n",
              "75%            0.000000\n",
              "max            0.991379\n",
              "Name: jaccard_similarity_followees, dtype: float64"
            ]
          },
          "metadata": {},
          "execution_count": 52
        }
      ],
      "source": [
        "train_subset['jaccard_similarity_followees'].describe()"
      ]
    },
    {
      "cell_type": "code",
      "execution_count": 53,
      "metadata": {
        "colab": {
          "base_uri": "https://localhost:8080/",
          "height": 0
        },
        "id": "LAfczrhOxukO",
        "outputId": "5992298c-dfc2-490f-a64b-f347cb6e8f53"
      },
      "outputs": [
        {
          "output_type": "stream",
          "name": "stdout",
          "text": [
            "Following are the Percentiles of jaccard_similarity_followees\n",
            "--------------------------------------------------\n",
            "The 80 percentile values is :  0.0\n",
            "The 90 percentile values is :  0.0\n",
            "The 95 percentile values is :  0.04\n",
            "The 99 percentile values is :  0.3333333333333333\n",
            "The 100 percentile values is :  0.9913793103448276\n"
          ]
        }
      ],
      "source": [
        "#the Percentiles of jaccard_similarity_followees\n",
        "print(\"Following are the Percentiles of jaccard_similarity_followees\")\n",
        "print(\"-\"*50)\n",
        "print(\"The 80 percentile values is : \",train_subset['jaccard_similarity_followees'].quantile(0.8))\n",
        "print(\"The 90 percentile values is : \",train_subset['jaccard_similarity_followees'].quantile(0.9))\n",
        "print(\"The 95 percentile values is : \",train_subset['jaccard_similarity_followees'].quantile(0.95))\n",
        "print(\"The 99 percentile values is : \",train_subset['jaccard_similarity_followees'].quantile(0.99))\n",
        "print(\"The 100 percentile values is : \",train_subset['jaccard_similarity_followees'].quantile(1))"
      ]
    },
    {
      "cell_type": "markdown",
      "metadata": {
        "id": "ctI4xon9xukP"
      },
      "source": [
        "## Cosine Similarity for Followers and Followees"
      ]
    },
    {
      "cell_type": "code",
      "execution_count": 54,
      "metadata": {
        "id": "yhYNqvFgxukP"
      },
      "outputs": [],
      "source": [
        "#Defining Cosine Similarity for followers function\n",
        "def cosine_followees(a,b):\n",
        "    try:\n",
        "        X = set(graph.successors(a))\n",
        "        Y = set(graph.successors(b))\n",
        "        if len(X) == 0  | len(Y) == 0:\n",
        "            return 0\n",
        "        similarity = len(X.intersection(Y))/(math.sqrt(len(X))*(len(Y)))\n",
        "        return similarity\n",
        "    except:\n",
        "        return 0"
      ]
    },
    {
      "cell_type": "code",
      "execution_count": 55,
      "metadata": {
        "id": "JtGzMfYdxukP"
      },
      "outputs": [],
      "source": [
        "#Defining Cosine Similarity for followees function\n",
        "def cosine_followers(a,b):\n",
        "    try:\n",
        "        X = set(graph.predecessors(a))\n",
        "        Y = set(graph.predecessors(b))\n",
        "        if len(X) == 0  | len(Y) == 0:\n",
        "            return 0\n",
        "        similarity = len(X.intersection(Y))/(math.sqrt(len(X))*(len(Y)))\n",
        "        return similarity\n",
        "    except:\n",
        "        return 0"
      ]
    },
    {
      "cell_type": "code",
      "execution_count": 56,
      "metadata": {
        "id": "Efwj-bVfxukP"
      },
      "outputs": [],
      "source": [
        "train_subset['cosine_similarity_followers'] = train_subset.apply(lambda row: cosine_followers(row['source_node'],row['destination_node']),axis=1)"
      ]
    },
    {
      "cell_type": "code",
      "execution_count": 57,
      "metadata": {
        "colab": {
          "base_uri": "https://localhost:8080/",
          "height": 0
        },
        "id": "CEpTjSnQxukQ",
        "outputId": "a780de4f-8b54-4d9e-8676-3c248a79b3d9"
      },
      "outputs": [
        {
          "output_type": "execute_result",
          "data": {
            "text/plain": [
              "0    0.333333\n",
              "1    0.000000\n",
              "2    0.000000\n",
              "3    0.000000\n",
              "4    0.000000\n",
              "Name: cosine_similarity_followers, dtype: float64"
            ]
          },
          "metadata": {},
          "execution_count": 57
        }
      ],
      "source": [
        "train_subset['cosine_similarity_followers'].head()"
      ]
    },
    {
      "cell_type": "code",
      "execution_count": 58,
      "metadata": {
        "colab": {
          "base_uri": "https://localhost:8080/",
          "height": 282
        },
        "id": "q11vj8HpxukQ",
        "outputId": "2f759b74-3297-4934-dd00-570990175a2f"
      },
      "outputs": [
        {
          "output_type": "display_data",
          "data": {
            "text/plain": [
              "<Figure size 432x288 with 1 Axes>"
            ],
            "image/png": "[encoded data removed]"
          },
          "metadata": {
            "needs_background": "light"
          }
        }
      ],
      "source": [
        "train_subset['cosine_similarity_followers'].plot.box()\n",
        "plt.title(\"Box Plot for cosine_similarity_followers\")#Box Plot\n",
        "plt.show()"
      ]
    },
    {
      "cell_type": "code",
      "execution_count": 59,
      "metadata": {
        "colab": {
          "base_uri": "https://localhost:8080/",
          "height": 0
        },
        "id": "wlFu3iYjxukQ",
        "outputId": "959fb3c6-160d-4112-90f3-e25e73755826"
      },
      "outputs": [
        {
          "output_type": "execute_result",
          "data": {
            "text/plain": [
              "count    1000000.000000\n",
              "mean           0.054660\n",
              "std            0.121311\n",
              "min            0.000000\n",
              "25%            0.000000\n",
              "50%            0.000000\n",
              "75%            0.000000\n",
              "max            0.500000\n",
              "Name: cosine_similarity_followers, dtype: float64"
            ]
          },
          "metadata": {},
          "execution_count": 59
        }
      ],
      "source": [
        "train_subset['cosine_similarity_followers'].describe()"
      ]
    },
    {
      "cell_type": "code",
      "execution_count": 60,
      "metadata": {
        "colab": {
          "base_uri": "https://localhost:8080/",
          "height": 0
        },
        "id": "NZwzN4rKxukQ",
        "outputId": "41644677-99d4-4f9b-cb05-274db1fb9756"
      },
      "outputs": [
        {
          "output_type": "stream",
          "name": "stdout",
          "text": [
            "Following are the Percentiles of cosine_similarity_followers\n",
            "--------------------------------------------------\n",
            "The 80 percentile values is :  0.07155417527999328\n",
            "The 90 percentile values is :  0.25\n",
            "The 95 percentile values is :  0.35355339059327373\n",
            "The 99 percentile values is :  0.5\n",
            "The 100 percentile values is :  0.5\n"
          ]
        }
      ],
      "source": [
        "#Percentiles of cosine_similarity_followers\n",
        "print(\"Following are the Percentiles of cosine_similarity_followers\")\n",
        "print(\"-\"*50)\n",
        "print(\"The 80 percentile values is : \",train_subset['cosine_similarity_followers'].quantile(0.8))\n",
        "print(\"The 90 percentile values is : \",train_subset['cosine_similarity_followers'].quantile(0.9))\n",
        "print(\"The 95 percentile values is : \",train_subset['cosine_similarity_followers'].quantile(0.95))\n",
        "print(\"The 99 percentile values is : \",train_subset['cosine_similarity_followers'].quantile(0.99))\n",
        "print(\"The 100 percentile values is : \",train_subset['cosine_similarity_followers'].quantile(1))"
      ]
    },
    {
      "cell_type": "code",
      "execution_count": 61,
      "metadata": {
        "id": "h9fpVbYYxukR"
      },
      "outputs": [],
      "source": [
        "train_subset['cosine_similarity_followees'] = train_subset.apply(lambda row: cosine_followees(row['source_node'],row['destination_node']),axis=1)"
      ]
    },
    {
      "cell_type": "code",
      "execution_count": 62,
      "metadata": {
        "colab": {
          "base_uri": "https://localhost:8080/",
          "height": 0
        },
        "id": "227y3RWwxukR",
        "outputId": "a36c3f8a-5601-409f-9767-bef03f0f110e"
      },
      "outputs": [
        {
          "output_type": "execute_result",
          "data": {
            "text/plain": [
              "0    0.000000\n",
              "1    0.000000\n",
              "2    0.144338\n",
              "3    0.000000\n",
              "4    0.000000\n",
              "Name: cosine_similarity_followees, dtype: float64"
            ]
          },
          "metadata": {},
          "execution_count": 62
        }
      ],
      "source": [
        "train_subset['cosine_similarity_followees'].head()"
      ]
    },
    {
      "cell_type": "code",
      "execution_count": 63,
      "metadata": {
        "colab": {
          "base_uri": "https://localhost:8080/",
          "height": 282
        },
        "id": "t-zGd8uWxukR",
        "outputId": "6e01252e-5cb8-4a07-ba94-821fd0453b1f"
      },
      "outputs": [
        {
          "output_type": "display_data",
          "data": {
            "text/plain": [
              "<Figure size 432x288 with 1 Axes>"
            ],
            "image/png": "[encoded data removed]"
          },
          "metadata": {
            "needs_background": "light"
          }
        }
      ],
      "source": [
        "train_subset['cosine_similarity_followees'].plot.box()\n",
        "plt.title(\"Box Plot for cosine_similarity_followees\")#Box Plot\n",
        "plt.show()"
      ]
    },
    {
      "cell_type": "code",
      "execution_count": 64,
      "metadata": {
        "colab": {
          "base_uri": "https://localhost:8080/",
          "height": 0
        },
        "id": "8q3qNR0mxukR",
        "outputId": "8aeb9bd5-489a-4696-abb0-c580fa9b0e42"
      },
      "outputs": [
        {
          "output_type": "execute_result",
          "data": {
            "text/plain": [
              "count    1000000.000000\n",
              "mean           0.005297\n",
              "std            0.028907\n",
              "min            0.000000\n",
              "25%            0.000000\n",
              "50%            0.000000\n",
              "75%            0.000000\n",
              "max            0.707107\n",
              "Name: cosine_similarity_followees, dtype: float64"
            ]
          },
          "metadata": {},
          "execution_count": 64
        }
      ],
      "source": [
        "train_subset['cosine_similarity_followees'].describe()"
      ]
    },
    {
      "cell_type": "code",
      "execution_count": 65,
      "metadata": {
        "id": "dt4xtbcFxukS"
      },
      "outputs": [],
      "source": [
        "train_subset.drop(['cosine_similarity_followees'], axis=1,inplace=True)"
      ]
    },
    {
      "cell_type": "markdown",
      "metadata": {
        "id": "4b6bTlV1xukS"
      },
      "source": [
        "## Is Detination Follows Back"
      ]
    },
    {
      "cell_type": "code",
      "execution_count": 66,
      "metadata": {
        "id": "liId0sMtxukS"
      },
      "outputs": [],
      "source": [
        "#Defining follow back function\n",
        "def follows_back(a,b):\n",
        "    return 1 if graph.has_edge(b,a) else 0"
      ]
    },
    {
      "cell_type": "code",
      "execution_count": 67,
      "metadata": {
        "id": "WeNWIPVpxukS"
      },
      "outputs": [],
      "source": [
        "train_subset['is_followed_back'] = train_subset.apply(lambda row: follows_back(row['source_node'],row['destination_node']),axis=1)"
      ]
    },
    {
      "cell_type": "code",
      "execution_count": 68,
      "metadata": {
        "colab": {
          "base_uri": "https://localhost:8080/",
          "height": 278
        },
        "id": "T-H0M7Q8xukS",
        "outputId": "a5bfed58-30ed-4081-caf5-6ade6dd752f5"
      },
      "outputs": [
        {
          "output_type": "display_data",
          "data": {
            "text/plain": [
              "<Figure size 432x288 with 1 Axes>"
            ],
            "image/png": "[encoded data removed]"
          },
          "metadata": {
            "needs_background": "light"
          }
        }
      ],
      "source": [
        "train_subset['is_followed_back'].value_counts().plot(kind='bar')\n",
        "plt.title(\"Bar plot for column is_followed_back\")#Bar Plot\n",
        "plt.show()"
      ]
    },
    {
      "cell_type": "code",
      "execution_count": 69,
      "metadata": {
        "colab": {
          "base_uri": "https://localhost:8080/",
          "height": 0
        },
        "id": "5e8cczxNxukS",
        "outputId": "f6e40fbe-188a-46b6-d193-7d5c67989ca3"
      },
      "outputs": [
        {
          "output_type": "stream",
          "name": "stdout",
          "text": [
            "The final Feature we have so far:\n",
            "--------------------------------------------------\n",
            "source_node\n",
            "destination_node\n",
            "num_of_source_followers\n",
            "num_of_source_followees\n",
            "num_of_destination_followers\n",
            "num_of_destination_followees\n",
            "num_of_common_followers\n",
            "num_of_common_followees\n",
            "jaccard_similarity_followers\n",
            "jaccard_similarity_followees\n",
            "cosine_similarity_followers\n",
            "is_followed_back\n",
            "--------------------------------------------------\n",
            "Total created features are : 10\n"
          ]
        }
      ],
      "source": [
        "#Displaying The final Features:\n",
        "print(\"The final Feature we have so far:\")\n",
        "print(\"-\"*50)\n",
        "for column in train_subset.columns:\n",
        "    print(column)\n",
        "print(\"-\"*50)\n",
        "print(\"Total created features are :\",len(train_subset.columns)-2)"
      ]
    },
    {
      "cell_type": "markdown",
      "metadata": {
        "id": "iZYONr0oxukT"
      },
      "source": [
        "# Final Submission"
      ]
    },
    {
      "cell_type": "markdown",
      "metadata": {
        "id": "kp95vmiloZs9"
      },
      "source": [
        "## Shortest Path Length"
      ]
    },
    {
      "cell_type": "code",
      "execution_count": 70,
      "metadata": {
        "id": "IwgiKYKLxukT"
      },
      "outputs": [],
      "source": [
        "#Defining get_shorterst_path_length function\n",
        "def get_shorterst_path_length(source,target):\n",
        "    if graph.has_edge(source,target):\n",
        "        graph.remove_edge(source,target)\n",
        "        try :\n",
        "            length = nx.shortest_path_length(graph, source=source, target= target)\n",
        "        except :\n",
        "            length = -1\n",
        "        graph.add_edge(source,target)\n",
        "        return length\n",
        "    else :\n",
        "        if nx.has_path(graph,source, target):\n",
        "            length = nx.shortest_path_length(graph, source=source, target= target)\n",
        "        else :\n",
        "            length = -1\n",
        "        return length"
      ]
    },
    {
      "cell_type": "code",
      "execution_count": 73,
      "metadata": {
        "colab": {
          "base_uri": "https://localhost:8080/",
          "height": 0
        },
        "id": "HT8kCg86xukT",
        "outputId": "9ca06b0c-a28a-404d-dd5d-0310384338b6"
      },
      "outputs": [
        {
          "output_type": "execute_result",
          "data": {
            "text/plain": [
              "2"
            ]
          },
          "metadata": {},
          "execution_count": 73
        }
      ],
      "source": [
        "get_shorterst_path_length(1, 690569)"
      ]
    },
    {
      "cell_type": "code",
      "execution_count": 123,
      "metadata": {
        "id": "u6SNcrXbxukT"
      },
      "outputs": [],
      "source": [
        "train_subset['shortest_path_length'] = train_subset.apply(lambda row: get_shorterst_path_length(row['source_node'],row['destination_node']),axis=1)"
      ]
    },
    {
      "cell_type": "code",
      "execution_count": 124,
      "metadata": {
        "colab": {
          "base_uri": "https://localhost:8080/",
          "height": 174
        },
        "id": "qDQNvp3vxukT",
        "outputId": "c824d316-1846-4839-b167-7ca4630b905b"
      },
      "outputs": [
        {
          "output_type": "execute_result",
          "data": {
            "text/plain": [
              "   source_node  destination_node  num_of_source_followers  \\\n",
              "0            1            690569                        1   \n",
              "\n",
              "   num_of_source_followees  num_of_destination_followers  \\\n",
              "0                        3                             3   \n",
              "\n",
              "   num_of_destination_followees  num_of_common_followers  \\\n",
              "0                             0                        1   \n",
              "\n",
              "   num_of_common_followees  jaccard_similarity_followers  \\\n",
              "0                        0                      0.333333   \n",
              "\n",
              "   jaccard_similarity_followees  ...  hit_authorities_source  \\\n",
              "0                           0.0  ...            2.398910e-21   \n",
              "\n",
              "   hit_authorities_destination  hit_hubs_source  hit_Hubs_destination  \\\n",
              "0                         -0.0     2.660412e-22          5.770346e-20   \n",
              "\n",
              "   degree_centrality_source  degree_centrality_destination  \\\n",
              "0                  0.000006                       0.000004   \n",
              "\n",
              "   outdegree_centrality_source  outdegree_centrality_destination  \\\n",
              "0                     0.000004                               0.0   \n",
              "\n",
              "   preferential_attachment_followers  shortest_path_length  \n",
              "0                                  3                     2  \n",
              "\n",
              "[1 rows x 25 columns]"
            ],
            "text/html": [
              "\n",
              "  <div id=\"df-667742e8-5f1f-442b-9981-e006b96fa993\">\n",
              "    <div class=\"colab-df-container\">\n",
              "      <div>\n",
              "<style scoped>\n",
              "    .dataframe tbody tr th:only-of-type {\n",
              "        vertical-align: middle;\n",
              "    }\n",
              "\n",
              "    .dataframe tbody tr th {\n",
              "        vertical-align: top;\n",
              "    }\n",
              "\n",
              "    .dataframe thead th {\n",
              "        text-align: right;\n",
              "    }\n",
              "</style>\n",
              "<table border=\"1\" class=\"dataframe\">\n",
              "  <thead>\n",
              "    <tr style=\"text-align: right;\">\n",
              "      <th></th>\n",
              "      <th>source_node</th>\n",
              "      <th>destination_node</th>\n",
              "      <th>num_of_source_followers</th>\n",
              "      <th>num_of_source_followees</th>\n",
              "      <th>num_of_destination_followers</th>\n",
              "      <th>num_of_destination_followees</th>\n",
              "      <th>num_of_common_followers</th>\n",
              "      <th>num_of_common_followees</th>\n",
              "      <th>jaccard_similarity_followers</th>\n",
              "      <th>jaccard_similarity_followees</th>\n",
              "      <th>...</th>\n",
              "      <th>hit_authorities_source</th>\n",
              "      <th>hit_authorities_destination</th>\n",
              "      <th>hit_hubs_source</th>\n",
              "      <th>hit_Hubs_destination</th>\n",
              "      <th>degree_centrality_source</th>\n",
              "      <th>degree_centrality_destination</th>\n",
              "      <th>outdegree_centrality_source</th>\n",
              "      <th>outdegree_centrality_destination</th>\n",
              "      <th>preferential_attachment_followers</th>\n",
              "      <th>shortest_path_length</th>\n",
              "    </tr>\n",
              "  </thead>\n",
              "  <tbody>\n",
              "    <tr>\n",
              "      <th>0</th>\n",
              "      <td>1</td>\n",
              "      <td>690569</td>\n",
              "      <td>1</td>\n",
              "      <td>3</td>\n",
              "      <td>3</td>\n",
              "      <td>0</td>\n",
              "      <td>1</td>\n",
              "      <td>0</td>\n",
              "      <td>0.333333</td>\n",
              "      <td>0.0</td>\n",
              "      <td>...</td>\n",
              "      <td>2.398910e-21</td>\n",
              "      <td>-0.0</td>\n",
              "      <td>2.660412e-22</td>\n",
              "      <td>5.770346e-20</td>\n",
              "      <td>0.000006</td>\n",
              "      <td>0.000004</td>\n",
              "      <td>0.000004</td>\n",
              "      <td>0.0</td>\n",
              "      <td>3</td>\n",
              "      <td>2</td>\n",
              "    </tr>\n",
              "  </tbody>\n",
              "</table>\n",
              "<p>1 rows × 25 columns</p>\n",
              "</div>\n",
              "      <button class=\"colab-df-convert\" onclick=\"convertToInteractive('df-667742e8-5f1f-442b-9981-e006b96fa993')\"\n",
              "              title=\"Convert this dataframe to an interactive table.\"\n",
              "              style=\"display:none;\">\n",
              "        \n",
              "  <svg xmlns=\"http://www.w3.org/2000/svg\" height=\"24px\"viewBox=\"0 0 24 24\"\n",
              "       width=\"24px\">\n",
              "    <path d=\"M0 0h24v24H0V0z\" fill=\"none\"/>\n",
              "    <path d=\"M18.56 5.44l.94 2.06.94-2.06 2.06-.94-2.06-.94-.94-2.06-.94 2.06-2.06.94zm-11 1L8.5 8.5l.94-2.06 2.06-.94-2.06-.94L8.5 2.5l-.94 2.06-2.06.94zm10 10l.94 2.06.94-2.06 2.06-.94-2.06-.94-.94-2.06-.94 2.06-2.06.94z\"/><path d=\"M17.41 7.96l-1.37-1.37c-.4-.4-.92-.59-1.43-.59-.52 0-1.04.2-1.43.59L10.3 9.45l-7.72 7.72c-.78.78-.78 2.05 0 2.83L4 21.41c.39.39.9.59 1.41.59.51 0 1.02-.2 1.41-.59l7.78-7.78 2.81-2.81c.8-.78.8-2.07 0-2.86zM5.41 20L4 18.59l7.72-7.72 1.47 1.35L5.41 20z\"/>\n",
              "  </svg>\n",
              "      </button>\n",
              "      \n",
              "  <style>\n",
              "    .colab-df-container {\n",
              "      display:flex;\n",
              "      flex-wrap:wrap;\n",
              "      gap: 12px;\n",
              "    }\n",
              "\n",
              "    .colab-df-convert {\n",
              "      background-color: #E8F0FE;\n",
              "      border: none;\n",
              "      border-radius: 50%;\n",
              "      cursor: pointer;\n",
              "      display: none;\n",
              "      fill: #1967D2;\n",
              "      height: 32px;\n",
              "      padding: 0 0 0 0;\n",
              "      width: 32px;\n",
              "    }\n",
              "\n",
              "    .colab-df-convert:hover {\n",
              "      background-color: #E2EBFA;\n",
              "      box-shadow: 0px 1px 2px rgba(60, 64, 67, 0.3), 0px 1px 3px 1px rgba(60, 64, 67, 0.15);\n",
              "      fill: #174EA6;\n",
              "    }\n",
              "\n",
              "    [theme=dark] .colab-df-convert {\n",
              "      background-color: #3B4455;\n",
              "      fill: #D2E3FC;\n",
              "    }\n",
              "\n",
              "    [theme=dark] .colab-df-convert:hover {\n",
              "      background-color: #434B5C;\n",
              "      box-shadow: 0px 1px 3px 1px rgba(0, 0, 0, 0.15);\n",
              "      filter: drop-shadow(0px 1px 2px rgba(0, 0, 0, 0.3));\n",
              "      fill: #FFFFFF;\n",
              "    }\n",
              "  </style>\n",
              "\n",
              "      <script>\n",
              "        const buttonEl =\n",
              "          document.querySelector('#df-667742e8-5f1f-442b-9981-e006b96fa993 button.colab-df-convert');\n",
              "        buttonEl.style.display =\n",
              "          google.colab.kernel.accessAllowed ? 'block' : 'none';\n",
              "\n",
              "        async function convertToInteractive(key) {\n",
              "          const element = document.querySelector('#df-667742e8-5f1f-442b-9981-e006b96fa993');\n",
              "          const dataTable =\n",
              "            await google.colab.kernel.invokeFunction('convertToInteractive',\n",
              "                                                     [key], {});\n",
              "          if (!dataTable) return;\n",
              "\n",
              "          const docLinkHtml = 'Like what you see? Visit the ' +\n",
              "            '<a target=\"_blank\" href=https://colab.research.google.com/notebooks/data_table.ipynb>data table notebook</a>'\n",
              "            + ' to learn more about interactive tables.';\n",
              "          element.innerHTML = '';\n",
              "          dataTable['output_type'] = 'display_data';\n",
              "          await google.colab.output.renderOutput(dataTable, element);\n",
              "          const docLink = document.createElement('div');\n",
              "          docLink.innerHTML = docLinkHtml;\n",
              "          element.appendChild(docLink);\n",
              "        }\n",
              "      </script>\n",
              "    </div>\n",
              "  </div>\n",
              "  "
            ]
          },
          "metadata": {},
          "execution_count": 124
        }
      ],
      "source": [
        "train_subset.head(1)"
      ]
    },
    {
      "cell_type": "code",
      "execution_count": 125,
      "metadata": {
        "colab": {
          "base_uri": "https://localhost:8080/",
          "height": 0
        },
        "id": "VxihFYdh9DIE",
        "outputId": "001ccb5d-c6c8-4469-a9c6-7b646bb6be34"
      },
      "outputs": [
        {
          "output_type": "execute_result",
          "data": {
            "text/plain": [
              "0    2\n",
              "1   -1\n",
              "2   -1\n",
              "3   -1\n",
              "4   -1\n",
              "Name: shortest_path_length, dtype: int64"
            ]
          },
          "metadata": {},
          "execution_count": 125
        }
      ],
      "source": [
        "train_subset['shortest_path_length'].head()"
      ]
    },
    {
      "cell_type": "code",
      "execution_count": 78,
      "metadata": {
        "id": "Se2ZxEhhLBp8"
      },
      "outputs": [],
      "source": [
        "#importing seaborn library\n",
        "import seaborn as sns"
      ]
    },
    {
      "cell_type": "code",
      "execution_count": 126,
      "metadata": {
        "colab": {
          "base_uri": "https://localhost:8080/",
          "height": 385
        },
        "id": "9FaFylH1RaCT",
        "outputId": "8d50b296-b0b6-4fc8-9a80-ff1e820d6f2e"
      },
      "outputs": [
        {
          "output_type": "display_data",
          "data": {
            "text/plain": [
              "<Figure size 368x360 with 1 Axes>"
            ],
            "image/png": "[encoded data removed]"
          },
          "metadata": {
            "needs_background": "light"
          }
        }
      ],
      "source": [
        "#Displaying data in form of grid using Facetgrid \n",
        "sns.FacetGrid(train_subset, height=5) \\\n",
        "   .map(sns.distplot, \"shortest_path_length\") \\\n",
        "   .add_legend();\n",
        "#Distribution plot\n",
        "plt.title(\"Distribution plot for shortest_path_length\")\n",
        "plt.show();"
      ]
    },
    {
      "cell_type": "markdown",
      "metadata": {
        "id": "9q7LOKRixukT"
      },
      "source": [
        "The Adamic/Adar index is a measure according to the number of shared links between two vertices. It is defined as the sum of the inverse logarithmic degree centrality of the neighbors shared by the two vertices."
      ]
    },
    {
      "cell_type": "code",
      "execution_count": 80,
      "metadata": {
        "id": "ZS7M-OjlxukT"
      },
      "outputs": [],
      "source": [
        "#Defining Adar index function\n",
        "def get_adar_index(a,b):\n",
        "    total=0\n",
        "    set_a = set(graph.successors(a))\n",
        "    set_b = set(graph.successors(b))\n",
        "    n_nodes=list(set_a.intersection(set_b))\n",
        "    if len(n_nodes)!=0:\n",
        "        return 0\n",
        "    else:\n",
        "        try :\n",
        "            for n in n_nodes:\n",
        "                total=total+(1/np.log10(len(list(graph.predecessors(n)))))\n",
        "            return total\n",
        "        except:\n",
        "            return 0"
      ]
    },
    {
      "cell_type": "code",
      "execution_count": 81,
      "metadata": {
        "colab": {
          "base_uri": "https://localhost:8080/",
          "height": 0
        },
        "id": "9z6tthyHxukU",
        "outputId": "3ef3c7fc-c6cc-4ab3-fb8e-91ed5d5641ba"
      },
      "outputs": [
        {
          "output_type": "execute_result",
          "data": {
            "text/plain": [
              "0    0\n",
              "1    0\n",
              "2    0\n",
              "3    0\n",
              "4    0\n",
              "Name: adar_index, dtype: int64"
            ]
          },
          "metadata": {},
          "execution_count": 81
        }
      ],
      "source": [
        "train_subset['adar_index'] = train_subset.apply(lambda row: get_adar_index(row['source_node'],row['destination_node']),axis=1)\n",
        "train_subset['adar_index'].head(5)"
      ]
    },
    {
      "cell_type": "code",
      "execution_count": 82,
      "metadata": {
        "colab": {
          "base_uri": "https://localhost:8080/",
          "height": 385
        },
        "id": "uA4k3U6mTFYn",
        "outputId": "a43bd169-c7d3-42bd-ef63-0435648da3cf"
      },
      "outputs": [
        {
          "output_type": "display_data",
          "data": {
            "text/plain": [
              "<Figure size 368x360 with 1 Axes>"
            ],
            "image/png": "[encoded data removed]"
          },
          "metadata": {
            "needs_background": "light"
          }
        }
      ],
      "source": [
        "#Displaying data in form of grid using Facetgrid \n",
        "sns.FacetGrid(train_subset, height=5) \\\n",
        "   .map(sns.distplot, \"adar_index\") \\\n",
        "   .add_legend();\n",
        "#Distribution plot\n",
        "plt.title(\"Distribution plot for adar_index\")\n",
        "plt.show();"
      ]
    },
    {
      "cell_type": "markdown",
      "metadata": {
        "id": "WzSORKjbxukU"
      },
      "source": [
        "## Page Rank"
      ]
    },
    {
      "cell_type": "code",
      "execution_count": 83,
      "metadata": {
        "id": "ru5zSsn_xukU"
      },
      "outputs": [],
      "source": [
        "#PageRank of the nodes in the graph.\n",
        "pr = nx.pagerank(graph, alpha=0.9)"
      ]
    },
    {
      "cell_type": "code",
      "execution_count": 84,
      "metadata": {
        "colab": {
          "base_uri": "https://localhost:8080/",
          "height": 0
        },
        "id": "pt1rGTqlxukU",
        "outputId": "ad492e60-d14e-480b-b6a3-9673bfe5aa3e"
      },
      "outputs": [
        {
          "output_type": "execute_result",
          "data": {
            "text/plain": [
              "1.4666738837006319e-06"
            ]
          },
          "metadata": {},
          "execution_count": 84
        }
      ],
      "source": [
        "pr.get(1)"
      ]
    },
    {
      "cell_type": "code",
      "execution_count": 85,
      "metadata": {
        "colab": {
          "base_uri": "https://localhost:8080/",
          "height": 270
        },
        "id": "vFCvjP34xukU",
        "outputId": "b6d3029a-28f2-4351-9f7b-fa1a67d6b5da"
      },
      "outputs": [
        {
          "output_type": "execute_result",
          "data": {
            "text/plain": [
              "   source_node  destination_node  num_of_source_followers  \\\n",
              "0            1            690569                        1   \n",
              "1            1            315892                        1   \n",
              "2            1            189226                        1   \n",
              "3            2            834328                        0   \n",
              "4            2           1615927                        0   \n",
              "\n",
              "   num_of_source_followees  num_of_destination_followers  \\\n",
              "0                        3                             3   \n",
              "1                        3                             2   \n",
              "2                        3                             2   \n",
              "3                        6                             5   \n",
              "4                        6                             2   \n",
              "\n",
              "   num_of_destination_followees  num_of_common_followers  \\\n",
              "0                             0                        1   \n",
              "1                             0                        0   \n",
              "2                             4                        0   \n",
              "3                             0                        0   \n",
              "4                             0                        0   \n",
              "\n",
              "   num_of_common_followees  jaccard_similarity_followers  \\\n",
              "0                        0                      0.333333   \n",
              "1                        0                      0.000000   \n",
              "2                        1                      0.000000   \n",
              "3                        0                      0.000000   \n",
              "4                        0                      0.000000   \n",
              "\n",
              "   jaccard_similarity_followees  cosine_similarity_followers  \\\n",
              "0                      0.000000                     0.333333   \n",
              "1                      0.000000                     0.000000   \n",
              "2                      0.166667                     0.000000   \n",
              "3                      0.000000                     0.000000   \n",
              "4                      0.000000                     0.000000   \n",
              "\n",
              "   is_followed_back  shorterst_path_length  adar_index  page_rank_source  \n",
              "0                 0                      2           0          0.000001  \n",
              "1                 0                     -1           0          0.000001  \n",
              "2                 1                     -1           0          0.000001  \n",
              "3                 0                     -1           0          0.000001  \n",
              "4                 0                     -1           0          0.000001  "
            ],
            "text/html": [
              "\n",
              "  <div id=\"df-d43b0b89-58af-4bed-a13b-98aae9cf77b8\">\n",
              "    <div class=\"colab-df-container\">\n",
              "      <div>\n",
              "<style scoped>\n",
              "    .dataframe tbody tr th:only-of-type {\n",
              "        vertical-align: middle;\n",
              "    }\n",
              "\n",
              "    .dataframe tbody tr th {\n",
              "        vertical-align: top;\n",
              "    }\n",
              "\n",
              "    .dataframe thead th {\n",
              "        text-align: right;\n",
              "    }\n",
              "</style>\n",
              "<table border=\"1\" class=\"dataframe\">\n",
              "  <thead>\n",
              "    <tr style=\"text-align: right;\">\n",
              "      <th></th>\n",
              "      <th>source_node</th>\n",
              "      <th>destination_node</th>\n",
              "      <th>num_of_source_followers</th>\n",
              "      <th>num_of_source_followees</th>\n",
              "      <th>num_of_destination_followers</th>\n",
              "      <th>num_of_destination_followees</th>\n",
              "      <th>num_of_common_followers</th>\n",
              "      <th>num_of_common_followees</th>\n",
              "      <th>jaccard_similarity_followers</th>\n",
              "      <th>jaccard_similarity_followees</th>\n",
              "      <th>cosine_similarity_followers</th>\n",
              "      <th>is_followed_back</th>\n",
              "      <th>shorterst_path_length</th>\n",
              "      <th>adar_index</th>\n",
              "      <th>page_rank_source</th>\n",
              "    </tr>\n",
              "  </thead>\n",
              "  <tbody>\n",
              "    <tr>\n",
              "      <th>0</th>\n",
              "      <td>1</td>\n",
              "      <td>690569</td>\n",
              "      <td>1</td>\n",
              "      <td>3</td>\n",
              "      <td>3</td>\n",
              "      <td>0</td>\n",
              "      <td>1</td>\n",
              "      <td>0</td>\n",
              "      <td>0.333333</td>\n",
              "      <td>0.000000</td>\n",
              "      <td>0.333333</td>\n",
              "      <td>0</td>\n",
              "      <td>2</td>\n",
              "      <td>0</td>\n",
              "      <td>0.000001</td>\n",
              "    </tr>\n",
              "    <tr>\n",
              "      <th>1</th>\n",
              "      <td>1</td>\n",
              "      <td>315892</td>\n",
              "      <td>1</td>\n",
              "      <td>3</td>\n",
              "      <td>2</td>\n",
              "      <td>0</td>\n",
              "      <td>0</td>\n",
              "      <td>0</td>\n",
              "      <td>0.000000</td>\n",
              "      <td>0.000000</td>\n",
              "      <td>0.000000</td>\n",
              "      <td>0</td>\n",
              "      <td>-1</td>\n",
              "      <td>0</td>\n",
              "      <td>0.000001</td>\n",
              "    </tr>\n",
              "    <tr>\n",
              "      <th>2</th>\n",
              "      <td>1</td>\n",
              "      <td>189226</td>\n",
              "      <td>1</td>\n",
              "      <td>3</td>\n",
              "      <td>2</td>\n",
              "      <td>4</td>\n",
              "      <td>0</td>\n",
              "      <td>1</td>\n",
              "      <td>0.000000</td>\n",
              "      <td>0.166667</td>\n",
              "      <td>0.000000</td>\n",
              "      <td>1</td>\n",
              "      <td>-1</td>\n",
              "      <td>0</td>\n",
              "      <td>0.000001</td>\n",
              "    </tr>\n",
              "    <tr>\n",
              "      <th>3</th>\n",
              "      <td>2</td>\n",
              "      <td>834328</td>\n",
              "      <td>0</td>\n",
              "      <td>6</td>\n",
              "      <td>5</td>\n",
              "      <td>0</td>\n",
              "      <td>0</td>\n",
              "      <td>0</td>\n",
              "      <td>0.000000</td>\n",
              "      <td>0.000000</td>\n",
              "      <td>0.000000</td>\n",
              "      <td>0</td>\n",
              "      <td>-1</td>\n",
              "      <td>0</td>\n",
              "      <td>0.000001</td>\n",
              "    </tr>\n",
              "    <tr>\n",
              "      <th>4</th>\n",
              "      <td>2</td>\n",
              "      <td>1615927</td>\n",
              "      <td>0</td>\n",
              "      <td>6</td>\n",
              "      <td>2</td>\n",
              "      <td>0</td>\n",
              "      <td>0</td>\n",
              "      <td>0</td>\n",
              "      <td>0.000000</td>\n",
              "      <td>0.000000</td>\n",
              "      <td>0.000000</td>\n",
              "      <td>0</td>\n",
              "      <td>-1</td>\n",
              "      <td>0</td>\n",
              "      <td>0.000001</td>\n",
              "    </tr>\n",
              "  </tbody>\n",
              "</table>\n",
              "</div>\n",
              "      <button class=\"colab-df-convert\" onclick=\"convertToInteractive('df-d43b0b89-58af-4bed-a13b-98aae9cf77b8')\"\n",
              "              title=\"Convert this dataframe to an interactive table.\"\n",
              "              style=\"display:none;\">\n",
              "        \n",
              "  <svg xmlns=\"http://www.w3.org/2000/svg\" height=\"24px\"viewBox=\"0 0 24 24\"\n",
              "       width=\"24px\">\n",
              "    <path d=\"M0 0h24v24H0V0z\" fill=\"none\"/>\n",
              "    <path d=\"M18.56 5.44l.94 2.06.94-2.06 2.06-.94-2.06-.94-.94-2.06-.94 2.06-2.06.94zm-11 1L8.5 8.5l.94-2.06 2.06-.94-2.06-.94L8.5 2.5l-.94 2.06-2.06.94zm10 10l.94 2.06.94-2.06 2.06-.94-2.06-.94-.94-2.06-.94 2.06-2.06.94z\"/><path d=\"M17.41 7.96l-1.37-1.37c-.4-.4-.92-.59-1.43-.59-.52 0-1.04.2-1.43.59L10.3 9.45l-7.72 7.72c-.78.78-.78 2.05 0 2.83L4 21.41c.39.39.9.59 1.41.59.51 0 1.02-.2 1.41-.59l7.78-7.78 2.81-2.81c.8-.78.8-2.07 0-2.86zM5.41 20L4 18.59l7.72-7.72 1.47 1.35L5.41 20z\"/>\n",
              "  </svg>\n",
              "      </button>\n",
              "      \n",
              "  <style>\n",
              "    .colab-df-container {\n",
              "      display:flex;\n",
              "      flex-wrap:wrap;\n",
              "      gap: 12px;\n",
              "    }\n",
              "\n",
              "    .colab-df-convert {\n",
              "      background-color: #E8F0FE;\n",
              "      border: none;\n",
              "      border-radius: 50%;\n",
              "      cursor: pointer;\n",
              "      display: none;\n",
              "      fill: #1967D2;\n",
              "      height: 32px;\n",
              "      padding: 0 0 0 0;\n",
              "      width: 32px;\n",
              "    }\n",
              "\n",
              "    .colab-df-convert:hover {\n",
              "      background-color: #E2EBFA;\n",
              "      box-shadow: 0px 1px 2px rgba(60, 64, 67, 0.3), 0px 1px 3px 1px rgba(60, 64, 67, 0.15);\n",
              "      fill: #174EA6;\n",
              "    }\n",
              "\n",
              "    [theme=dark] .colab-df-convert {\n",
              "      background-color: #3B4455;\n",
              "      fill: #D2E3FC;\n",
              "    }\n",
              "\n",
              "    [theme=dark] .colab-df-convert:hover {\n",
              "      background-color: #434B5C;\n",
              "      box-shadow: 0px 1px 3px 1px rgba(0, 0, 0, 0.15);\n",
              "      filter: drop-shadow(0px 1px 2px rgba(0, 0, 0, 0.3));\n",
              "      fill: #FFFFFF;\n",
              "    }\n",
              "  </style>\n",
              "\n",
              "      <script>\n",
              "        const buttonEl =\n",
              "          document.querySelector('#df-d43b0b89-58af-4bed-a13b-98aae9cf77b8 button.colab-df-convert');\n",
              "        buttonEl.style.display =\n",
              "          google.colab.kernel.accessAllowed ? 'block' : 'none';\n",
              "\n",
              "        async function convertToInteractive(key) {\n",
              "          const element = document.querySelector('#df-d43b0b89-58af-4bed-a13b-98aae9cf77b8');\n",
              "          const dataTable =\n",
              "            await google.colab.kernel.invokeFunction('convertToInteractive',\n",
              "                                                     [key], {});\n",
              "          if (!dataTable) return;\n",
              "\n",
              "          const docLinkHtml = 'Like what you see? Visit the ' +\n",
              "            '<a target=\"_blank\" href=https://colab.research.google.com/notebooks/data_table.ipynb>data table notebook</a>'\n",
              "            + ' to learn more about interactive tables.';\n",
              "          element.innerHTML = '';\n",
              "          dataTable['output_type'] = 'display_data';\n",
              "          await google.colab.output.renderOutput(dataTable, element);\n",
              "          const docLink = document.createElement('div');\n",
              "          docLink.innerHTML = docLinkHtml;\n",
              "          element.appendChild(docLink);\n",
              "        }\n",
              "      </script>\n",
              "    </div>\n",
              "  </div>\n",
              "  "
            ]
          },
          "metadata": {},
          "execution_count": 85
        }
      ],
      "source": [
        "train_subset['page_rank_source'] = train_subset['source_node'].map(pr)\n",
        "train_subset.head()"
      ]
    },
    {
      "cell_type": "code",
      "execution_count": 86,
      "metadata": {
        "colab": {
          "base_uri": "https://localhost:8080/",
          "height": 270
        },
        "id": "tNg0DQYvxukU",
        "outputId": "d836f5b3-6539-4c74-ae8e-0765733a3b21"
      },
      "outputs": [
        {
          "output_type": "execute_result",
          "data": {
            "text/plain": [
              "   source_node  destination_node  num_of_source_followers  \\\n",
              "0            1            690569                        1   \n",
              "1            1            315892                        1   \n",
              "2            1            189226                        1   \n",
              "3            2            834328                        0   \n",
              "4            2           1615927                        0   \n",
              "\n",
              "   num_of_source_followees  num_of_destination_followers  \\\n",
              "0                        3                             3   \n",
              "1                        3                             2   \n",
              "2                        3                             2   \n",
              "3                        6                             5   \n",
              "4                        6                             2   \n",
              "\n",
              "   num_of_destination_followees  num_of_common_followers  \\\n",
              "0                             0                        1   \n",
              "1                             0                        0   \n",
              "2                             4                        0   \n",
              "3                             0                        0   \n",
              "4                             0                        0   \n",
              "\n",
              "   num_of_common_followees  jaccard_similarity_followers  \\\n",
              "0                        0                      0.333333   \n",
              "1                        0                      0.000000   \n",
              "2                        1                      0.000000   \n",
              "3                        0                      0.000000   \n",
              "4                        0                      0.000000   \n",
              "\n",
              "   jaccard_similarity_followees  cosine_similarity_followers  \\\n",
              "0                      0.000000                     0.333333   \n",
              "1                      0.000000                     0.000000   \n",
              "2                      0.166667                     0.000000   \n",
              "3                      0.000000                     0.000000   \n",
              "4                      0.000000                     0.000000   \n",
              "\n",
              "   is_followed_back  shorterst_path_length  adar_index  page_rank_source  \\\n",
              "0                 0                      2           0          0.000001   \n",
              "1                 0                     -1           0          0.000001   \n",
              "2                 1                     -1           0          0.000001   \n",
              "3                 0                     -1           0          0.000001   \n",
              "4                 0                     -1           0          0.000001   \n",
              "\n",
              "   page_rank_destination  \n",
              "0               0.000002  \n",
              "1               0.000002  \n",
              "2               0.000002  \n",
              "3               0.000002  \n",
              "4               0.000001  "
            ],
            "text/html": [
              "\n",
              "  <div id=\"df-f77f6d62-d54c-42e7-aa06-71a760bf7805\">\n",
              "    <div class=\"colab-df-container\">\n",
              "      <div>\n",
              "<style scoped>\n",
              "    .dataframe tbody tr th:only-of-type {\n",
              "        vertical-align: middle;\n",
              "    }\n",
              "\n",
              "    .dataframe tbody tr th {\n",
              "        vertical-align: top;\n",
              "    }\n",
              "\n",
              "    .dataframe thead th {\n",
              "        text-align: right;\n",
              "    }\n",
              "</style>\n",
              "<table border=\"1\" class=\"dataframe\">\n",
              "  <thead>\n",
              "    <tr style=\"text-align: right;\">\n",
              "      <th></th>\n",
              "      <th>source_node</th>\n",
              "      <th>destination_node</th>\n",
              "      <th>num_of_source_followers</th>\n",
              "      <th>num_of_source_followees</th>\n",
              "      <th>num_of_destination_followers</th>\n",
              "      <th>num_of_destination_followees</th>\n",
              "      <th>num_of_common_followers</th>\n",
              "      <th>num_of_common_followees</th>\n",
              "      <th>jaccard_similarity_followers</th>\n",
              "      <th>jaccard_similarity_followees</th>\n",
              "      <th>cosine_similarity_followers</th>\n",
              "      <th>is_followed_back</th>\n",
              "      <th>shorterst_path_length</th>\n",
              "      <th>adar_index</th>\n",
              "      <th>page_rank_source</th>\n",
              "      <th>page_rank_destination</th>\n",
              "    </tr>\n",
              "  </thead>\n",
              "  <tbody>\n",
              "    <tr>\n",
              "      <th>0</th>\n",
              "      <td>1</td>\n",
              "      <td>690569</td>\n",
              "      <td>1</td>\n",
              "      <td>3</td>\n",
              "      <td>3</td>\n",
              "      <td>0</td>\n",
              "      <td>1</td>\n",
              "      <td>0</td>\n",
              "      <td>0.333333</td>\n",
              "      <td>0.000000</td>\n",
              "      <td>0.333333</td>\n",
              "      <td>0</td>\n",
              "      <td>2</td>\n",
              "      <td>0</td>\n",
              "      <td>0.000001</td>\n",
              "      <td>0.000002</td>\n",
              "    </tr>\n",
              "    <tr>\n",
              "      <th>1</th>\n",
              "      <td>1</td>\n",
              "      <td>315892</td>\n",
              "      <td>1</td>\n",
              "      <td>3</td>\n",
              "      <td>2</td>\n",
              "      <td>0</td>\n",
              "      <td>0</td>\n",
              "      <td>0</td>\n",
              "      <td>0.000000</td>\n",
              "      <td>0.000000</td>\n",
              "      <td>0.000000</td>\n",
              "      <td>0</td>\n",
              "      <td>-1</td>\n",
              "      <td>0</td>\n",
              "      <td>0.000001</td>\n",
              "      <td>0.000002</td>\n",
              "    </tr>\n",
              "    <tr>\n",
              "      <th>2</th>\n",
              "      <td>1</td>\n",
              "      <td>189226</td>\n",
              "      <td>1</td>\n",
              "      <td>3</td>\n",
              "      <td>2</td>\n",
              "      <td>4</td>\n",
              "      <td>0</td>\n",
              "      <td>1</td>\n",
              "      <td>0.000000</td>\n",
              "      <td>0.166667</td>\n",
              "      <td>0.000000</td>\n",
              "      <td>1</td>\n",
              "      <td>-1</td>\n",
              "      <td>0</td>\n",
              "      <td>0.000001</td>\n",
              "      <td>0.000002</td>\n",
              "    </tr>\n",
              "    <tr>\n",
              "      <th>3</th>\n",
              "      <td>2</td>\n",
              "      <td>834328</td>\n",
              "      <td>0</td>\n",
              "      <td>6</td>\n",
              "      <td>5</td>\n",
              "      <td>0</td>\n",
              "      <td>0</td>\n",
              "      <td>0</td>\n",
              "      <td>0.000000</td>\n",
              "      <td>0.000000</td>\n",
              "      <td>0.000000</td>\n",
              "      <td>0</td>\n",
              "      <td>-1</td>\n",
              "      <td>0</td>\n",
              "      <td>0.000001</td>\n",
              "      <td>0.000002</td>\n",
              "    </tr>\n",
              "    <tr>\n",
              "      <th>4</th>\n",
              "      <td>2</td>\n",
              "      <td>1615927</td>\n",
              "      <td>0</td>\n",
              "      <td>6</td>\n",
              "      <td>2</td>\n",
              "      <td>0</td>\n",
              "      <td>0</td>\n",
              "      <td>0</td>\n",
              "      <td>0.000000</td>\n",
              "      <td>0.000000</td>\n",
              "      <td>0.000000</td>\n",
              "      <td>0</td>\n",
              "      <td>-1</td>\n",
              "      <td>0</td>\n",
              "      <td>0.000001</td>\n",
              "      <td>0.000001</td>\n",
              "    </tr>\n",
              "  </tbody>\n",
              "</table>\n",
              "</div>\n",
              "      <button class=\"colab-df-convert\" onclick=\"convertToInteractive('df-f77f6d62-d54c-42e7-aa06-71a760bf7805')\"\n",
              "              title=\"Convert this dataframe to an interactive table.\"\n",
              "              style=\"display:none;\">\n",
              "        \n",
              "  <svg xmlns=\"http://www.w3.org/2000/svg\" height=\"24px\"viewBox=\"0 0 24 24\"\n",
              "       width=\"24px\">\n",
              "    <path d=\"M0 0h24v24H0V0z\" fill=\"none\"/>\n",
              "    <path d=\"M18.56 5.44l.94 2.06.94-2.06 2.06-.94-2.06-.94-.94-2.06-.94 2.06-2.06.94zm-11 1L8.5 8.5l.94-2.06 2.06-.94-2.06-.94L8.5 2.5l-.94 2.06-2.06.94zm10 10l.94 2.06.94-2.06 2.06-.94-2.06-.94-.94-2.06-.94 2.06-2.06.94z\"/><path d=\"M17.41 7.96l-1.37-1.37c-.4-.4-.92-.59-1.43-.59-.52 0-1.04.2-1.43.59L10.3 9.45l-7.72 7.72c-.78.78-.78 2.05 0 2.83L4 21.41c.39.39.9.59 1.41.59.51 0 1.02-.2 1.41-.59l7.78-7.78 2.81-2.81c.8-.78.8-2.07 0-2.86zM5.41 20L4 18.59l7.72-7.72 1.47 1.35L5.41 20z\"/>\n",
              "  </svg>\n",
              "      </button>\n",
              "      \n",
              "  <style>\n",
              "    .colab-df-container {\n",
              "      display:flex;\n",
              "      flex-wrap:wrap;\n",
              "      gap: 12px;\n",
              "    }\n",
              "\n",
              "    .colab-df-convert {\n",
              "      background-color: #E8F0FE;\n",
              "      border: none;\n",
              "      border-radius: 50%;\n",
              "      cursor: pointer;\n",
              "      display: none;\n",
              "      fill: #1967D2;\n",
              "      height: 32px;\n",
              "      padding: 0 0 0 0;\n",
              "      width: 32px;\n",
              "    }\n",
              "\n",
              "    .colab-df-convert:hover {\n",
              "      background-color: #E2EBFA;\n",
              "      box-shadow: 0px 1px 2px rgba(60, 64, 67, 0.3), 0px 1px 3px 1px rgba(60, 64, 67, 0.15);\n",
              "      fill: #174EA6;\n",
              "    }\n",
              "\n",
              "    [theme=dark] .colab-df-convert {\n",
              "      background-color: #3B4455;\n",
              "      fill: #D2E3FC;\n",
              "    }\n",
              "\n",
              "    [theme=dark] .colab-df-convert:hover {\n",
              "      background-color: #434B5C;\n",
              "      box-shadow: 0px 1px 3px 1px rgba(0, 0, 0, 0.15);\n",
              "      filter: drop-shadow(0px 1px 2px rgba(0, 0, 0, 0.3));\n",
              "      fill: #FFFFFF;\n",
              "    }\n",
              "  </style>\n",
              "\n",
              "      <script>\n",
              "        const buttonEl =\n",
              "          document.querySelector('#df-f77f6d62-d54c-42e7-aa06-71a760bf7805 button.colab-df-convert');\n",
              "        buttonEl.style.display =\n",
              "          google.colab.kernel.accessAllowed ? 'block' : 'none';\n",
              "\n",
              "        async function convertToInteractive(key) {\n",
              "          const element = document.querySelector('#df-f77f6d62-d54c-42e7-aa06-71a760bf7805');\n",
              "          const dataTable =\n",
              "            await google.colab.kernel.invokeFunction('convertToInteractive',\n",
              "                                                     [key], {});\n",
              "          if (!dataTable) return;\n",
              "\n",
              "          const docLinkHtml = 'Like what you see? Visit the ' +\n",
              "            '<a target=\"_blank\" href=https://colab.research.google.com/notebooks/data_table.ipynb>data table notebook</a>'\n",
              "            + ' to learn more about interactive tables.';\n",
              "          element.innerHTML = '';\n",
              "          dataTable['output_type'] = 'display_data';\n",
              "          await google.colab.output.renderOutput(dataTable, element);\n",
              "          const docLink = document.createElement('div');\n",
              "          docLink.innerHTML = docLinkHtml;\n",
              "          element.appendChild(docLink);\n",
              "        }\n",
              "      </script>\n",
              "    </div>\n",
              "  </div>\n",
              "  "
            ]
          },
          "metadata": {},
          "execution_count": 86
        }
      ],
      "source": [
        "train_subset['page_rank_destination'] = train_subset['destination_node'].map(pr)\n",
        "train_subset.head()"
      ]
    },
    {
      "cell_type": "code",
      "execution_count": 87,
      "metadata": {
        "colab": {
          "base_uri": "https://localhost:8080/",
          "height": 374
        },
        "id": "Ik1XlV-RWuQV",
        "outputId": "ea9cd368-ba58-466d-f60e-9b3d1b00f532"
      },
      "outputs": [
        {
          "output_type": "display_data",
          "data": {
            "text/plain": [
              "<Figure size 368x360 with 1 Axes>"
            ],
            "image/png": "[encoded data removed]"
          },
          "metadata": {
            "needs_background": "light"
          }
        }
      ],
      "source": [
        "#Displaying data in form of grid using Facetgrid \n",
        "sns.FacetGrid(train_subset, height=5) \\\n",
        "   .map(sns.distplot, \"page_rank_source\") \\\n",
        "   .add_legend();\n",
        "#Distribution plot\n",
        "plt.title(\"Distribution plot for page_rank_source\")\n",
        "plt.show();"
      ]
    },
    {
      "cell_type": "code",
      "execution_count": 88,
      "metadata": {
        "colab": {
          "base_uri": "https://localhost:8080/",
          "height": 374
        },
        "id": "flo8HjgWTggw",
        "outputId": "ff587b88-c4a9-4f75-9b43-254db73e081a"
      },
      "outputs": [
        {
          "output_type": "display_data",
          "data": {
            "text/plain": [
              "<Figure size 368x360 with 1 Axes>"
            ],
            "image/png": "[encoded data removed]"
          },
          "metadata": {
            "needs_background": "light"
          }
        }
      ],
      "source": [
        "##Displaying data in form of grid using Facetgrid \n",
        "sns.FacetGrid(train_subset, height=5) \\\n",
        "   .map(sns.distplot, \"page_rank_destination\") \\\n",
        "   .add_legend();\n",
        "#Distribution Plot\n",
        "plt.title(\"Distribution plot for page_rank_destination\")\n",
        "plt.show();"
      ]
    },
    {
      "cell_type": "markdown",
      "metadata": {
        "id": "nFUEoAPqxukU"
      },
      "source": [
        "## Hit Score"
      ]
    },
    {
      "cell_type": "code",
      "execution_count": 89,
      "metadata": {
        "id": "blN6Fq9AxukV"
      },
      "outputs": [],
      "source": [
        "#Returning HITS hubs and authorities values for nodes.\n",
        "hits = nx.hits(graph, max_iter=100, tol=1e-08, nstart=None, normalized=True)"
      ]
    },
    {
      "cell_type": "code",
      "execution_count": 90,
      "metadata": {
        "colab": {
          "base_uri": "https://localhost:8080/",
          "height": 0
        },
        "id": "hj6fSvohxukV",
        "outputId": "6478a0c3-a1a1-48a2-833f-5c5b0522b8e4"
      },
      "outputs": [
        {
          "output_type": "execute_result",
          "data": {
            "text/plain": [
              "0    2.398910e-21\n",
              "1    2.398910e-21\n",
              "2    2.398910e-21\n",
              "3    1.496101e-21\n",
              "4    1.496101e-21\n",
              "Name: hit_authorities_source, dtype: float64"
            ]
          },
          "metadata": {},
          "execution_count": 90
        }
      ],
      "source": [
        "train_subset['hit_authorities_source'] = train_subset['source_node'].map(hits[0])\n",
        "train_subset['hit_authorities_source'].head()"
      ]
    },
    {
      "cell_type": "code",
      "execution_count": 91,
      "metadata": {
        "colab": {
          "base_uri": "https://localhost:8080/",
          "height": 385
        },
        "id": "aDvUqCFBTvhO",
        "outputId": "b04cb463-f6a7-4713-f807-beb81d411972"
      },
      "outputs": [
        {
          "output_type": "display_data",
          "data": {
            "text/plain": [
              "<Figure size 368x360 with 1 Axes>"
            ],
            "image/png": "[encoded data removed]"
          },
          "metadata": {
            "needs_background": "light"
          }
        }
      ],
      "source": [
        "##Displaying data in form of grid using Facetgrid \n",
        "sns.FacetGrid(train_subset, height=5) \\\n",
        "   .map(sns.distplot, \"hit_authorities_source\") \\\n",
        "   .add_legend();\n",
        "#Distribution Plot\n",
        "plt.title(\"Distribution plot for hit_authorities_source\")\n",
        "plt.show();"
      ]
    },
    {
      "cell_type": "code",
      "execution_count": 92,
      "metadata": {
        "colab": {
          "base_uri": "https://localhost:8080/",
          "height": 0
        },
        "id": "VARK1yXQxukV",
        "outputId": "25613a7e-ac8a-4b4e-c7a6-7a0f7ca1f32b"
      },
      "outputs": [
        {
          "output_type": "execute_result",
          "data": {
            "text/plain": [
              "0   -0.000000e+00\n",
              "1   -0.000000e+00\n",
              "2    2.736062e-21\n",
              "3   -0.000000e+00\n",
              "4   -0.000000e+00\n",
              "Name: hit_authorities_destination, dtype: float64"
            ]
          },
          "metadata": {},
          "execution_count": 92
        }
      ],
      "source": [
        "train_subset['hit_authorities_destination'] = train_subset['destination_node'].map(hits[0])\n",
        "train_subset['hit_authorities_destination'].head()"
      ]
    },
    {
      "cell_type": "code",
      "execution_count": 93,
      "metadata": {
        "colab": {
          "base_uri": "https://localhost:8080/",
          "height": 385
        },
        "id": "KrpDEVa6T6Qg",
        "outputId": "f815d61e-a005-45ef-851d-d2236ae15298"
      },
      "outputs": [
        {
          "output_type": "display_data",
          "data": {
            "text/plain": [
              "<Figure size 368x360 with 1 Axes>"
            ],
            "image/png": "[encoded data removed]"
          },
          "metadata": {
            "needs_background": "light"
          }
        }
      ],
      "source": [
        "##Displaying data in form of grid using Facetgrid \n",
        "sns.FacetGrid(train_subset, height=5) \\\n",
        "   .map(sns.distplot, \"hit_authorities_destination\") \\\n",
        "   .add_legend();\n",
        "plt.title(\"Distribution plot for hit_authorities_destination\")#Distribution Plot\n",
        "plt.show();"
      ]
    },
    {
      "cell_type": "code",
      "execution_count": 94,
      "metadata": {
        "colab": {
          "base_uri": "https://localhost:8080/",
          "height": 0
        },
        "id": "2YzuY5gzxukV",
        "outputId": "8062fa95-f409-43b2-fc73-ca05aedd6e1d"
      },
      "outputs": [
        {
          "output_type": "execute_result",
          "data": {
            "text/plain": [
              "0    2.660412e-22\n",
              "1    2.660412e-22\n",
              "2    2.660412e-22\n",
              "3   -0.000000e+00\n",
              "4   -0.000000e+00\n",
              "Name: hit_hubs_source, dtype: float64"
            ]
          },
          "metadata": {},
          "execution_count": 94
        }
      ],
      "source": [
        "train_subset['hit_hubs_source'] = train_subset['source_node'].map(hits[1])\n",
        "train_subset['hit_hubs_source'].head()"
      ]
    },
    {
      "cell_type": "code",
      "execution_count": 95,
      "metadata": {
        "colab": {
          "base_uri": "https://localhost:8080/",
          "height": 385
        },
        "id": "YiOG3FbVT-rX",
        "outputId": "73a26618-60ea-4c0a-b2aa-ba0b3a60705e"
      },
      "outputs": [
        {
          "output_type": "display_data",
          "data": {
            "text/plain": [
              "<Figure size 368x360 with 1 Axes>"
            ],
            "image/png": "[encoded data removed]"
          },
          "metadata": {
            "needs_background": "light"
          }
        }
      ],
      "source": [
        "#Displaying data in form of grid using Facetgrid \n",
        "sns.FacetGrid(train_subset, height=5) \\\n",
        "   .map(sns.distplot, \"hit_hubs_source\") \\\n",
        "   .add_legend();\n",
        "plt.title(\"Distribution plot for hit_hubs_source\")#Distribution Plot\n",
        "plt.show();"
      ]
    },
    {
      "cell_type": "code",
      "execution_count": 96,
      "metadata": {
        "colab": {
          "base_uri": "https://localhost:8080/",
          "height": 0
        },
        "id": "ihFqdx4QxukV",
        "outputId": "323efbad-62ea-4654-b4d6-9c6e40ec70d7"
      },
      "outputs": [
        {
          "output_type": "execute_result",
          "data": {
            "text/plain": [
              "0    5.770346e-20\n",
              "1   -4.305351e-22\n",
              "2   -8.469637e-23\n",
              "3    4.247012e-22\n",
              "4    3.714818e-21\n",
              "Name: hit_Hubs_destination, dtype: float64"
            ]
          },
          "metadata": {},
          "execution_count": 96
        }
      ],
      "source": [
        "train_subset['hit_Hubs_destination'] = train_subset['destination_node'].map(hits[1])\n",
        "train_subset['hit_Hubs_destination'].head()"
      ]
    },
    {
      "cell_type": "code",
      "execution_count": 97,
      "metadata": {
        "colab": {
          "base_uri": "https://localhost:8080/",
          "height": 385
        },
        "id": "jXzRzjb-UEqO",
        "outputId": "04780f90-f4ea-43ee-f0f7-b4f0e51d695f"
      },
      "outputs": [
        {
          "output_type": "display_data",
          "data": {
            "text/plain": [
              "<Figure size 368x360 with 1 Axes>"
            ],
            "image/png": "[encoded data removed]"
          },
          "metadata": {
            "needs_background": "light"
          }
        }
      ],
      "source": [
        "##Displaying data in form of grid using Facetgrid \n",
        "sns.FacetGrid(train_subset, height=5) \\\n",
        "   .map(sns.distplot, \"hit_Hubs_destination\") \\\n",
        "   .add_legend();\n",
        "plt.title(\"Distribution plot for hit_Hubs_destination\")#Distribution Plot\n",
        "plt.show();"
      ]
    },
    {
      "cell_type": "markdown",
      "metadata": {
        "id": "NmtOFehqxukV"
      },
      "source": [
        "## Indegree and Out degree centrality"
      ]
    },
    {
      "cell_type": "code",
      "execution_count": 98,
      "metadata": {
        "id": "XQQGw2l3xukV"
      },
      "outputs": [],
      "source": [
        "#Defining get_indegree_centrality function\n",
        "def get_indegree_centrality(a):\n",
        "    try :\n",
        "        return nx.group_in_degree_centrality(graph, list(graph.predecessors(a)))\n",
        "    except :\n",
        "        return 0"
      ]
    },
    {
      "cell_type": "code",
      "execution_count": 99,
      "metadata": {
        "id": "waIjHZiaxukW"
      },
      "outputs": [],
      "source": [
        "#Defining get_outdegree_centrality function\n",
        "def get_outdegree_centrality(a):\n",
        "    try :\n",
        "        return nx.group_out_degree_centrality(graph, list(graph.successors(a)))\n",
        "    except :\n",
        "        return 0"
      ]
    },
    {
      "cell_type": "markdown",
      "metadata": {
        "id": "JROV6W8T_fMB"
      },
      "source": [
        "## Degree Centrality"
      ]
    },
    {
      "cell_type": "code",
      "execution_count": 100,
      "metadata": {
        "id": "-cog5TsQO1fR"
      },
      "outputs": [],
      "source": [
        "#The degree centrality for a node\n",
        "degree_centrality = nx.degree_centrality(graph)"
      ]
    },
    {
      "cell_type": "code",
      "execution_count": 101,
      "metadata": {
        "colab": {
          "base_uri": "https://localhost:8080/",
          "height": 0
        },
        "id": "hrSUptr1O1iM",
        "outputId": "09b870ce-f085-4ab7-d1cb-a5805443b16e"
      },
      "outputs": [
        {
          "output_type": "execute_result",
          "data": {
            "text/plain": [
              "{1: 5.832825391455494e-06,\n",
              " 690569: 4.3746190435916205e-06,\n",
              " 315892: 2.916412695727747e-06,\n",
              " 189226: 8.749238087183241e-06,\n",
              " 2: 8.749238087183241e-06,\n",
              " 834328: 7.291031739319368e-06,\n",
              " 1615927: 2.916412695727747e-06,\n",
              " 1194519: 5.832825391455494e-06,\n",
              " 470294: 2.916412695727747e-06,\n",
              " 961886: 1.4582063478638736e-06,\n",
              " 626040: 1.4582063478638736e-06,\n",
              " 3: 8.749238087183241e-06,\n",
              " 176995: 2.1873095217958103e-05,\n",
              " 624722: 7.291031739319368e-06,\n",
              " 412447: 4.3746190435916205e-06,\n",
              " 1263124: 4.3746190435916205e-06,\n",
              " 278432: 2.916412695727747e-06,\n",
              " 539336: 2.916412695727747e-06,\n",
              " 4: 4.3746190435916205e-06,\n",
              " 6271: 4.8120809479507825e-05,\n",
              " 1859286: 1.4582063478638736e-06,\n",
              " 5: 2.916412695727747e-06,\n",
              " 1646876: 1.4582063478638736e-06,\n",
              " 677005: 2.916412695727747e-06,\n",
              " 6: 1.4582063478638736e-06,\n",
              " 1576703: 5.832825391455494e-06,\n",
              " 7: 7.291031739319368e-06,\n",
              " 1760879: 1.4582063478638736e-06,\n",
              " 80397: 5.832825391455494e-06,\n",
              " 778186: 1.4582063478638736e-06,\n",
              " 8: 1.4582063478638736e-06,\n",
              " 772194: 2.916412695727747e-06,\n",
              " 9: 2.916412695727747e-06,\n",
              " 296377: 2.916412695727747e-06,\n",
              " 1657609: 1.4582063478638736e-06,\n",
              " 10: 1.4582063478638736e-06,\n",
              " 31186: 3.937157139232459e-05,\n",
              " 11: 1.4582063478638736e-06,\n",
              " 572660: 2.916412695727747e-06,\n",
              " 12: 4.3746190435916205e-06,\n",
              " 1244587: 2.916412695727747e-06,\n",
              " 456253: 2.916412695727747e-06,\n",
              " 708009: 1.4582063478638736e-06,\n",
              " 13: 2.041488887009423e-05,\n",
              " 206036: 1.4582063478638736e-06,\n",
              " 1244435: 4.3746190435916205e-06,\n",
              " 28583: 0.00010790726974192664,\n",
              " 1771842: 5.832825391455494e-06,\n",
              " 1589497: 7.291031739319368e-06,\n",
              " 731455: 5.832825391455494e-06,\n",
              " 328678: 1.4582063478638736e-06,\n",
              " 1324981: 2.916412695727747e-06,\n",
              " 431522: 2.916412695727747e-06,\n",
              " 531778: 1.4582063478638736e-06,\n",
              " 680313: 1.4582063478638736e-06,\n",
              " 37329: 5.832825391455494e-06,\n",
              " 14: 1.4582063478638736e-06,\n",
              " 382658: 4.3746190435916205e-06,\n",
              " 15: 2.916412695727747e-06,\n",
              " 7462: 3.2080539653005216e-05,\n",
              " 18: 2.1873095217958103e-05,\n",
              " 619456: 1.4582063478638736e-06,\n",
              " 316287: 2.916412695727747e-06,\n",
              " 795106: 7.291031739319368e-06,\n",
              " 578933: 7.291031739319368e-06,\n",
              " 1246523: 4.3746190435916205e-06,\n",
              " 1323975: 4.3746190435916205e-06,\n",
              " 984426: 4.3746190435916205e-06,\n",
              " 1003537: 1.4582063478638736e-06,\n",
              " 1468933: 1.4582063478638736e-06,\n",
              " 1688534: 1.4582063478638736e-06,\n",
              " 1269182: 2.916412695727747e-06,\n",
              " 1753748: 1.4582063478638736e-06,\n",
              " 248374: 1.4582063478638736e-06,\n",
              " 1377966: 2.916412695727747e-06,\n",
              " 78146: 2.916412695727747e-06,\n",
              " 19: 7.291031739319368e-06,\n",
              " 254810: 2.916412695727747e-06,\n",
              " 860701: 2.916412695727747e-06,\n",
              " 1205150: 2.916412695727747e-06,\n",
              " 220385: 1.4582063478638736e-06,\n",
              " 401594: 1.4582063478638736e-06,\n",
              " 20: 1.4582063478638736e-06,\n",
              " 493028: 1.3123857130774862e-05,\n",
              " 21: 1.4582063478638736e-06,\n",
              " 212060: 1.4582063478638736e-06,\n",
              " 22: 2.916412695727747e-06,\n",
              " 57396: 4.3746190435916205e-06,\n",
              " 24: 7.291031739319368e-06,\n",
              " 322832: 5.832825391455494e-06,\n",
              " 423929: 2.916412695727747e-06,\n",
              " 1435: 7.291031739319368e-06,\n",
              " 1310872: 1.4582063478638736e-06,\n",
              " 25: 4.8120809479507825e-05,\n",
              " 721394: 5.832825391455494e-06,\n",
              " 899566: 1.4582063478638736e-06,\n",
              " 604764: 7.291031739319368e-06,\n",
              " 1465410: 7.291031739319368e-06,\n",
              " 1068517: 1.4582063478638736e-06,\n",
              " 138314: 3.3538746000869094e-05,\n",
              " 1094367: 4.3746190435916205e-06,\n",
              " 422912: 5.832825391455494e-06,\n",
              " 788104: 8.749238087183241e-06,\n",
              " 992602: 2.916412695727747e-06,\n",
              " 942867: 1.4582063478638736e-06,\n",
              " 1030016: 2.916412695727747e-06,\n",
              " 1526567: 4.3746190435916205e-06,\n",
              " 95722: 2.041488887009423e-05,\n",
              " 1860295: 5.832825391455494e-06,\n",
              " 499524: 5.832825391455494e-06,\n",
              " 730230: 5.832825391455494e-06,\n",
              " 177460: 2.041488887009423e-05,\n",
              " 1199618: 1.4582063478638736e-06,\n",
              " 1229587: 1.4582063478638736e-06,\n",
              " 4067: 2.478950791368585e-05,\n",
              " 1098536: 4.3746190435916205e-06,\n",
              " 1200994: 1.4582063478638736e-06,\n",
              " 210114: 1.4582063478638736e-06,\n",
              " 1593893: 5.832825391455494e-06,\n",
              " 1634916: 1.4582063478638736e-06,\n",
              " 1130945: 4.3746190435916205e-06,\n",
              " 958524: 2.916412695727747e-06,\n",
              " 1625018: 1.4582063478638736e-06,\n",
              " 396162: 2.916412695727747e-06,\n",
              " 26: 1.4582063478638736e-06,\n",
              " 803083: 2.916412695727747e-06,\n",
              " 27: 1.4582063478638736e-06,\n",
              " 1662028: 1.4582063478638736e-06,\n",
              " 28: 1.4582063478638736e-06,\n",
              " 1682122: 1.4582063478638736e-06,\n",
              " 29: 1.4582063478638736e-06,\n",
              " 720972: 4.3746190435916205e-06,\n",
              " 30: 1.4582063478638736e-06,\n",
              " 917075: 7.291031739319368e-06,\n",
              " 31: 8.749238087183241e-06,\n",
              " 679692: 1.4582063478638736e-06,\n",
              " 742710: 4.3746190435916205e-06,\n",
              " 538636: 1.1665650782910989e-05,\n",
              " 577282: 1.4582063478638736e-06,\n",
              " 32: 4.3746190435916205e-06,\n",
              " 1324739: 1.4582063478638736e-06,\n",
              " 214896: 2.916412695727747e-06,\n",
              " 1116131: 1.4582063478638736e-06,\n",
              " 33: 2.916412695727747e-06,\n",
              " 700696: 1.4582063478638736e-06,\n",
              " 1593284: 1.4582063478638736e-06,\n",
              " 34: 2.916412695727747e-06,\n",
              " 1518929: 5.832825391455494e-06,\n",
              " 1125104: 1.4582063478638736e-06,\n",
              " 36: 2.916412695727747e-06,\n",
              " 881549: 1.4582063478638736e-06,\n",
              " 1242489: 2.916412695727747e-06,\n",
              " 37: 4.3746190435916205e-06,\n",
              " 575581: 1.4582063478638736e-06,\n",
              " 743846: 5.832825391455494e-06,\n",
              " 874856: 4.3746190435916205e-06,\n",
              " 38: 1.3123857130774862e-05,\n",
              " 1084554: 1.4582063478638736e-06,\n",
              " 926898: 4.3746190435916205e-06,\n",
              " 27623: 2.041488887009423e-05,\n",
              " 389596: 2.916412695727747e-06,\n",
              " 1125093: 4.3746190435916205e-06,\n",
              " 811551: 2.916412695727747e-06,\n",
              " 1070165: 1.4582063478638736e-06,\n",
              " 384225: 1.4582063478638736e-06,\n",
              " 39: 1.4582063478638736e-06,\n",
              " 1652563: 2.916412695727747e-06,\n",
              " 40: 1.4582063478638736e-06,\n",
              " 1273789: 1.4582063478638736e-06,\n",
              " 41: 1.4582063478638736e-06,\n",
              " 1229344: 4.3746190435916205e-06,\n",
              " 42: 1.4582063478638736e-06,\n",
              " 186751: 1.4582063478638736e-06,\n",
              " 43: 1.4582063478638736e-06,\n",
              " 406191: 5.832825391455494e-06,\n",
              " 44: 7.291031739319368e-06,\n",
              " 899392: 2.916412695727747e-06,\n",
              " 81763: 4.3746190435916205e-06,\n",
              " 826890: 1.4582063478638736e-06,\n",
              " 611366: 1.4582063478638736e-06,\n",
              " 1244292: 1.4582063478638736e-06,\n",
              " 45: 1.4582063478638736e-06,\n",
              " 1844351: 7.291031739319368e-06,\n",
              " 47: 1.4582063478638736e-06,\n",
              " 1028853: 1.4582063478638736e-06,\n",
              " 49: 1.4582063478638736e-05,\n",
              " 1854076: 1.1665650782910989e-05,\n",
              " 1053836: 4.3746190435916205e-06,\n",
              " 450855: 7.291031739319368e-06,\n",
              " 527674: 2.916412695727747e-06,\n",
              " 1206006: 1.4582063478638736e-06,\n",
              " 1819413: 2.916412695727747e-06,\n",
              " 306893: 2.916412695727747e-06,\n",
              " 1315486: 4.3746190435916205e-06,\n",
              " 1186111: 7.291031739319368e-06,\n",
              " 50: 2.916412695727747e-06,\n",
              " 1065918: 1.0207444435047115e-05,\n",
              " 1566117: 1.4582063478638736e-06,\n",
              " 51: 4.3746190435916205e-06,\n",
              " 694124: 5.832825391455494e-06,\n",
              " 262606: 2.916412695727747e-06,\n",
              " 1060463: 1.4582063478638736e-06,\n",
              " 52: 1.4582063478638736e-06,\n",
              " 1524285: 1.4582063478638736e-06,\n",
              " 53: 2.478950791368585e-05,\n",
              " 175439: 3.2080539653005216e-05,\n",
              " 1134531: 1.4582063478638736e-06,\n",
              " 989733: 5.832825391455494e-06,\n",
              " 1159365: 2.916412695727747e-06,\n",
              " 1066109: 2.916412695727747e-06,\n",
              " 321039: 2.916412695727747e-06,\n",
              " 1141033: 1.4582063478638736e-06,\n",
              " 204553: 2.916412695727747e-06,\n",
              " 1364025: 1.4582063478638736e-06,\n",
              " 813204: 1.4582063478638736e-06,\n",
              " 528206: 4.3746190435916205e-06,\n",
              " 1611430: 1.4582063478638736e-06,\n",
              " 482808: 1.4582063478638736e-06,\n",
              " 1386771: 1.4582063478638736e-06,\n",
              " 1711782: 1.4582063478638736e-06,\n",
              " 1007233: 1.4582063478638736e-06,\n",
              " 54: 3.2080539653005216e-05,\n",
              " 946584: 5.832825391455494e-06,\n",
              " 867555: 5.832825391455494e-06,\n",
              " 1757684: 1.4582063478638736e-06,\n",
              " 237014: 2.916412695727747e-06,\n",
              " 127561: 2.77059206094136e-05,\n",
              " 766708: 1.4582063478638736e-06,\n",
              " 978393: 4.3746190435916205e-06,\n",
              " 1844797: 2.916412695727747e-06,\n",
              " 1834300: 2.916412695727747e-06,\n",
              " 494483: 4.3746190435916205e-06,\n",
              " 1101058: 4.3746190435916205e-06,\n",
              " 761994: 1.4582063478638736e-06,\n",
              " 679014: 7.291031739319368e-06,\n",
              " 609116: 1.4582063478638736e-06,\n",
              " 577031: 1.4582063478638736e-06,\n",
              " 1786857: 2.916412695727747e-06,\n",
              " 1194176: 4.3746190435916205e-06,\n",
              " 1130353: 1.4582063478638736e-06,\n",
              " 444771: 1.4582063478638736e-06,\n",
              " 1336174: 1.4582063478638736e-06,\n",
              " 230597: 1.4582063478638736e-06,\n",
              " 55: 5.832825391455494e-06,\n",
              " 279010: 2.916412695727747e-06,\n",
              " 1007648: 1.4582063478638736e-06,\n",
              " 13589: 7.291031739319368e-06,\n",
              " 56: 2.916412695727747e-06,\n",
              " 1707687: 1.4582063478638736e-06,\n",
              " 1429792: 1.4582063478638736e-06,\n",
              " 57: 1.4582063478638736e-06,\n",
              " 373871: 1.4582063478638736e-06,\n",
              " 58: 1.4582063478638736e-06,\n",
              " 916140: 1.4582063478638736e-06,\n",
              " 59: 2.916412695727747e-06,\n",
              " 1389095: 7.291031739319368e-06,\n",
              " 1778028: 2.916412695727747e-06,\n",
              " 60: 5.832825391455494e-06,\n",
              " 83366: 4.5204396783780084e-05,\n",
              " 878202: 1.4582063478638736e-06,\n",
              " 1168174: 1.4582063478638736e-06,\n",
              " 296792: 2.916412695727747e-06,\n",
              " 61: 2.6247714261549725e-05,\n",
              " 1685730: 5.832825391455494e-06,\n",
              " 871534: 5.832825391455494e-06,\n",
              " 1705344: 2.916412695727747e-06,\n",
              " 208925: 4.3746190435916205e-06,\n",
              " 1737228: 1.4582063478638736e-06,\n",
              " 1031786: 1.4582063478638736e-06,\n",
              " 1286823: 1.4582063478638736e-06,\n",
              " 260181: 7.291031739319368e-06,\n",
              " 1408376: 2.916412695727747e-06,\n",
              " 803963: 4.3746190435916205e-06,\n",
              " 1483341: 8.749238087183241e-06,\n",
              " 1499185: 4.3746190435916205e-06,\n",
              " 122289: 1.8956682522230356e-05,\n",
              " 1473016: 1.4582063478638736e-06,\n",
              " 1740009: 1.4582063478638736e-06,\n",
              " 89946: 7.291031739319368e-06,\n",
              " 817445: 2.916412695727747e-06,\n",
              " 62: 8.749238087183241e-06,\n",
              " 1822914: 5.832825391455494e-06,\n",
              " 1601368: 1.4582063478638736e-06,\n",
              " 402932: 1.4582063478638736e-06,\n",
              " 63: 1.7498476174366482e-05,\n",
              " 268939: 5.832825391455494e-06,\n",
              " 1788531: 2.916412695727747e-06,\n",
              " 1630186: 2.916412695727747e-06,\n",
              " 1330009: 2.916412695727747e-06,\n",
              " 1765456: 1.4582063478638736e-06,\n",
              " 1382381: 2.916412695727747e-06,\n",
              " 758777: 1.4582063478638736e-06,\n",
              " 258969: 1.4582063478638736e-06,\n",
              " 1732515: 2.916412695727747e-06,\n",
              " 732009: 1.4582063478638736e-06,\n",
              " 1168913: 1.4582063478638736e-06,\n",
              " 259286: 1.4582063478638736e-06,\n",
              " 64: 4.3746190435916205e-06,\n",
              " 1709106: 1.4582063478638736e-06,\n",
              " 1313246: 4.3746190435916205e-06,\n",
              " 947828: 4.3746190435916205e-06,\n",
              " 65: 2.6247714261549725e-05,\n",
              " 602159: 1.0207444435047115e-05,\n",
              " 1812382: 7.291031739319368e-06,\n",
              " 171318: 3.4996952348732964e-05,\n",
              " 442729: 1.4582063478638736e-06,\n",
              " 76799: 5.395363487096332e-05,\n",
              " 1705481: 4.3746190435916205e-06,\n",
              " 1119900: 2.916412695727747e-06,\n",
              " 1156069: 2.916412695727747e-06,\n",
              " 880042: 1.4582063478638736e-06,\n",
              " 1673827: 4.3746190435916205e-06,\n",
              " 1454964: 8.749238087183241e-06,\n",
              " 341285: 4.3746190435916205e-06,\n",
              " 1405545: 4.3746190435916205e-06,\n",
              " 557790: 1.4582063478638736e-06,\n",
              " 1774222: 2.916412695727747e-06,\n",
              " 717601: 1.4582063478638736e-06,\n",
              " 66: 2.916412695727747e-06,\n",
              " 1741841: 1.4582063478638736e-06,\n",
              " 1672048: 1.4582063478638736e-06,\n",
              " 67: 4.3746190435916205e-06,\n",
              " 566600: 1.4582063478638736e-06,\n",
              " 451245: 2.916412695727747e-06,\n",
              " 1541531: 1.4582063478638736e-06,\n",
              " 68: 2.916412695727747e-06,\n",
              " 1752782: 1.4582063478638736e-06,\n",
              " 1045772: 1.4582063478638736e-06,\n",
              " 69: 1.4582063478638736e-06,\n",
              " 131924: 5.832825391455494e-06,\n",
              " 70: 1.4582063478638736e-06,\n",
              " 871386: 1.4582063478638736e-06,\n",
              " 71: 1.0207444435047115e-05,\n",
              " 746824: 4.3746190435916205e-06,\n",
              " 1854232: 5.832825391455494e-06,\n",
              " 1575746: 1.4582063478638736e-06,\n",
              " 1315204: 1.4582063478638736e-06,\n",
              " 1674297: 5.832825391455494e-06,\n",
              " 1300876: 1.4582063478638736e-06,\n",
              " 1105698: 2.916412695727747e-06,\n",
              " 72: 1.4582063478638736e-06,\n",
              " 1756934: 2.916412695727747e-06,\n",
              " 73: 7.291031739319368e-06,\n",
              " 611306: 2.916412695727747e-06,\n",
              " 489181: 1.4582063478638736e-06,\n",
              " 217164: 1.4582063478638736e-06,\n",
              " 471806: 1.4582063478638736e-06,\n",
              " 202447: 1.4582063478638736e-06,\n",
              " 74: 1.7498476174366482e-05,\n",
              " 1061504: 4.3746190435916205e-06,\n",
              " 1434864: 1.4582063478638736e-06,\n",
              " 1709589: 1.4582063478638736e-06,\n",
              " 1704181: 2.916412695727747e-06,\n",
              " 370494: 7.291031739319368e-06,\n",
              " 237909: 5.832825391455494e-06,\n",
              " 720583: 7.291031739319368e-06,\n",
              " 1400239: 5.832825391455494e-06,\n",
              " 142356: 1.8956682522230356e-05,\n",
              " 1576900: 1.4582063478638736e-06,\n",
              " 1481411: 2.916412695727747e-06,\n",
              " 75: 1.1665650782910989e-05,\n",
              " 1145079: 4.3746190435916205e-06,\n",
              " 1247899: 8.749238087183241e-06,\n",
              " 512330: 1.4582063478638736e-06,\n",
              " 1102064: 4.3746190435916205e-06,\n",
              " 56206: 1.8956682522230356e-05,\n",
              " 13121: 7.291031739319368e-06,\n",
              " 76: 1.4582063478638736e-06,\n",
              " 1183714: 1.4582063478638736e-06,\n",
              " 78: 1.4582063478638736e-06,\n",
              " 1400162: 1.4582063478638736e-06,\n",
              " 79: 2.1873095217958103e-05,\n",
              " 1595558: 1.4582063478638736e-05,\n",
              " 419087: 1.7498476174366482e-05,\n",
              " 1181051: 8.749238087183241e-06,\n",
              " 459884: 4.3746190435916205e-06,\n",
              " 1716876: 1.4582063478638736e-06,\n",
              " 253105: 2.916412695727747e-06,\n",
              " 792819: 1.4582063478638736e-06,\n",
              " 973169: 4.3746190435916205e-06,\n",
              " 348828: 8.749238087183241e-06,\n",
              " 1444240: 2.916412695727747e-06,\n",
              " 609109: 1.4582063478638736e-06,\n",
              " 783907: 1.4582063478638736e-06,\n",
              " 906140: 4.3746190435916205e-06,\n",
              " 1041727: 1.4582063478638736e-06,\n",
              " 756378: 1.4582063478638736e-06,\n",
              " 80: 1.4582063478638736e-06,\n",
              " 361048: 1.4582063478638736e-06,\n",
              " 81: 2.6247714261549725e-05,\n",
              " 1022657: 2.916412695727747e-06,\n",
              " 997656: 1.4582063478638736e-06,\n",
              " 380597: 4.3746190435916205e-06,\n",
              " 1698750: 2.916412695727747e-06,\n",
              " 1738080: 7.291031739319368e-06,\n",
              " 1490625: 4.3746190435916205e-06,\n",
              " 869268: 2.916412695727747e-06,\n",
              " 719978: 4.3746190435916205e-06,\n",
              " 711543: 2.916412695727747e-06,\n",
              " 167186: 2.478950791368585e-05,\n",
              " 276421: 4.3746190435916205e-06,\n",
              " 98471: 1.6040269826502608e-05,\n",
              " 980119: 2.916412695727747e-06,\n",
              " 1813867: 1.4582063478638736e-06,\n",
              " 1398225: 4.3746190435916205e-06,\n",
              " 1600230: 1.4582063478638736e-06,\n",
              " 82: 5.832825391455494e-06,\n",
              " 611092: 4.3746190435916205e-06,\n",
              " 112566: 3.4996952348732964e-05,\n",
              " 288597: 2.916412695727747e-06,\n",
              " 83: 5.832825391455494e-06,\n",
              " 1521498: 4.3746190435916205e-06,\n",
              " 19406: 4.3746190435916207e-05,\n",
              " 1768082: 1.4582063478638736e-06,\n",
              " 1711525: 5.832825391455494e-06,\n",
              " 84: 3.2080539653005216e-05,\n",
              " 628304: 1.6040269826502608e-05,\n",
              " 1831501: 5.832825391455494e-06,\n",
              " 495318: 7.291031739319368e-06,\n",
              " 344428: 4.3746190435916205e-06,\n",
              " 219656: 4.3746190435916205e-06,\n",
              " 1812006: 2.916412695727747e-06,\n",
              " 489480: 4.3746190435916205e-06,\n",
              " 1182549: 7.291031739319368e-06,\n",
              " 946366: 2.916412695727747e-06,\n",
              " 164496: 3.645515869659684e-05,\n",
              " 941898: 7.291031739319368e-06,\n",
              " 447831: 7.291031739319368e-06,\n",
              " 1362510: 4.3746190435916205e-06,\n",
              " 1354719: 1.4582063478638736e-06,\n",
              " 1498955: 1.4582063478638736e-06,\n",
              " 1125968: 2.916412695727747e-06,\n",
              " 244887: 2.916412695727747e-06,\n",
              " 636422: 2.916412695727747e-06,\n",
              " 751223: 1.4582063478638736e-06,\n",
              " 1354664: 2.916412695727747e-06,\n",
              " 597299: 2.916412695727747e-06,\n",
              " 86: 1.4582063478638736e-06,\n",
              " 907649: 2.916412695727747e-06,\n",
              " 87: 2.77059206094136e-05,\n",
              " 1194997: 2.916412695727747e-06,\n",
              " 1003093: 2.916412695727747e-06,\n",
              " 109627: 1.3123857130774862e-05,\n",
              " 1854354: 1.4582063478638736e-06,\n",
              " 454942: 2.916412695727747e-06,\n",
              " 521421: 1.4582063478638736e-06,\n",
              " 1159153: 1.4582063478638736e-06,\n",
              " 508650: 4.3746190435916205e-06,\n",
              " 231172: 4.3746190435916205e-06,\n",
              " 1234791: 1.4582063478638736e-06,\n",
              " 441051: 1.4582063478638736e-06,\n",
              " 3347: 1.0207444435047115e-05,\n",
              " 295799: 4.3746190435916205e-06,\n",
              " 80780: 7.291031739319368e-06,\n",
              " 1184475: 2.916412695727747e-06,\n",
              " 88: 1.4582063478638736e-06,\n",
              " 201540: 2.916412695727747e-06,\n",
              " 89: 1.8956682522230356e-05,\n",
              " 948959: 1.7498476174366482e-05,\n",
              " 878526: 1.4582063478638736e-06,\n",
              " 1755151: 4.3746190435916205e-06,\n",
              " 1820119: 1.4582063478638736e-06,\n",
              " 412572: 1.0207444435047115e-05,\n",
              " 436243: 4.3746190435916205e-06,\n",
              " 1436178: 5.832825391455494e-06,\n",
              " 236707: 4.3746190435916205e-06,\n",
              " 874621: 1.4582063478638736e-06,\n",
              " 704901: 1.4582063478638736e-06,\n",
              " 1024220: 7.291031739319368e-06,\n",
              " 627987: 1.4582063478638736e-06,\n",
              " 91: 1.4582063478638736e-06,\n",
              " 800472: 2.916412695727747e-06,\n",
              " 93: 1.4582063478638736e-06,\n",
              " 232270: 1.4582063478638736e-06,\n",
              " 94: 2.916412695727747e-06,\n",
              " 1571211: 1.4582063478638736e-06,\n",
              " 785283: 1.4582063478638736e-06,\n",
              " 95: 1.4582063478638736e-06,\n",
              " 236966: 2.916412695727747e-06,\n",
              " 96: 1.4582063478638736e-06,\n",
              " 453195: 1.4582063478638736e-06,\n",
              " 98: 2.916412695727747e-06,\n",
              " 472174: 2.916412695727747e-06,\n",
              " 1144628: 1.4582063478638736e-06,\n",
              " 99: 4.3746190435916205e-06,\n",
              " 237694: 1.1665650782910989e-05,\n",
              " 1723995: 5.832825391455494e-06,\n",
              " 582267: 2.916412695727747e-06,\n",
              " 101: 1.4582063478638736e-06,\n",
              " 1058638: 2.916412695727747e-06,\n",
              " 102: 8.749238087183241e-06,\n",
              " 124268: 2.478950791368585e-05,\n",
              " 429822: 5.832825391455494e-06,\n",
              " 837022: 4.3746190435916205e-06,\n",
              " 531989: 4.3746190435916205e-06,\n",
              " 793303: 1.4582063478638736e-06,\n",
              " 104: 1.4582063478638736e-06,\n",
              " 644509: 1.4582063478638736e-06,\n",
              " 105: 1.4582063478638736e-05,\n",
              " 1625115: 5.832825391455494e-06,\n",
              " 578479: 2.916412695727747e-06,\n",
              " 566519: 4.3746190435916205e-06,\n",
              " 45974: 2.6247714261549725e-05,\n",
              " 1154097: 5.832825391455494e-06,\n",
              " 1766921: 1.4582063478638736e-06,\n",
              " 1407805: 1.4582063478638736e-06,\n",
              " 1418762: 4.3746190435916205e-06,\n",
              " 1391542: 2.916412695727747e-06,\n",
              " 106: 7.291031739319368e-06,\n",
              " 266064: 2.916412695727747e-06,\n",
              " 1122174: 4.3746190435916205e-06,\n",
              " 1784331: 1.4582063478638736e-06,\n",
              " 1266933: 4.3746190435916205e-06,\n",
              " 237219: 1.4582063478638736e-06,\n",
              " 107: 5.832825391455494e-06,\n",
              " 615816: 1.4582063478638736e-06,\n",
              " 1321486: 1.4582063478638736e-06,\n",
              " 933251: 1.4582063478638736e-06,\n",
              " 486260: 1.4582063478638736e-06,\n",
              " 108: 1.4582063478638736e-06,\n",
              " 358350: 1.4582063478638736e-06,\n",
              " 109: 1.4582063478638736e-06,\n",
              " 1003858: 1.4582063478638736e-06,\n",
              " 110: 1.4582063478638736e-06,\n",
              " 412863: 1.4582063478638736e-06,\n",
              " 111: 4.2287984088052336e-05,\n",
              " 184581: 3.0622333305141346e-05,\n",
              " 1519665: 1.4582063478638736e-06,\n",
              " 297069: 2.916412695727747e-06,\n",
              " 1276690: 1.4582063478638736e-06,\n",
              " 1390248: 1.4582063478638736e-06,\n",
              " 1226594: 4.3746190435916205e-06,\n",
              " 1850951: 1.4582063478638736e-06,\n",
              " 1723555: 2.916412695727747e-06,\n",
              " 1178224: 2.916412695727747e-06,\n",
              " 1847174: 4.3746190435916205e-06,\n",
              " 468743: 1.4582063478638736e-06,\n",
              " 524048: 4.3746190435916205e-06,\n",
              " 233077: 2.916412695727747e-06,\n",
              " 1724509: 2.916412695727747e-06,\n",
              " 1861931: 4.3746190435916205e-06,\n",
              " 1121338: 2.916412695727747e-06,\n",
              " 1382582: 1.4582063478638736e-06,\n",
              " 1384121: 5.832825391455494e-06,\n",
              " 806470: 1.4582063478638736e-06,\n",
              " 1233289: 1.4582063478638736e-06,\n",
              " 1775946: 1.4582063478638736e-06,\n",
              " 1850147: 1.4582063478638736e-06,\n",
              " 648943: 1.4582063478638736e-06,\n",
              " 1273025: 1.4582063478638736e-06,\n",
              " 671541: 1.4582063478638736e-06,\n",
              " 747365: 1.4582063478638736e-06,\n",
              " 175669: 4.3746190435916205e-06,\n",
              " 112: 2.916412695727747e-06,\n",
              " 675562: 1.4582063478638736e-06,\n",
              " 821470: 1.4582063478638736e-06,\n",
              " 113: 1.4582063478638736e-06,\n",
              " 547644: 2.916412695727747e-06,\n",
              " 115: 1.4582063478638736e-06,\n",
              " 1270945: 1.4582063478638736e-06,\n",
              " 116: 1.4582063478638736e-06,\n",
              " 1394223: 2.916412695727747e-06,\n",
              " 117: 2.041488887009423e-05,\n",
              " 245746: 1.4582063478638736e-06,\n",
              " 1315537: 4.3746190435916205e-06,\n",
              " 323398: 4.3746190435916205e-06,\n",
              " 259972: 8.749238087183241e-06,\n",
              " 1618429: 1.4582063478638736e-06,\n",
              " 296239: 1.4582063478638736e-06,\n",
              " 981622: 2.916412695727747e-06,\n",
              " 1452096: 2.916412695727747e-06,\n",
              " 185553: 1.1665650782910989e-05,\n",
              " 416110: 1.4582063478638736e-06,\n",
              " 1082885: 2.916412695727747e-06,\n",
              " 1519107: 1.4582063478638736e-06,\n",
              " 1405921: 1.4582063478638736e-06,\n",
              " 118: 4.3746190435916205e-06,\n",
              " 146690: 4.6662603131643954e-05,\n",
              " 707932: 1.4582063478638736e-06,\n",
              " 119: 2.041488887009423e-05,\n",
              " 1495706: 5.832825391455494e-06,\n",
              " 255000: 2.916412695727747e-06,\n",
              " 852555: 5.832825391455494e-06,\n",
              " 809936: 1.4582063478638736e-05,\n",
              " 875039: 5.832825391455494e-06,\n",
              " 93610: 1.8956682522230356e-05,\n",
              " 86004: 1.6040269826502608e-05,\n",
              " 779396: 2.916412695727747e-06,\n",
              " 327613: 8.749238087183241e-06,\n",
              " 1293375: 2.916412695727747e-06,\n",
              " 261599: 4.3746190435916205e-06,\n",
              " 120: 1.4582063478638736e-06,\n",
              " 862294: 2.916412695727747e-06,\n",
              " 121: 5.832825391455494e-06,\n",
              " 103376: 8.165955548037692e-05,\n",
              " 487812: 5.832825391455494e-06,\n",
              " 385535: 1.4582063478638736e-06,\n",
              " 508962: 1.4582063478638736e-06,\n",
              " 122: 3.4996952348732964e-05,\n",
              " 1739931: 5.832825391455494e-06,\n",
              " 862700: 5.832825391455494e-06,\n",
              " 1405347: 5.832825391455494e-06,\n",
              " 1500867: 2.916412695727747e-06,\n",
              " 1171449: 1.4582063478638736e-06,\n",
              " 581797: 1.4582063478638736e-06,\n",
              " 252892: 1.4582063478638736e-06,\n",
              " 1049126: 2.916412695727747e-06,\n",
              " 1638581: 1.4582063478638736e-06,\n",
              " 1586443: 4.3746190435916205e-06,\n",
              " 1687614: 1.4582063478638736e-06,\n",
              " 1502201: 1.4582063478638736e-06,\n",
              " 113017: 7.291031739319368e-06,\n",
              " 1032567: 1.4582063478638736e-06,\n",
              " 603098: 2.916412695727747e-06,\n",
              " 1601261: 1.4582063478638736e-06,\n",
              " 1789585: 4.3746190435916205e-06,\n",
              " 1757805: 1.4582063478638736e-06,\n",
              " 922781: 2.916412695727747e-06,\n",
              " 721778: 1.4582063478638736e-06,\n",
              " 1646238: 1.4582063478638736e-06,\n",
              " 1163641: 2.916412695727747e-06,\n",
              " 1418295: 1.4582063478638736e-06,\n",
              " 123: 1.4582063478638736e-06,\n",
              " 525674: 4.3746190435916205e-06,\n",
              " 125: 2.041488887009423e-05,\n",
              " 1254433: 2.916412695727747e-06,\n",
              " 30404: 4.95790158273717e-05,\n",
              " 1171122: 5.832825391455494e-06,\n",
              " 344575: 2.916412695727747e-06,\n",
              " 652927: 4.3746190435916205e-06,\n",
              " 666374: 1.1665650782910989e-05,\n",
              " 671301: 1.4582063478638736e-06,\n",
              " 1824545: 4.3746190435916205e-06,\n",
              " 199458: 1.4582063478638736e-06,\n",
              " 1608293: 1.4582063478638736e-06,\n",
              " 1304583: 1.4582063478638736e-06,\n",
              " 134946: 2.916412695727747e-06,\n",
              " 126: 1.4582063478638736e-06,\n",
              " 193651: 5.832825391455494e-06,\n",
              " 127: 8.749238087183241e-06,\n",
              " 580880: 2.916412695727747e-06,\n",
              " 880649: 2.916412695727747e-06,\n",
              " 1049839: 4.3746190435916205e-06,\n",
              " 1612915: 1.4582063478638736e-06,\n",
              " 1073850: 2.916412695727747e-06,\n",
              " 178165: 8.749238087183241e-06,\n",
              " 128: 1.4582063478638736e-06,\n",
              " 857471: 1.4582063478638736e-06,\n",
              " 130: 1.3123857130774862e-05,\n",
              " 499097: 5.832825391455494e-06,\n",
              " 282933: 5.832825391455494e-06,\n",
              " 904365: 5.832825391455494e-06,\n",
              " 953250: 5.832825391455494e-06,\n",
              " 202772: 4.3746190435916205e-06,\n",
              " 485035: 2.916412695727747e-06,\n",
              " 4072: 8.749238087183241e-06,\n",
              " 1570182: 2.916412695727747e-06,\n",
              " 132: 4.3746190435916205e-06,\n",
              " 1730988: 4.3746190435916205e-06,\n",
              " 482928: 1.4582063478638736e-06,\n",
              " 982571: 2.916412695727747e-06,\n",
              " 133: 1.1665650782910989e-05,\n",
              " 1210717: 1.4582063478638736e-06,\n",
              " 1336080: 2.916412695727747e-06,\n",
              " 37527: 1.3123857130774862e-05,\n",
              " 819390: 2.916412695727747e-06,\n",
              " 345681: 4.3746190435916205e-06,\n",
              " 1101843: 1.4582063478638736e-06,\n",
              " 1325424: 1.4582063478638736e-06,\n",
              " 135: 7.582673008892142e-05,\n",
              " 612535: 1.4582063478638736e-06,\n",
              " 593597: 2.916412695727747e-06,\n",
              " 1166489: 1.4582063478638736e-06,\n",
              " 1746180: 2.916412695727747e-06,\n",
              " 168795: 7.291031739319368e-05,\n",
              " 347708: 1.0207444435047115e-05,\n",
              " 36562: 3.791336504446071e-05,\n",
              " 428269: 1.7498476174366482e-05,\n",
              " 161908: 5.9786460262418815e-05,\n",
              " 717660: 4.3746190435916205e-06,\n",
              " 684382: 2.916412695727747e-06,\n",
              " 1146696: 4.3746190435916205e-06,\n",
              " 1623787: 1.4582063478638736e-06,\n",
              " 839774: 2.916412695727747e-06,\n",
              " 100378: 1.6040269826502608e-05,\n",
              " 71740: 3.791336504446071e-05,\n",
              " 1498540: 4.3746190435916205e-06,\n",
              " 808799: 7.291031739319368e-06,\n",
              " 1647182: 1.4582063478638736e-06,\n",
              " 1578593: 2.916412695727747e-06,\n",
              " 1025388: 1.0207444435047115e-05,\n",
              " 1769211: 1.6040269826502608e-05,\n",
              " 956320: 1.1665650782910989e-05,\n",
              " 1643728: 1.4582063478638736e-06,\n",
              " 925682: 1.4582063478638736e-06,\n",
              " 564165: 2.916412695727747e-06,\n",
              " 951962: 2.916412695727747e-06,\n",
              " 962111: 4.3746190435916205e-06,\n",
              " 969308: 4.3746190435916205e-06,\n",
              " 607835: 1.4582063478638736e-06,\n",
              " 1832076: 4.3746190435916205e-06,\n",
              " 508098: 1.4582063478638736e-06,\n",
              " 1084361: 1.4582063478638736e-06,\n",
              " 618863: 4.3746190435916205e-06,\n",
              " 1646757: 1.4582063478638736e-06,\n",
              " 1617835: 2.916412695727747e-06,\n",
              " 250674: 1.4582063478638736e-06,\n",
              " 1465671: 1.4582063478638736e-06,\n",
              " 491567: 1.4582063478638736e-06,\n",
              " 740672: 4.3746190435916205e-06,\n",
              " 1231569: 1.4582063478638736e-06,\n",
              " 953125: 2.916412695727747e-06,\n",
              " 242147: 1.4582063478638736e-06,\n",
              " 1835285: 1.4582063478638736e-06,\n",
              " 1844669: 1.4582063478638736e-06,\n",
              " 822004: 1.4582063478638736e-06,\n",
              " 506857: 1.4582063478638736e-06,\n",
              " 136: 1.6040269826502608e-05,\n",
              " 433374: 5.832825391455494e-06,\n",
              " 1527751: 1.4582063478638736e-06,\n",
              " 1222229: 4.3746190435916205e-06,\n",
              " 1541805: 2.916412695727747e-06,\n",
              " 1483192: 2.916412695727747e-06,\n",
              " 1721537: 2.916412695727747e-06,\n",
              " 61698: 2.916412695727747e-06,\n",
              " 1427267: 2.916412695727747e-06,\n",
              " 754689: 1.4582063478638736e-06,\n",
              " 1146329: 2.916412695727747e-06,\n",
              " 137: 1.4582063478638736e-06,\n",
              " 1768787: 5.832825391455494e-06,\n",
              " 138: 2.916412695727747e-06,\n",
              " 479543: 1.4582063478638736e-06,\n",
              " 1007606: 2.916412695727747e-06,\n",
              " 139: 4.3746190435916205e-06,\n",
              " 1102059: 4.3746190435916205e-06,\n",
              " 1364631: 2.916412695727747e-06,\n",
              " 140: 5.832825391455494e-06,\n",
              " 1122310: 7.291031739319368e-06,\n",
              " 100170: 1.0207444435047115e-05,\n",
              " 625577: 2.916412695727747e-06,\n",
              " 141: 1.4582063478638736e-06,\n",
              " 368227: 8.749238087183241e-06,\n",
              " 142: 4.3746190435916205e-06,\n",
              " 694465: 5.832825391455494e-06,\n",
              " 1068238: 1.4582063478638736e-06,\n",
              " 143: 1.7498476174366482e-05,\n",
              " 1608536: 8.749238087183241e-06,\n",
              " 29868: 5.103722217523557e-05,\n",
              " 30678: 2.3331301565821977e-05,\n",
              " 20832: 6.999390469746593e-05,\n",
              " 385744: 1.4582063478638736e-06,\n",
              " 1003694: 1.4582063478638736e-06,\n",
              " 1784446: 1.4582063478638736e-06,\n",
              " 283299: 5.832825391455494e-06,\n",
              " 1579486: 1.4582063478638736e-06,\n",
              " 145: 1.4582063478638736e-06,\n",
              " 1790320: 1.4582063478638736e-06,\n",
              " 146: 5.832825391455494e-06,\n",
              " 44123: 3.0622333305141346e-05,\n",
              " 1804972: 2.916412695727747e-06,\n",
              " 882846: 4.3746190435916205e-06,\n",
              " 1829224: 2.916412695727747e-06,\n",
              " 147: 2.916412695727747e-06,\n",
              " 775423: 1.4582063478638736e-06,\n",
              " 1065996: 1.4582063478638736e-06,\n",
              " 148: 7.291031739319368e-06,\n",
              " 1315276: 7.291031739319368e-06,\n",
              " 1165746: 2.916412695727747e-06,\n",
              " 143737: 1.6040269826502608e-05,\n",
              " 1773940: 4.3746190435916205e-06,\n",
              " 679568: 2.916412695727747e-06,\n",
              " 149: 1.4582063478638736e-06,\n",
              " 1165815: 1.4582063478638736e-06,\n",
              " 150: 1.4582063478638736e-06,\n",
              " 1455822: 1.4582063478638736e-06,\n",
              " 151: 1.4582063478638736e-06,\n",
              " 1741895: 1.4582063478638736e-06,\n",
              " 152: 1.8956682522230356e-05,\n",
              " 1319086: 7.291031739319368e-06,\n",
              " 629024: 7.291031739319368e-06,\n",
              " 150431: 3.3538746000869094e-05,\n",
              " 1760659: 1.1665650782910989e-05,\n",
              " 1536764: 8.749238087183241e-06,\n",
              " 588919: 7.291031739319368e-06,\n",
              " 376997: 7.291031739319368e-06,\n",
              " 1675448: 4.3746190435916205e-06,\n",
              " 936670: 2.916412695727747e-06,\n",
              " 153: 7.291031739319368e-06,\n",
              " 527826: 2.916412695727747e-06,\n",
              " 166580: 7.291031739319368e-06,\n",
              " 626388: 2.916412695727747e-06,\n",
              " 1045001: 1.4582063478638736e-06,\n",
              " 154: 5.54118412188272e-05,\n",
              " 1273853: 1.4582063478638736e-06,\n",
              " 962460: 2.916412695727747e-06,\n",
              " 93121: 1.1665650782910989e-05,\n",
              " 1304780: 2.916412695727747e-06,\n",
              " 380280: 2.916412695727747e-06,\n",
              " 736969: 4.3746190435916205e-06,\n",
              " 767212: 4.3746190435916205e-06,\n",
              " 591467: 2.916412695727747e-06,\n",
              " 1857731: 2.916412695727747e-06,\n",
              " 27544: 2.916412695727747e-06,\n",
              " 1812401: 2.916412695727747e-06,\n",
              " 652098: 2.916412695727747e-06,\n",
              " 1823990: 2.916412695727747e-06,\n",
              " 813453: 1.4582063478638736e-06,\n",
              " 1714716: 1.4582063478638736e-06,\n",
              " 296977: 1.4582063478638736e-06,\n",
              " 1739769: 2.916412695727747e-06,\n",
              " 248243: 1.4582063478638736e-06,\n",
              " 1359304: 4.3746190435916205e-06,\n",
              " 280203: 1.4582063478638736e-06,\n",
              " 26862: 1.7498476174366482e-05,\n",
              " 496603: 1.4582063478638736e-06,\n",
              " 1030041: 1.4582063478638736e-06,\n",
              " 1088677: 1.4582063478638736e-06,\n",
              " 371906: 1.4582063478638736e-06,\n",
              " 745099: 2.916412695727747e-06,\n",
              " 1269699: 1.4582063478638736e-06,\n",
              " 1622333: 1.4582063478638736e-06,\n",
              " 1534571: 1.4582063478638736e-06,\n",
              " 830762: 1.4582063478638736e-06,\n",
              " 667918: 1.4582063478638736e-06,\n",
              " 234148: 1.4582063478638736e-06,\n",
              " 1692748: 1.4582063478638736e-06,\n",
              " 1271971: 1.4582063478638736e-06,\n",
              " 908717: 1.4582063478638736e-06,\n",
              " 505050: 1.4582063478638736e-06,\n",
              " 1081991: 1.4582063478638736e-06,\n",
              " 155: 1.0207444435047115e-05,\n",
              " 611954: 1.4582063478638736e-06,\n",
              " 990325: 4.3746190435916205e-06,\n",
              " 1594405: 5.832825391455494e-06,\n",
              " 391505: 1.4582063478638736e-06,\n",
              " 1259916: 4.3746190435916205e-06,\n",
              " 50571: 2.916412695727747e-06,\n",
              " 156: 8.749238087183241e-06,\n",
              " 332995: 1.1665650782910989e-05,\n",
              " 1474531: 1.4582063478638736e-06,\n",
              " 1709921: 1.0207444435047115e-05,\n",
              " 1118944: 1.4582063478638736e-06,\n",
              " 1164808: 1.4582063478638736e-06,\n",
              " 1365638: 1.4582063478638736e-06,\n",
              " 157: 2.916412695727747e-06,\n",
              " 1110246: 2.916412695727747e-06,\n",
              " 159: 1.4582063478638736e-06,\n",
              " 217322: 1.4582063478638736e-06,\n",
              " 160: 8.749238087183241e-06,\n",
              " 873150: 2.916412695727747e-06,\n",
              " 504273: 4.3746190435916205e-06,\n",
              " 935558: 1.4582063478638736e-06,\n",
              " 1080124: 1.4582063478638736e-06,\n",
              " 1065503: 1.4582063478638736e-06,\n",
              " 1223149: 5.832825391455494e-06,\n",
              " 161: 2.916412695727747e-06,\n",
              " 612043: 4.3746190435916205e-06,\n",
              " 1542729: 1.4582063478638736e-06,\n",
              " 163: 1.7498476174366482e-05,\n",
              " 1579539: 8.749238087183241e-06,\n",
              " 1614761: 7.291031739319368e-06,\n",
              " 1772229: 5.832825391455494e-06,\n",
              " 1746941: 1.0207444435047115e-05,\n",
              " 742658: 4.3746190435916205e-06,\n",
              " 928359: 2.916412695727747e-06,\n",
              " 705565: 7.291031739319368e-06,\n",
              " 1533384: 4.3746190435916205e-06,\n",
              " 315604: 4.3746190435916205e-06,\n",
              " 810753: 1.4582063478638736e-06,\n",
              " 1294153: 7.291031739319368e-06,\n",
              " 164: 4.3746190435916205e-06,\n",
              " 1478790: 1.1665650782910989e-05,\n",
              " 1188073: 1.4582063478638736e-06,\n",
              " 1847742: 1.4582063478638736e-06,\n",
              " 165: 1.4582063478638736e-06,\n",
              " 139728: 1.4582063478638736e-06,\n",
              " 166: 4.3746190435916205e-06,\n",
              " 1281467: 7.291031739319368e-06,\n",
              " 536060: 5.832825391455494e-06,\n",
              " 663272: 1.4582063478638736e-06,\n",
              " 167: 1.4582063478638736e-06,\n",
              " 597139: 1.4582063478638736e-06,\n",
              " 168: 1.0207444435047115e-05,\n",
              " 952523: 1.4582063478638736e-06,\n",
              " 1063176: 2.916412695727747e-06,\n",
              " 204709: 1.4582063478638736e-06,\n",
              " 942370: 1.4582063478638736e-06,\n",
              " 1608317: 2.916412695727747e-06,\n",
              " 1149931: 1.4582063478638736e-06,\n",
              " 1166908: 4.3746190435916205e-06,\n",
              " 170: 1.8956682522230356e-05,\n",
              " 930854: 8.749238087183241e-06,\n",
              " 177989: 2.77059206094136e-05,\n",
              " 789700: 1.4582063478638736e-06,\n",
              " 1778092: 2.916412695727747e-06,\n",
              " 509793: 2.916412695727747e-06,\n",
              " 1861582: 5.832825391455494e-06,\n",
              " 1252327: 2.916412695727747e-06,\n",
              " 1672986: 4.3746190435916205e-06,\n",
              " 705856: 1.4582063478638736e-06,\n",
              " 676802: 2.916412695727747e-06,\n",
              " 545836: 2.916412695727747e-06,\n",
              " 358857: 2.916412695727747e-06,\n",
              " 171: 6.416107930601043e-05,\n",
              " 652545: 2.916412695727747e-06,\n",
              " 495157: 1.4582063478638736e-05,\n",
              " 956716: 1.1665650782910989e-05,\n",
              " 1784396: 2.916412695727747e-06,\n",
              " 665233: 2.478950791368585e-05,\n",
              " 1773998: 4.3746190435916205e-06,\n",
              " 124205: 4.2287984088052336e-05,\n",
              " 1686016: 1.0207444435047115e-05,\n",
              " 167372: 0.00015019525382997898,\n",
              " 1072213: 4.3746190435916205e-06,\n",
              " 1210546: 1.1665650782910989e-05,\n",
              " 382635: 7.291031739319368e-06,\n",
              " 391144: 5.832825391455494e-06,\n",
              " 1405597: 1.0207444435047115e-05,\n",
              " 1622184: 2.916412695727747e-06,\n",
              " 429565: 1.4582063478638736e-06,\n",
              " 1262028: 4.3746190435916205e-06,\n",
              " 651379: 1.4582063478638736e-06,\n",
              " 1131806: 1.0207444435047115e-05,\n",
              " 183303: 6.853569834960206e-05,\n",
              " 1730708: 2.916412695727747e-06,\n",
              " 255580: 1.4582063478638736e-06,\n",
              " 597356: 5.832825391455494e-06,\n",
              " 1071272: 1.4582063478638736e-06,\n",
              " 143917: 4.3746190435916205e-06,\n",
              " 1170552: 5.832825391455494e-06,\n",
              " 1471278: 2.916412695727747e-06,\n",
              " 1756610: 2.916412695727747e-06,\n",
              " 127181: 7.291031739319368e-06,\n",
              " 1571476: 2.916412695727747e-06,\n",
              " 1267832: 2.916412695727747e-06,\n",
              " 1825254: 1.4582063478638736e-06,\n",
              " 927274: 2.916412695727747e-06,\n",
              " 912681: 1.4582063478638736e-06,\n",
              " 799586: 1.4582063478638736e-06,\n",
              " 187805: 2.916412695727747e-06,\n",
              " 1400484: 1.4582063478638736e-06,\n",
              " 864239: 2.916412695727747e-06,\n",
              " 172: 3.4996952348732964e-05,\n",
              " 4769: 8.749238087183241e-05,\n",
              " 906059: 1.4582063478638736e-05,\n",
              " 372997: 7.291031739319368e-06,\n",
              " 1208963: 1.1665650782910989e-05,\n",
              " 346991: 1.1665650782910989e-05,\n",
              " 1172153: 5.832825391455494e-06,\n",
              " 161309: 1.3123857130774862e-05,\n",
              " 200086: 4.3746190435916205e-06,\n",
              " 642842: 1.0207444435047115e-05,\n",
              " 153393: 5.395363487096332e-05,\n",
              " 625473: 4.3746190435916205e-06,\n",
              " 1453902: 8.749238087183241e-06,\n",
              " 703254: 2.916412695727747e-06,\n",
              " 1591526: 7.291031739319368e-06,\n",
              " 94719: 8.749238087183241e-06,\n",
              " 1851039: 2.916412695727747e-06,\n",
              " 1556441: 1.4582063478638736e-06,\n",
              " 1359168: 1.4582063478638736e-06,\n",
              " 1233403: 2.916412695727747e-06,\n",
              " 891719: 1.4582063478638736e-06,\n",
              " 174: 1.4582063478638736e-06,\n",
              " 1454201: 1.4582063478638736e-06,\n",
              " 175: 5.832825391455494e-06,\n",
              " 262454: 7.291031739319368e-06,\n",
              " 945369: 7.291031739319368e-06,\n",
              " 979716: 2.916412695727747e-06,\n",
              " 176: 1.4582063478638736e-06,\n",
              " 1410138: 8.749238087183241e-06,\n",
              " 177: 1.4582063478638736e-06,\n",
              " 1337513: 1.4582063478638736e-06,\n",
              " 178: 5.832825391455494e-06,\n",
              " 185820: 1.4582063478638736e-06,\n",
              " 31865: 7.291031739319368e-06,\n",
              " 336157: 1.4582063478638736e-06,\n",
              " 179: 2.9164126957277472e-05,\n",
              " 1483220: 1.0207444435047115e-05,\n",
              " 271130: 5.832825391455494e-06,\n",
              " 1084031: 5.832825391455494e-06,\n",
              " 861489: 4.3746190435916205e-06,\n",
              " 781383: 2.916412695727747e-06,\n",
              " 1228513: 1.0207444435047115e-05,\n",
              " 1567328: 1.4582063478638736e-06,\n",
              " 96588: 2.3331301565821977e-05,\n",
              " 1497030: 4.3746190435916205e-06,\n",
              " 462643: 4.3746190435916205e-06,\n",
              " 330270: 4.3746190435916205e-06,\n",
              " 1786977: 4.3746190435916205e-06,\n",
              " 310769: 7.291031739319368e-06,\n",
              " 232801: 4.3746190435916205e-06,\n",
              " 1503576: 2.916412695727747e-06,\n",
              " 486560: 2.916412695727747e-06,\n",
              " 707486: 4.3746190435916205e-06,\n",
              " 934657: 1.4582063478638736e-06,\n",
              " 529357: 1.4582063478638736e-06,\n",
              " 180: 1.4582063478638736e-06,\n",
              " 1272584: 2.916412695727747e-06,\n",
              " 181: 7.291031739319368e-06,\n",
              " ...}"
            ]
          },
          "metadata": {},
          "execution_count": 101
        }
      ],
      "source": [
        "#Displaying Degree Centrality\n",
        "degree_centrality"
      ]
    },
    {
      "cell_type": "code",
      "execution_count": 102,
      "metadata": {
        "colab": {
          "base_uri": "https://localhost:8080/",
          "height": 0
        },
        "id": "H39KHHK8P-PY",
        "outputId": "a062521f-2923-4a11-d75e-91ea92ae6bd0"
      },
      "outputs": [
        {
          "output_type": "execute_result",
          "data": {
            "text/plain": [
              "0    0.000006\n",
              "1    0.000006\n",
              "2    0.000006\n",
              "3    0.000009\n",
              "4    0.000009\n",
              "Name: degree_centrality_source, dtype: float64"
            ]
          },
          "metadata": {},
          "execution_count": 102
        }
      ],
      "source": [
        "train_subset['degree_centrality_source'] = train_subset['source_node'].map(degree_centrality)\n",
        "train_subset['degree_centrality_source'].head()"
      ]
    },
    {
      "cell_type": "code",
      "execution_count": 103,
      "metadata": {
        "colab": {
          "base_uri": "https://localhost:8080/",
          "height": 385
        },
        "id": "dWnoWUN-UV18",
        "outputId": "3c5d99b8-f4dc-4a4e-89e9-f1365bb59941"
      },
      "outputs": [
        {
          "output_type": "display_data",
          "data": {
            "text/plain": [
              "<Figure size 368x360 with 1 Axes>"
            ],
            "image/png": "[encoded data removed]"
          },
          "metadata": {
            "needs_background": "light"
          }
        }
      ],
      "source": [
        "#Displaying data in form of grid using Facetgrid \n",
        "sns.FacetGrid(train_subset, height=5) \\\n",
        "   .map(sns.distplot, \"degree_centrality_source\") \\\n",
        "   .add_legend();\n",
        "plt.title(\"Distribution plot for degree_centrality_source\")#Distribution Plot\n",
        "plt.show();"
      ]
    },
    {
      "cell_type": "code",
      "execution_count": 104,
      "metadata": {
        "colab": {
          "base_uri": "https://localhost:8080/",
          "height": 0
        },
        "id": "98xFbTDtQLaB",
        "outputId": "741b47e0-23f9-4202-ef31-f4fa1e53173f"
      },
      "outputs": [
        {
          "output_type": "execute_result",
          "data": {
            "text/plain": [
              "0    0.000004\n",
              "1    0.000003\n",
              "2    0.000009\n",
              "3    0.000007\n",
              "4    0.000003\n",
              "Name: degree_centrality_destination, dtype: float64"
            ]
          },
          "metadata": {},
          "execution_count": 104
        }
      ],
      "source": [
        "train_subset['degree_centrality_destination'] = train_subset['destination_node'].map(degree_centrality)\n",
        "train_subset['degree_centrality_destination'].head()"
      ]
    },
    {
      "cell_type": "code",
      "execution_count": 105,
      "metadata": {
        "colab": {
          "base_uri": "https://localhost:8080/",
          "height": 382
        },
        "id": "A2IE9TpVQcAf",
        "outputId": "4edac4a4-afd7-4172-bf55-fcf270777159"
      },
      "outputs": [
        {
          "output_type": "display_data",
          "data": {
            "text/plain": [
              "<Figure size 368x360 with 1 Axes>"
            ],
            "image/png": "[encoded data removed]"
          },
          "metadata": {
            "needs_background": "light"
          }
        }
      ],
      "source": [
        "#Displaying data in form of grid using Facetgrid \n",
        "sns.FacetGrid(train_subset, height=5) \\\n",
        "   .map(sns.distplot, \"degree_centrality_destination\") \\\n",
        "   .add_legend();\n",
        "plt.title(\"Distribution plot for degree_centrality_destination\")#Distribution Plot\n",
        "plt.show();"
      ]
    },
    {
      "cell_type": "code",
      "execution_count": 106,
      "metadata": {
        "colab": {
          "base_uri": "https://localhost:8080/",
          "height": 0
        },
        "id": "f0XZ-AamxukW",
        "outputId": "db5cbd88-62ca-4b91-f041-57a6d879a008"
      },
      "outputs": [
        {
          "output_type": "execute_result",
          "data": {
            "text/plain": [
              "0    0.000004\n",
              "1    0.000004\n",
              "2    0.000004\n",
              "3    0.000000\n",
              "4    0.000000\n",
              "Name: outdegree_centrality_source, dtype: float64"
            ]
          },
          "metadata": {},
          "execution_count": 106
        }
      ],
      "source": [
        "train_subset['outdegree_centrality_source'] = train_subset['source_node'].apply(get_outdegree_centrality)\n",
        "train_subset['outdegree_centrality_source'].head()"
      ]
    },
    {
      "cell_type": "code",
      "execution_count": 107,
      "metadata": {
        "colab": {
          "base_uri": "https://localhost:8080/",
          "height": 385
        },
        "id": "qQFbypW6UkXw",
        "outputId": "912997f5-1903-4454-d64e-4012efaeee45"
      },
      "outputs": [
        {
          "output_type": "display_data",
          "data": {
            "text/plain": [
              "<Figure size 368x360 with 1 Axes>"
            ],
            "image/png": "[encoded data removed]"
          },
          "metadata": {
            "needs_background": "light"
          }
        }
      ],
      "source": [
        "#Displaying data in form of grid using Facetgrid \n",
        "sns.FacetGrid(train_subset, height=5) \\\n",
        "   .map(sns.distplot, \"outdegree_centrality_source\") \\\n",
        "   .add_legend();\n",
        "plt.title(\"Distribution plot for outdegree_centrality_source\")#Distribution Plot\n",
        "plt.show();"
      ]
    },
    {
      "cell_type": "code",
      "execution_count": 108,
      "metadata": {
        "colab": {
          "base_uri": "https://localhost:8080/",
          "height": 0
        },
        "id": "MIPygtZexukW",
        "outputId": "b3806ec4-4948-48b5-f3f2-065dba9c3f41"
      },
      "outputs": [
        {
          "output_type": "execute_result",
          "data": {
            "text/plain": [
              "0    0.000000\n",
              "1    0.000000\n",
              "2    0.000004\n",
              "3    0.000000\n",
              "4    0.000000\n",
              "Name: outdegree_centrality_destination, dtype: float64"
            ]
          },
          "metadata": {},
          "execution_count": 108
        }
      ],
      "source": [
        "train_subset['outdegree_centrality_destination'] = train_subset['destination_node'].apply(get_outdegree_centrality)\n",
        "train_subset['outdegree_centrality_destination'].head()"
      ]
    },
    {
      "cell_type": "code",
      "execution_count": 109,
      "metadata": {
        "colab": {
          "base_uri": "https://localhost:8080/",
          "height": 385
        },
        "id": "waQPbgEfxukW",
        "outputId": "d366af8e-00af-4215-837c-b588fdf85feb"
      },
      "outputs": [
        {
          "output_type": "display_data",
          "data": {
            "text/plain": [
              "<Figure size 368x360 with 1 Axes>"
            ],
            "image/png": "[encoded data removed]"
          },
          "metadata": {
            "needs_background": "light"
          }
        }
      ],
      "source": [
        "#Displaying data in form of grid using Facetgrid \n",
        "sns.FacetGrid(train_subset, height=5) \\\n",
        "   .map(sns.distplot, \"outdegree_centrality_destination\") \\\n",
        "   .add_legend();\n",
        "plt.title(\"Distribution plot for outdegree_centrality_destination\")#Distribution Plot\n",
        "plt.show();"
      ]
    },
    {
      "cell_type": "code",
      "execution_count": 110,
      "metadata": {
        "id": "I9iZ9nK7UwZL"
      },
      "outputs": [],
      "source": [
        "#Defining preferential_attachment_followees function\n",
        "def preferential_attachment_followees(a,b):\n",
        "    try:\n",
        "        if len(set(graph.successors(a))) == 0  | len(set(graph.successors(b))) == 0:\n",
        "            return 0\n",
        "        score = len(set(graph.successors(a)))*len(set(graph.successors(b)))                             \n",
        "    except:\n",
        "        return 0\n",
        "    return score"
      ]
    },
    {
      "cell_type": "code",
      "execution_count": 111,
      "metadata": {
        "id": "WTPzUq4webnC"
      },
      "outputs": [],
      "source": [
        "##Defining preferential_attachment_followers function\n",
        "def preferential_attachment_followers(a,b):\n",
        "    try:\n",
        "        if len(set(graph.predecessors(a))) == 0  | len(set(graph.predecessors(b))) == 0:\n",
        "            return 0\n",
        "        score = len(set(graph.predecessors(a)))*len(set(graph.predecessors(b)))                             \n",
        "    except:\n",
        "        return 0\n",
        "    return score"
      ]
    },
    {
      "cell_type": "code",
      "execution_count": 112,
      "metadata": {
        "id": "aZKWr6cMejDD"
      },
      "outputs": [],
      "source": [
        "train_subset['preferential_attachment_followers'] = train_subset.apply(lambda row:\n",
        "                                            preferential_attachment_followers(row['source_node'],row['destination_node']),axis=1)"
      ]
    },
    {
      "cell_type": "code",
      "execution_count": 113,
      "metadata": {
        "colab": {
          "base_uri": "https://localhost:8080/",
          "height": 0
        },
        "id": "6cYjJtjoejh2",
        "outputId": "0ed21f0c-97e7-4095-a40f-d7767da9aa3f"
      },
      "outputs": [
        {
          "output_type": "execute_result",
          "data": {
            "text/plain": [
              "0    3\n",
              "1    2\n",
              "2    2\n",
              "3    0\n",
              "4    0\n",
              "Name: preferential_attachment_followers, dtype: int64"
            ]
          },
          "metadata": {},
          "execution_count": 113
        }
      ],
      "source": [
        "train_subset['preferential_attachment_followers'].head()"
      ]
    },
    {
      "cell_type": "code",
      "execution_count": 114,
      "metadata": {
        "colab": {
          "base_uri": "https://localhost:8080/",
          "height": 385
        },
        "id": "NYqpXtTTejkc",
        "outputId": "3b0cc9f0-6972-43a8-8f91-eb6970136a45"
      },
      "outputs": [
        {
          "output_type": "display_data",
          "data": {
            "text/plain": [
              "<Figure size 368x360 with 1 Axes>"
            ],
            "image/png": "[encoded data removed]"
          },
          "metadata": {
            "needs_background": "light"
          }
        }
      ],
      "source": [
        "#Displaying data in form of grid using Facetgrid \n",
        "sns.FacetGrid(train_subset, height=5) \\\n",
        "   .map(sns.distplot, \"preferential_attachment_followers\") \\\n",
        "   .add_legend();\n",
        "plt.title(\"Distribution plot for preferential_attachment_followers\")#Distribution Plot\n",
        "plt.show();"
      ]
    },
    {
      "cell_type": "code",
      "execution_count": 115,
      "metadata": {
        "id": "ulGrIceOfQSQ"
      },
      "outputs": [],
      "source": [
        "train_subset['preferential_attachment_followees'] = train_subset.apply(lambda row:\n",
        "                                            preferential_attachment_followees(row['source_node'],row['destination_node']),axis=1)"
      ]
    },
    {
      "cell_type": "code",
      "execution_count": 116,
      "metadata": {
        "colab": {
          "base_uri": "https://localhost:8080/",
          "height": 0
        },
        "id": "IjIMWrlKfYbS",
        "outputId": "3a5f6d59-6fdb-45c7-c77a-412823c10293"
      },
      "outputs": [
        {
          "output_type": "execute_result",
          "data": {
            "text/plain": [
              "0     0\n",
              "1     0\n",
              "2    12\n",
              "3     0\n",
              "4     0\n",
              "Name: preferential_attachment_followees, dtype: int64"
            ]
          },
          "metadata": {},
          "execution_count": 116
        }
      ],
      "source": [
        "train_subset['preferential_attachment_followees'].head()"
      ]
    },
    {
      "cell_type": "code",
      "execution_count": 117,
      "metadata": {
        "colab": {
          "base_uri": "https://localhost:8080/",
          "height": 385
        },
        "id": "S_J4wBwmfJLs",
        "outputId": "bb2125b8-3105-4477-ccc8-cfcc33ce5bb0"
      },
      "outputs": [
        {
          "output_type": "display_data",
          "data": {
            "text/plain": [
              "<Figure size 368x360 with 1 Axes>"
            ],
            "image/png": "[encoded data removed]"
          },
          "metadata": {
            "needs_background": "light"
          }
        }
      ],
      "source": [
        "#Displaying data in form of grid using Facetgrid \n",
        "sns.FacetGrid(train_subset, height=5) \\\n",
        "   .map(sns.distplot, \"preferential_attachment_followees\") \\\n",
        "   .add_legend();\n",
        "plt.title(\"Distribution plot for preferential_attachment_followees\")#Distribution Plot\n",
        "plt.show();"
      ]
    },
    {
      "cell_type": "code",
      "execution_count": 118,
      "metadata": {
        "colab": {
          "base_uri": "https://localhost:8080/",
          "height": 300
        },
        "id": "LYTJW0PofQVI",
        "outputId": "f08ce21e-4ce7-447a-cc99-b0a59c4c2586"
      },
      "outputs": [
        {
          "output_type": "execute_result",
          "data": {
            "text/plain": [
              "   source_node  destination_node  num_of_source_followers  \\\n",
              "0            1            690569                        1   \n",
              "1            1            315892                        1   \n",
              "2            1            189226                        1   \n",
              "3            2            834328                        0   \n",
              "4            2           1615927                        0   \n",
              "\n",
              "   num_of_source_followees  num_of_destination_followers  \\\n",
              "0                        3                             3   \n",
              "1                        3                             2   \n",
              "2                        3                             2   \n",
              "3                        6                             5   \n",
              "4                        6                             2   \n",
              "\n",
              "   num_of_destination_followees  num_of_common_followers  \\\n",
              "0                             0                        1   \n",
              "1                             0                        0   \n",
              "2                             4                        0   \n",
              "3                             0                        0   \n",
              "4                             0                        0   \n",
              "\n",
              "   num_of_common_followees  jaccard_similarity_followers  \\\n",
              "0                        0                      0.333333   \n",
              "1                        0                      0.000000   \n",
              "2                        1                      0.000000   \n",
              "3                        0                      0.000000   \n",
              "4                        0                      0.000000   \n",
              "\n",
              "   jaccard_similarity_followees  ...  hit_authorities_source  \\\n",
              "0                      0.000000  ...            2.398910e-21   \n",
              "1                      0.000000  ...            2.398910e-21   \n",
              "2                      0.166667  ...            2.398910e-21   \n",
              "3                      0.000000  ...            1.496101e-21   \n",
              "4                      0.000000  ...            1.496101e-21   \n",
              "\n",
              "   hit_authorities_destination  hit_hubs_source  hit_Hubs_destination  \\\n",
              "0                -0.000000e+00     2.660412e-22          5.770346e-20   \n",
              "1                -0.000000e+00     2.660412e-22         -4.305351e-22   \n",
              "2                 2.736062e-21     2.660412e-22         -8.469637e-23   \n",
              "3                -0.000000e+00    -0.000000e+00          4.247012e-22   \n",
              "4                -0.000000e+00    -0.000000e+00          3.714818e-21   \n",
              "\n",
              "   degree_centrality_source  degree_centrality_destination  \\\n",
              "0                  0.000006                       0.000004   \n",
              "1                  0.000006                       0.000003   \n",
              "2                  0.000006                       0.000009   \n",
              "3                  0.000009                       0.000007   \n",
              "4                  0.000009                       0.000003   \n",
              "\n",
              "   outdegree_centrality_source  outdegree_centrality_destination  \\\n",
              "0                     0.000004                          0.000000   \n",
              "1                     0.000004                          0.000000   \n",
              "2                     0.000004                          0.000004   \n",
              "3                     0.000000                          0.000000   \n",
              "4                     0.000000                          0.000000   \n",
              "\n",
              "   preferential_attachment_followers  preferential_attachment_followees  \n",
              "0                                  3                                  0  \n",
              "1                                  2                                  0  \n",
              "2                                  2                                 12  \n",
              "3                                  0                                  0  \n",
              "4                                  0                                  0  \n",
              "\n",
              "[5 rows x 26 columns]"
            ],
            "text/html": [
              "\n",
              "  <div id=\"df-40bc6d20-e817-4a91-a7f9-d2c0c4b903e4\">\n",
              "    <div class=\"colab-df-container\">\n",
              "      <div>\n",
              "<style scoped>\n",
              "    .dataframe tbody tr th:only-of-type {\n",
              "        vertical-align: middle;\n",
              "    }\n",
              "\n",
              "    .dataframe tbody tr th {\n",
              "        vertical-align: top;\n",
              "    }\n",
              "\n",
              "    .dataframe thead th {\n",
              "        text-align: right;\n",
              "    }\n",
              "</style>\n",
              "<table border=\"1\" class=\"dataframe\">\n",
              "  <thead>\n",
              "    <tr style=\"text-align: right;\">\n",
              "      <th></th>\n",
              "      <th>source_node</th>\n",
              "      <th>destination_node</th>\n",
              "      <th>num_of_source_followers</th>\n",
              "      <th>num_of_source_followees</th>\n",
              "      <th>num_of_destination_followers</th>\n",
              "      <th>num_of_destination_followees</th>\n",
              "      <th>num_of_common_followers</th>\n",
              "      <th>num_of_common_followees</th>\n",
              "      <th>jaccard_similarity_followers</th>\n",
              "      <th>jaccard_similarity_followees</th>\n",
              "      <th>...</th>\n",
              "      <th>hit_authorities_source</th>\n",
              "      <th>hit_authorities_destination</th>\n",
              "      <th>hit_hubs_source</th>\n",
              "      <th>hit_Hubs_destination</th>\n",
              "      <th>degree_centrality_source</th>\n",
              "      <th>degree_centrality_destination</th>\n",
              "      <th>outdegree_centrality_source</th>\n",
              "      <th>outdegree_centrality_destination</th>\n",
              "      <th>preferential_attachment_followers</th>\n",
              "      <th>preferential_attachment_followees</th>\n",
              "    </tr>\n",
              "  </thead>\n",
              "  <tbody>\n",
              "    <tr>\n",
              "      <th>0</th>\n",
              "      <td>1</td>\n",
              "      <td>690569</td>\n",
              "      <td>1</td>\n",
              "      <td>3</td>\n",
              "      <td>3</td>\n",
              "      <td>0</td>\n",
              "      <td>1</td>\n",
              "      <td>0</td>\n",
              "      <td>0.333333</td>\n",
              "      <td>0.000000</td>\n",
              "      <td>...</td>\n",
              "      <td>2.398910e-21</td>\n",
              "      <td>-0.000000e+00</td>\n",
              "      <td>2.660412e-22</td>\n",
              "      <td>5.770346e-20</td>\n",
              "      <td>0.000006</td>\n",
              "      <td>0.000004</td>\n",
              "      <td>0.000004</td>\n",
              "      <td>0.000000</td>\n",
              "      <td>3</td>\n",
              "      <td>0</td>\n",
              "    </tr>\n",
              "    <tr>\n",
              "      <th>1</th>\n",
              "      <td>1</td>\n",
              "      <td>315892</td>\n",
              "      <td>1</td>\n",
              "      <td>3</td>\n",
              "      <td>2</td>\n",
              "      <td>0</td>\n",
              "      <td>0</td>\n",
              "      <td>0</td>\n",
              "      <td>0.000000</td>\n",
              "      <td>0.000000</td>\n",
              "      <td>...</td>\n",
              "      <td>2.398910e-21</td>\n",
              "      <td>-0.000000e+00</td>\n",
              "      <td>2.660412e-22</td>\n",
              "      <td>-4.305351e-22</td>\n",
              "      <td>0.000006</td>\n",
              "      <td>0.000003</td>\n",
              "      <td>0.000004</td>\n",
              "      <td>0.000000</td>\n",
              "      <td>2</td>\n",
              "      <td>0</td>\n",
              "    </tr>\n",
              "    <tr>\n",
              "      <th>2</th>\n",
              "      <td>1</td>\n",
              "      <td>189226</td>\n",
              "      <td>1</td>\n",
              "      <td>3</td>\n",
              "      <td>2</td>\n",
              "      <td>4</td>\n",
              "      <td>0</td>\n",
              "      <td>1</td>\n",
              "      <td>0.000000</td>\n",
              "      <td>0.166667</td>\n",
              "      <td>...</td>\n",
              "      <td>2.398910e-21</td>\n",
              "      <td>2.736062e-21</td>\n",
              "      <td>2.660412e-22</td>\n",
              "      <td>-8.469637e-23</td>\n",
              "      <td>0.000006</td>\n",
              "      <td>0.000009</td>\n",
              "      <td>0.000004</td>\n",
              "      <td>0.000004</td>\n",
              "      <td>2</td>\n",
              "      <td>12</td>\n",
              "    </tr>\n",
              "    <tr>\n",
              "      <th>3</th>\n",
              "      <td>2</td>\n",
              "      <td>834328</td>\n",
              "      <td>0</td>\n",
              "      <td>6</td>\n",
              "      <td>5</td>\n",
              "      <td>0</td>\n",
              "      <td>0</td>\n",
              "      <td>0</td>\n",
              "      <td>0.000000</td>\n",
              "      <td>0.000000</td>\n",
              "      <td>...</td>\n",
              "      <td>1.496101e-21</td>\n",
              "      <td>-0.000000e+00</td>\n",
              "      <td>-0.000000e+00</td>\n",
              "      <td>4.247012e-22</td>\n",
              "      <td>0.000009</td>\n",
              "      <td>0.000007</td>\n",
              "      <td>0.000000</td>\n",
              "      <td>0.000000</td>\n",
              "      <td>0</td>\n",
              "      <td>0</td>\n",
              "    </tr>\n",
              "    <tr>\n",
              "      <th>4</th>\n",
              "      <td>2</td>\n",
              "      <td>1615927</td>\n",
              "      <td>0</td>\n",
              "      <td>6</td>\n",
              "      <td>2</td>\n",
              "      <td>0</td>\n",
              "      <td>0</td>\n",
              "      <td>0</td>\n",
              "      <td>0.000000</td>\n",
              "      <td>0.000000</td>\n",
              "      <td>...</td>\n",
              "      <td>1.496101e-21</td>\n",
              "      <td>-0.000000e+00</td>\n",
              "      <td>-0.000000e+00</td>\n",
              "      <td>3.714818e-21</td>\n",
              "      <td>0.000009</td>\n",
              "      <td>0.000003</td>\n",
              "      <td>0.000000</td>\n",
              "      <td>0.000000</td>\n",
              "      <td>0</td>\n",
              "      <td>0</td>\n",
              "    </tr>\n",
              "  </tbody>\n",
              "</table>\n",
              "<p>5 rows × 26 columns</p>\n",
              "</div>\n",
              "      <button class=\"colab-df-convert\" onclick=\"convertToInteractive('df-40bc6d20-e817-4a91-a7f9-d2c0c4b903e4')\"\n",
              "              title=\"Convert this dataframe to an interactive table.\"\n",
              "              style=\"display:none;\">\n",
              "        \n",
              "  <svg xmlns=\"http://www.w3.org/2000/svg\" height=\"24px\"viewBox=\"0 0 24 24\"\n",
              "       width=\"24px\">\n",
              "    <path d=\"M0 0h24v24H0V0z\" fill=\"none\"/>\n",
              "    <path d=\"M18.56 5.44l.94 2.06.94-2.06 2.06-.94-2.06-.94-.94-2.06-.94 2.06-2.06.94zm-11 1L8.5 8.5l.94-2.06 2.06-.94-2.06-.94L8.5 2.5l-.94 2.06-2.06.94zm10 10l.94 2.06.94-2.06 2.06-.94-2.06-.94-.94-2.06-.94 2.06-2.06.94z\"/><path d=\"M17.41 7.96l-1.37-1.37c-.4-.4-.92-.59-1.43-.59-.52 0-1.04.2-1.43.59L10.3 9.45l-7.72 7.72c-.78.78-.78 2.05 0 2.83L4 21.41c.39.39.9.59 1.41.59.51 0 1.02-.2 1.41-.59l7.78-7.78 2.81-2.81c.8-.78.8-2.07 0-2.86zM5.41 20L4 18.59l7.72-7.72 1.47 1.35L5.41 20z\"/>\n",
              "  </svg>\n",
              "      </button>\n",
              "      \n",
              "  <style>\n",
              "    .colab-df-container {\n",
              "      display:flex;\n",
              "      flex-wrap:wrap;\n",
              "      gap: 12px;\n",
              "    }\n",
              "\n",
              "    .colab-df-convert {\n",
              "      background-color: #E8F0FE;\n",
              "      border: none;\n",
              "      border-radius: 50%;\n",
              "      cursor: pointer;\n",
              "      display: none;\n",
              "      fill: #1967D2;\n",
              "      height: 32px;\n",
              "      padding: 0 0 0 0;\n",
              "      width: 32px;\n",
              "    }\n",
              "\n",
              "    .colab-df-convert:hover {\n",
              "      background-color: #E2EBFA;\n",
              "      box-shadow: 0px 1px 2px rgba(60, 64, 67, 0.3), 0px 1px 3px 1px rgba(60, 64, 67, 0.15);\n",
              "      fill: #174EA6;\n",
              "    }\n",
              "\n",
              "    [theme=dark] .colab-df-convert {\n",
              "      background-color: #3B4455;\n",
              "      fill: #D2E3FC;\n",
              "    }\n",
              "\n",
              "    [theme=dark] .colab-df-convert:hover {\n",
              "      background-color: #434B5C;\n",
              "      box-shadow: 0px 1px 3px 1px rgba(0, 0, 0, 0.15);\n",
              "      filter: drop-shadow(0px 1px 2px rgba(0, 0, 0, 0.3));\n",
              "      fill: #FFFFFF;\n",
              "    }\n",
              "  </style>\n",
              "\n",
              "      <script>\n",
              "        const buttonEl =\n",
              "          document.querySelector('#df-40bc6d20-e817-4a91-a7f9-d2c0c4b903e4 button.colab-df-convert');\n",
              "        buttonEl.style.display =\n",
              "          google.colab.kernel.accessAllowed ? 'block' : 'none';\n",
              "\n",
              "        async function convertToInteractive(key) {\n",
              "          const element = document.querySelector('#df-40bc6d20-e817-4a91-a7f9-d2c0c4b903e4');\n",
              "          const dataTable =\n",
              "            await google.colab.kernel.invokeFunction('convertToInteractive',\n",
              "                                                     [key], {});\n",
              "          if (!dataTable) return;\n",
              "\n",
              "          const docLinkHtml = 'Like what you see? Visit the ' +\n",
              "            '<a target=\"_blank\" href=https://colab.research.google.com/notebooks/data_table.ipynb>data table notebook</a>'\n",
              "            + ' to learn more about interactive tables.';\n",
              "          element.innerHTML = '';\n",
              "          dataTable['output_type'] = 'display_data';\n",
              "          await google.colab.output.renderOutput(dataTable, element);\n",
              "          const docLink = document.createElement('div');\n",
              "          docLink.innerHTML = docLinkHtml;\n",
              "          element.appendChild(docLink);\n",
              "        }\n",
              "      </script>\n",
              "    </div>\n",
              "  </div>\n",
              "  "
            ]
          },
          "metadata": {},
          "execution_count": 118
        }
      ],
      "source": [
        "train_subset.head(5)"
      ]
    },
    {
      "cell_type": "code",
      "execution_count": 119,
      "metadata": {
        "colab": {
          "base_uri": "https://localhost:8080/",
          "height": 0
        },
        "id": "Z9f1KDJKgVly",
        "outputId": "df007edc-ab07-4e19-f252-6a8ef5c6870b"
      },
      "outputs": [
        {
          "output_type": "execute_result",
          "data": {
            "text/plain": [
              "Index(['source_node', 'destination_node', 'num_of_source_followers',\n",
              "       'num_of_source_followees', 'num_of_destination_followers',\n",
              "       'num_of_destination_followees', 'num_of_common_followers',\n",
              "       'num_of_common_followees', 'jaccard_similarity_followers',\n",
              "       'jaccard_similarity_followees', 'cosine_similarity_followers',\n",
              "       'is_followed_back', 'shorterst_path_length', 'adar_index',\n",
              "       'page_rank_source', 'page_rank_destination', 'hit_authorities_source',\n",
              "       'hit_authorities_destination', 'hit_hubs_source',\n",
              "       'hit_Hubs_destination', 'degree_centrality_source',\n",
              "       'degree_centrality_destination', 'outdegree_centrality_source',\n",
              "       'outdegree_centrality_destination', 'preferential_attachment_followers',\n",
              "       'preferential_attachment_followees'],\n",
              "      dtype='object')"
            ]
          },
          "metadata": {},
          "execution_count": 119
        }
      ],
      "source": [
        "train_subset.columns"
      ]
    },
    {
      "cell_type": "code",
      "execution_count": 120,
      "metadata": {
        "id": "fO4f10A_fQdL"
      },
      "outputs": [],
      "source": [
        "train_subset.drop(['adar_index','preferential_attachment_followees'],axis=1,inplace=True)"
      ]
    },
    {
      "cell_type": "code",
      "execution_count": 121,
      "metadata": {
        "colab": {
          "base_uri": "https://localhost:8080/",
          "height": 0
        },
        "id": "EpFq002BgeoF",
        "outputId": "4a5e991c-06e4-46c7-c7db-1666e3851cfe"
      },
      "outputs": [
        {
          "output_type": "stream",
          "name": "stdout",
          "text": [
            "The final features are:\n",
            "1. source_node\n",
            "2. destination_node\n",
            "3. num_of_source_followers\n",
            "4. num_of_source_followees\n",
            "5. num_of_destination_followers\n",
            "6. num_of_destination_followees\n",
            "7. num_of_common_followers\n",
            "8. num_of_common_followees\n",
            "9. jaccard_similarity_followers\n",
            "10. jaccard_similarity_followees\n",
            "11. cosine_similarity_followers\n",
            "12. is_followed_back\n",
            "13. shorterst_path_length\n",
            "14. page_rank_source\n",
            "15. page_rank_destination\n",
            "16. hit_authorities_source\n",
            "17. hit_authorities_destination\n",
            "18. hit_hubs_source\n",
            "19. hit_Hubs_destination\n",
            "20. degree_centrality_source\n",
            "21. degree_centrality_destination\n",
            "22. outdegree_centrality_source\n",
            "23. outdegree_centrality_destination\n",
            "24. preferential_attachment_followers\n"
          ]
        }
      ],
      "source": [
        "#Displaying Final Features\n",
        "print(\"The final features are:\")\n",
        "for i,column in enumerate(train_subset.columns):\n",
        "    print(\"{}. {}\".format(i+1,column))"
      ]
    }
  ],
  "metadata": {
    "accelerator": "GPU",
    "colab": {
      "provenance": []
    },
    "gpuClass": "standard",
    "kernelspec": {
      "display_name": "Python 3",
      "language": "python",
      "name": "python3"
    },
    "language_info": {
      "codemirror_mode": {
        "name": "ipython",
        "version": 3
      },
      "file_extension": ".py",
      "mimetype": "text/x-python",
      "name": "python",
      "nbconvert_exporter": "python",
      "pygments_lexer": "ipython3",
      "version": "3.7.6"
    }
  },
  "nbformat": 4,
  "nbformat_minor": 0
}